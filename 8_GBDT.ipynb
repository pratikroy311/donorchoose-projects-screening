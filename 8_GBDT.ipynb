{
 "cells": [
  {
   "cell_type": "markdown",
   "metadata": {
    "id": "8u5NhbnEsc2-"
   },
   "source": [
    "#### Response Coding: Example"
   ]
  },
  {
   "cell_type": "markdown",
   "metadata": {
    "id": "HIFWmwHKsc3A"
   },
   "source": [
    "<img src='http://i.imgur.com/TufZptV.jpg' width=700px>\n",
    "\n",
    "> The response tabel is built only on train dataset.\n",
    "> For a category which is not there in train data and present in test data, we will encode them with default values\n",
    "Ex: in our test data if have State: D then we encode it as [0.5, 0.05]"
   ]
  },
  {
   "cell_type": "code",
   "execution_count": 2,
   "metadata": {
    "colab": {
     "base_uri": "https://localhost:8080/"
    },
    "id": "Q0whZCnZjTGj",
    "outputId": "11be377e-06ff-485b-ced8-d59f43a4a36e"
   },
   "outputs": [
    {
     "name": "stdout",
     "output_type": "stream",
     "text": [
      "Mounted at /content/drive\n"
     ]
    }
   ],
   "source": [
    "from google.colab import drive\n",
    "drive.mount('/content/drive')"
   ]
  },
  {
   "cell_type": "code",
   "execution_count": 3,
   "metadata": {
    "colab": {
     "base_uri": "https://localhost:8080/"
    },
    "id": "iffa2_WGsc3H",
    "outputId": "cdeabd60-24dd-49ef-caf1-123d39732ebd"
   },
   "outputs": [
    {
     "name": "stderr",
     "output_type": "stream",
     "text": [
      "/usr/local/lib/python3.6/dist-packages/nltk/twitter/__init__.py:20: UserWarning: The twython library has not been installed. Some functionality from the twitter package will not be available.\n",
      "  warnings.warn(\"The twython library has not been installed. \"\n"
     ]
    },
    {
     "name": "stdout",
     "output_type": "stream",
     "text": [
      "[nltk_data] Downloading package vader_lexicon to /root/nltk_data...\n",
      "neg: 0.01, neu: 0.745, pos: 0.245, compound: 0.9975, "
     ]
    }
   ],
   "source": [
    "import nltk\n",
    "from nltk.sentiment.vader import SentimentIntensityAnalyzer\n",
    "\n",
    "# import nltk\n",
    "nltk.download('vader_lexicon')\n",
    "\n",
    "sid = SentimentIntensityAnalyzer()\n",
    "\n",
    "for_sentiment = 'a person is a person no matter how small dr seuss i teach the smallest students with the biggest enthusiasm \\\n",
    "for learning my students learn in many different ways using all of our senses and multiple intelligences i use a wide range\\\n",
    "of techniques to help all my students succeed students in my class come from a variety of different backgrounds which makes\\\n",
    "for wonderful sharing of experiences and cultures including native americans our school is a caring community of successful \\\n",
    "learners which can be seen through collaborative student project based learning in and out of the classroom kindergarteners \\\n",
    "in my class love to work with hands on materials and have many different opportunities to practice a skill before it is\\\n",
    "mastered having the social skills to work cooperatively with friends is a crucial aspect of the kindergarten curriculum\\\n",
    "montana is the perfect place to learn about agriculture and nutrition my students love to role play in our pretend kitchen\\\n",
    "in the early childhood classroom i have had several kids ask me can we try cooking with real food i will take their idea \\\n",
    "and create common core cooking lessons where we learn important math and writing concepts while cooking delicious healthy \\\n",
    "food for snack time my students will have a grounded appreciation for the work that went into making the food and knowledge \\\n",
    "of where the ingredients came from as well as how it is healthy for their bodies this project would expand our learning of \\\n",
    "nutrition and agricultural cooking recipes by having us peel our own apples to make homemade applesauce make our own bread \\\n",
    "and mix up healthy plants from our classroom garden in the spring we will also create our own cookbooks to be printed and \\\n",
    "shared with families students will gain math and literature skills as well as a life long enjoyment for healthy cooking \\\n",
    "nannan'\n",
    "ss = sid.polarity_scores(for_sentiment)\n",
    "\n",
    "for k in ss:\n",
    "    print('{0}: {1}, '.format(k, ss[k]), end='')\n",
    "\n",
    "# we can use these 4 things as features/attributes (neg, neu, pos, compound)\n",
    "# neg: 0.0, neu: 0.753, pos: 0.247, compound: 0.93"
   ]
  },
  {
   "cell_type": "markdown",
   "metadata": {
    "id": "BOyTl7oKsc3W"
   },
   "source": [
    "<h1>1. GBDT (xgboost/lightgbm) </h1>"
   ]
  },
  {
   "cell_type": "markdown",
   "metadata": {
    "id": "VWge-b2Zsc3Z"
   },
   "source": [
    "## 1.1 Loading Data"
   ]
  },
  {
   "cell_type": "code",
   "execution_count": 4,
   "metadata": {
    "id": "qLmc5ZpIqLmq"
   },
   "outputs": [],
   "source": [
    "import pandas as pd\n",
    "import numpy as np\n",
    "import matplotlib.pyplot as plt\n",
    "from sklearn.model_selection import train_test_split\n",
    "from sklearn.preprocessing import StandardScaler\n",
    "from sklearn.preprocessing import Normalizer\n",
    "from sklearn.feature_extraction.text import TfidfVectorizer\n",
    "from sklearn.feature_extraction.text import CountVectorizer\n",
    "import pickle\n",
    "import tqdm"
   ]
  },
  {
   "cell_type": "code",
   "execution_count": 5,
   "metadata": {
    "id": "WDZFu6-usc3d"
   },
   "outputs": [],
   "source": [
    "path =\"/content/drive/My Drive/Colab Notebooks/data/preprocessed_data.csv\"\n",
    "data = pd.read_csv(path)"
   ]
  },
  {
   "cell_type": "markdown",
   "metadata": {
    "id": "yeWbS1Djnfe3"
   },
   "source": [
    "## Creating Sentiment Features"
   ]
  },
  {
   "cell_type": "code",
   "execution_count": 6,
   "metadata": {
    "colab": {
     "base_uri": "https://localhost:8080/"
    },
    "id": "WWvKs3zmnfe5",
    "outputId": "96826811-acdc-4e43-86a4-2de685d772c3"
   },
   "outputs": [
    {
     "data": {
      "text/plain": [
       "[{'compound': 0.9867, 'neg': 0.013, 'neu': 0.783, 'pos': 0.205},\n",
       " {'compound': 0.9897, 'neg': 0.072, 'neu': 0.68, 'pos': 0.248},\n",
       " {'compound': 0.986, 'neg': 0.017, 'neu': 0.721, 'pos': 0.262},\n",
       " {'compound': 0.9524, 'neg': 0.03, 'neu': 0.783, 'pos': 0.187},\n",
       " {'compound': 0.9873, 'neg': 0.029, 'neu': 0.683, 'pos': 0.288},\n",
       " {'compound': 0.9935, 'neg': 0.013, 'neu': 0.701, 'pos': 0.286},\n",
       " {'compound': 0.9977, 'neg': 0.019, 'neu': 0.577, 'pos': 0.404},\n",
       " {'compound': 0.9964, 'neg': 0.067, 'neu': 0.631, 'pos': 0.302},\n",
       " {'compound': 0.9484, 'neg': 0.063, 'neu': 0.784, 'pos': 0.153},\n",
       " {'compound': 0.9861, 'neg': 0.057, 'neu': 0.708, 'pos': 0.235},\n",
       " {'compound': 0.9976, 'neg': 0.012, 'neu': 0.578, 'pos': 0.41},\n",
       " {'compound': 0.9952, 'neg': 0.034, 'neu': 0.731, 'pos': 0.235},\n",
       " {'compound': 0.9875, 'neg': 0.013, 'neu': 0.669, 'pos': 0.318},\n",
       " {'compound': 0.9955, 'neg': 0.041, 'neu': 0.606, 'pos': 0.353},\n",
       " {'compound': 0.9834, 'neg': 0.018, 'neu': 0.832, 'pos': 0.15},\n",
       " {'compound': 0.9959, 'neg': 0.021, 'neu': 0.691, 'pos': 0.288},\n",
       " {'compound': 0.9899, 'neg': 0.007, 'neu': 0.769, 'pos': 0.224},\n",
       " {'compound': 0.995, 'neg': 0.079, 'neu': 0.661, 'pos': 0.259},\n",
       " {'compound': 0.9946, 'neg': 0.027, 'neu': 0.732, 'pos': 0.242},\n",
       " {'compound': 0.9859, 'neg': 0.044, 'neu': 0.726, 'pos': 0.23},\n",
       " {'compound': 0.9954, 'neg': 0.0, 'neu': 0.609, 'pos': 0.391},\n",
       " {'compound': 0.9931, 'neg': 0.02, 'neu': 0.72, 'pos': 0.259},\n",
       " {'compound': 0.99, 'neg': 0.064, 'neu': 0.66, 'pos': 0.276},\n",
       " {'compound': 0.9841, 'neg': 0.032, 'neu': 0.764, 'pos': 0.203},\n",
       " {'compound': 0.9968, 'neg': 0.011, 'neu': 0.646, 'pos': 0.343},\n",
       " {'compound': 0.9862, 'neg': 0.037, 'neu': 0.651, 'pos': 0.311},\n",
       " {'compound': 0.9877, 'neg': 0.027, 'neu': 0.8, 'pos': 0.174},\n",
       " {'compound': 0.9686, 'neg': 0.09, 'neu': 0.712, 'pos': 0.198},\n",
       " {'compound': 0.9916, 'neg': 0.0, 'neu': 0.719, 'pos': 0.281},\n",
       " {'compound': 0.9299, 'neg': 0.13, 'neu': 0.67, 'pos': 0.2},\n",
       " {'compound': 0.994, 'neg': 0.012, 'neu': 0.798, 'pos': 0.191},\n",
       " {'compound': 0.9938, 'neg': 0.065, 'neu': 0.696, 'pos': 0.239},\n",
       " {'compound': 0.9853, 'neg': 0.026, 'neu': 0.803, 'pos': 0.171},\n",
       " {'compound': 0.9896, 'neg': 0.013, 'neu': 0.749, 'pos': 0.237},\n",
       " {'compound': 0.9967, 'neg': 0.034, 'neu': 0.609, 'pos': 0.358},\n",
       " {'compound': 0.9977, 'neg': 0.007, 'neu': 0.55, 'pos': 0.443},\n",
       " {'compound': 0.9975, 'neg': 0.0, 'neu': 0.637, 'pos': 0.363},\n",
       " {'compound': 0.9941, 'neg': 0.042, 'neu': 0.668, 'pos': 0.29},\n",
       " {'compound': 0.9888, 'neg': 0.042, 'neu': 0.761, 'pos': 0.198},\n",
       " {'compound': 0.9938, 'neg': 0.035, 'neu': 0.638, 'pos': 0.327},\n",
       " {'compound': 0.987, 'neg': 0.091, 'neu': 0.603, 'pos': 0.307},\n",
       " {'compound': 0.9901, 'neg': 0.029, 'neu': 0.62, 'pos': 0.35},\n",
       " {'compound': 0.9776, 'neg': 0.0, 'neu': 0.815, 'pos': 0.185},\n",
       " {'compound': 0.9771, 'neg': 0.051, 'neu': 0.768, 'pos': 0.181},\n",
       " {'compound': 0.9904, 'neg': 0.0, 'neu': 0.699, 'pos': 0.301},\n",
       " {'compound': 0.7269, 'neg': 0.019, 'neu': 0.9, 'pos': 0.082},\n",
       " {'compound': 0.9731, 'neg': 0.073, 'neu': 0.72, 'pos': 0.207},\n",
       " {'compound': 0.9861, 'neg': 0.024, 'neu': 0.75, 'pos': 0.226},\n",
       " {'compound': 0.9837, 'neg': 0.085, 'neu': 0.623, 'pos': 0.292},\n",
       " {'compound': 0.9866, 'neg': 0.01, 'neu': 0.796, 'pos': 0.194},\n",
       " {'compound': 0.9958, 'neg': 0.062, 'neu': 0.644, 'pos': 0.294},\n",
       " {'compound': 0.9873, 'neg': 0.011, 'neu': 0.796, 'pos': 0.193},\n",
       " {'compound': 0.9885, 'neg': 0.024, 'neu': 0.732, 'pos': 0.245},\n",
       " {'compound': 0.9938, 'neg': 0.042, 'neu': 0.617, 'pos': 0.341},\n",
       " {'compound': 0.9936, 'neg': 0.042, 'neu': 0.685, 'pos': 0.272},\n",
       " {'compound': 0.9821, 'neg': 0.025, 'neu': 0.809, 'pos': 0.166},\n",
       " {'compound': 0.9756, 'neg': 0.046, 'neu': 0.74, 'pos': 0.214},\n",
       " {'compound': 0.8316, 'neg': 0.08, 'neu': 0.772, 'pos': 0.148},\n",
       " {'compound': 0.9916, 'neg': 0.05, 'neu': 0.702, 'pos': 0.248},\n",
       " {'compound': 0.9675, 'neg': 0.058, 'neu': 0.751, 'pos': 0.191},\n",
       " {'compound': 0.9958, 'neg': 0.015, 'neu': 0.643, 'pos': 0.342},\n",
       " {'compound': 0.9856, 'neg': 0.081, 'neu': 0.603, 'pos': 0.316},\n",
       " {'compound': 0.9694, 'neg': 0.015, 'neu': 0.824, 'pos': 0.161},\n",
       " {'compound': 0.9917, 'neg': 0.036, 'neu': 0.71, 'pos': 0.254},\n",
       " {'compound': 0.9894, 'neg': 0.016, 'neu': 0.778, 'pos': 0.206},\n",
       " {'compound': 0.9935, 'neg': 0.035, 'neu': 0.558, 'pos': 0.407},\n",
       " {'compound': 0.9956, 'neg': 0.064, 'neu': 0.645, 'pos': 0.291},\n",
       " {'compound': 0.9794, 'neg': 0.026, 'neu': 0.76, 'pos': 0.214},\n",
       " {'compound': 0.998, 'neg': 0.021, 'neu': 0.685, 'pos': 0.294},\n",
       " {'compound': 0.9956, 'neg': 0.064, 'neu': 0.645, 'pos': 0.291},\n",
       " {'compound': 0.9694, 'neg': 0.0, 'neu': 0.864, 'pos': 0.136},\n",
       " {'compound': 0.9922, 'neg': 0.013, 'neu': 0.765, 'pos': 0.222},\n",
       " {'compound': 0.9951, 'neg': 0.024, 'neu': 0.747, 'pos': 0.229},\n",
       " {'compound': 0.9904, 'neg': 0.085, 'neu': 0.636, 'pos': 0.279},\n",
       " {'compound': 0.9873, 'neg': 0.0, 'neu': 0.703, 'pos': 0.297},\n",
       " {'compound': 0.9937, 'neg': 0.03, 'neu': 0.653, 'pos': 0.317},\n",
       " {'compound': 0.9953, 'neg': 0.038, 'neu': 0.723, 'pos': 0.239},\n",
       " {'compound': 0.9901, 'neg': 0.059, 'neu': 0.739, 'pos': 0.202},\n",
       " {'compound': 0.9399, 'neg': 0.012, 'neu': 0.826, 'pos': 0.162},\n",
       " {'compound': 0.8913, 'neg': 0.093, 'neu': 0.739, 'pos': 0.169},\n",
       " {'compound': 0.9586, 'neg': 0.015, 'neu': 0.852, 'pos': 0.133},\n",
       " {'compound': 0.9423, 'neg': 0.033, 'neu': 0.815, 'pos': 0.152},\n",
       " {'compound': 0.9971, 'neg': 0.008, 'neu': 0.699, 'pos': 0.293},\n",
       " {'compound': -0.0299, 'neg': 0.094, 'neu': 0.822, 'pos': 0.084},\n",
       " {'compound': 0.9931, 'neg': 0.058, 'neu': 0.681, 'pos': 0.261},\n",
       " {'compound': 0.9912, 'neg': 0.011, 'neu': 0.736, 'pos': 0.253},\n",
       " {'compound': 0.9955, 'neg': 0.009, 'neu': 0.773, 'pos': 0.218},\n",
       " {'compound': 0.9962, 'neg': 0.038, 'neu': 0.633, 'pos': 0.33},\n",
       " {'compound': 0.9862, 'neg': 0.027, 'neu': 0.657, 'pos': 0.316},\n",
       " {'compound': 0.9079, 'neg': 0.061, 'neu': 0.775, 'pos': 0.164},\n",
       " {'compound': 0.9964, 'neg': 0.008, 'neu': 0.743, 'pos': 0.249},\n",
       " {'compound': 0.9643, 'neg': 0.032, 'neu': 0.848, 'pos': 0.12},\n",
       " {'compound': 0.9793, 'neg': 0.062, 'neu': 0.741, 'pos': 0.197},\n",
       " {'compound': 0.9802, 'neg': 0.047, 'neu': 0.817, 'pos': 0.136},\n",
       " {'compound': 0.9959, 'neg': 0.036, 'neu': 0.718, 'pos': 0.246},\n",
       " {'compound': 0.9858, 'neg': 0.063, 'neu': 0.714, 'pos': 0.224},\n",
       " {'compound': 0.9172, 'neg': 0.025, 'neu': 0.795, 'pos': 0.18},\n",
       " {'compound': 0.967, 'neg': 0.0, 'neu': 0.79, 'pos': 0.21},\n",
       " {'compound': 0.9889, 'neg': 0.04, 'neu': 0.714, 'pos': 0.246},\n",
       " {'compound': 0.9774, 'neg': 0.0, 'neu': 0.795, 'pos': 0.205},\n",
       " {'compound': 0.9954, 'neg': 0.036, 'neu': 0.61, 'pos': 0.354},\n",
       " {'compound': 0.9871, 'neg': 0.033, 'neu': 0.781, 'pos': 0.186},\n",
       " {'compound': 0.9917, 'neg': 0.0, 'neu': 0.75, 'pos': 0.25},\n",
       " {'compound': 0.9709, 'neg': 0.033, 'neu': 0.779, 'pos': 0.188},\n",
       " {'compound': 0.9908, 'neg': 0.0, 'neu': 0.759, 'pos': 0.241},\n",
       " {'compound': 0.9517, 'neg': 0.063, 'neu': 0.726, 'pos': 0.212},\n",
       " {'compound': 0.996, 'neg': 0.035, 'neu': 0.689, 'pos': 0.276},\n",
       " {'compound': 0.9909, 'neg': 0.04, 'neu': 0.672, 'pos': 0.288},\n",
       " {'compound': 0.9646, 'neg': 0.079, 'neu': 0.65, 'pos': 0.272},\n",
       " {'compound': 0.9888, 'neg': 0.02, 'neu': 0.78, 'pos': 0.201},\n",
       " {'compound': 0.9952, 'neg': 0.053, 'neu': 0.667, 'pos': 0.279},\n",
       " {'compound': 0.7103, 'neg': 0.038, 'neu': 0.858, 'pos': 0.103},\n",
       " {'compound': 0.9896, 'neg': 0.028, 'neu': 0.733, 'pos': 0.239},\n",
       " {'compound': 0.996, 'neg': 0.023, 'neu': 0.699, 'pos': 0.278},\n",
       " {'compound': 0.9951, 'neg': 0.094, 'neu': 0.54, 'pos': 0.366},\n",
       " {'compound': 0.9929, 'neg': 0.048, 'neu': 0.675, 'pos': 0.277},\n",
       " {'compound': 0.9729, 'neg': 0.012, 'neu': 0.816, 'pos': 0.171},\n",
       " {'compound': 0.9981, 'neg': 0.034, 'neu': 0.649, 'pos': 0.317},\n",
       " {'compound': 0.9903, 'neg': 0.073, 'neu': 0.661, 'pos': 0.266},\n",
       " {'compound': 0.9831, 'neg': 0.02, 'neu': 0.76, 'pos': 0.221},\n",
       " {'compound': 0.9888, 'neg': 0.088, 'neu': 0.595, 'pos': 0.316},\n",
       " {'compound': 0.981, 'neg': 0.057, 'neu': 0.757, 'pos': 0.186},\n",
       " {'compound': 0.9898, 'neg': 0.018, 'neu': 0.758, 'pos': 0.224},\n",
       " {'compound': 0.9892, 'neg': 0.039, 'neu': 0.721, 'pos': 0.24},\n",
       " {'compound': 0.995, 'neg': 0.044, 'neu': 0.607, 'pos': 0.35},\n",
       " {'compound': 0.9842, 'neg': 0.082, 'neu': 0.605, 'pos': 0.313},\n",
       " {'compound': 0.9889, 'neg': 0.129, 'neu': 0.592, 'pos': 0.279},\n",
       " {'compound': 0.9922, 'neg': 0.0, 'neu': 0.746, 'pos': 0.254},\n",
       " {'compound': 0.9959, 'neg': 0.023, 'neu': 0.702, 'pos': 0.275},\n",
       " {'compound': 0.9169, 'neg': 0.02, 'neu': 0.839, 'pos': 0.141},\n",
       " {'compound': 0.1603, 'neg': 0.044, 'neu': 0.9, 'pos': 0.056},\n",
       " {'compound': 0.9952, 'neg': 0.054, 'neu': 0.563, 'pos': 0.384},\n",
       " {'compound': 0.9788, 'neg': 0.014, 'neu': 0.758, 'pos': 0.227},\n",
       " {'compound': 0.9753, 'neg': 0.067, 'neu': 0.65, 'pos': 0.284},\n",
       " {'compound': 0.9877, 'neg': 0.019, 'neu': 0.738, 'pos': 0.243},\n",
       " {'compound': 0.9894, 'neg': 0.056, 'neu': 0.66, 'pos': 0.284},\n",
       " {'compound': 0.9819, 'neg': 0.011, 'neu': 0.821, 'pos': 0.168},\n",
       " {'compound': 0.9977, 'neg': 0.027, 'neu': 0.67, 'pos': 0.303},\n",
       " {'compound': 0.9938, 'neg': 0.011, 'neu': 0.676, 'pos': 0.313},\n",
       " {'compound': 0.9852, 'neg': 0.0, 'neu': 0.749, 'pos': 0.251},\n",
       " {'compound': 0.8934, 'neg': 0.036, 'neu': 0.808, 'pos': 0.155},\n",
       " {'compound': 0.9952, 'neg': 0.043, 'neu': 0.652, 'pos': 0.304},\n",
       " {'compound': 0.9753, 'neg': 0.0, 'neu': 0.752, 'pos': 0.248},\n",
       " {'compound': 0.9885, 'neg': 0.033, 'neu': 0.656, 'pos': 0.311},\n",
       " {'compound': 0.9888, 'neg': 0.042, 'neu': 0.665, 'pos': 0.293},\n",
       " {'compound': 0.994, 'neg': 0.018, 'neu': 0.602, 'pos': 0.38},\n",
       " {'compound': 0.9937, 'neg': 0.028, 'neu': 0.718, 'pos': 0.254},\n",
       " {'compound': 0.9794, 'neg': 0.08, 'neu': 0.665, 'pos': 0.255},\n",
       " {'compound': 0.9263, 'neg': 0.075, 'neu': 0.775, 'pos': 0.15},\n",
       " {'compound': 0.9837, 'neg': 0.014, 'neu': 0.771, 'pos': 0.215},\n",
       " {'compound': 0.9029, 'neg': 0.07, 'neu': 0.75, 'pos': 0.179},\n",
       " {'compound': 0.9832, 'neg': 0.07, 'neu': 0.663, 'pos': 0.267},\n",
       " {'compound': 0.987, 'neg': 0.092, 'neu': 0.629, 'pos': 0.278},\n",
       " {'compound': 0.9842, 'neg': 0.008, 'neu': 0.783, 'pos': 0.209},\n",
       " {'compound': 0.9538, 'neg': 0.038, 'neu': 0.725, 'pos': 0.237},\n",
       " {'compound': 0.9953, 'neg': 0.05, 'neu': 0.636, 'pos': 0.314},\n",
       " {'compound': 0.9579, 'neg': 0.125, 'neu': 0.645, 'pos': 0.23},\n",
       " {'compound': 0.9878, 'neg': 0.023, 'neu': 0.79, 'pos': 0.187},\n",
       " {'compound': 0.9643, 'neg': 0.04, 'neu': 0.743, 'pos': 0.218},\n",
       " {'compound': 0.9952, 'neg': 0.0, 'neu': 0.617, 'pos': 0.383},\n",
       " {'compound': 0.9616, 'neg': 0.023, 'neu': 0.863, 'pos': 0.114},\n",
       " {'compound': 0.9959, 'neg': 0.008, 'neu': 0.584, 'pos': 0.408},\n",
       " {'compound': 0.9966, 'neg': 0.0, 'neu': 0.609, 'pos': 0.391},\n",
       " {'compound': 0.9961, 'neg': 0.0, 'neu': 0.628, 'pos': 0.372},\n",
       " {'compound': 0.9968, 'neg': 0.048, 'neu': 0.669, 'pos': 0.284},\n",
       " {'compound': 0.977, 'neg': 0.093, 'neu': 0.63, 'pos': 0.277},\n",
       " {'compound': 0.4738, 'neg': 0.14, 'neu': 0.693, 'pos': 0.167},\n",
       " {'compound': 0.9943, 'neg': 0.02, 'neu': 0.582, 'pos': 0.399},\n",
       " {'compound': 0.9853, 'neg': 0.046, 'neu': 0.723, 'pos': 0.231},\n",
       " {'compound': 0.9898, 'neg': 0.043, 'neu': 0.651, 'pos': 0.306},\n",
       " {'compound': 0.9726, 'neg': 0.029, 'neu': 0.783, 'pos': 0.187},\n",
       " {'compound': 0.9977, 'neg': 0.03, 'neu': 0.582, 'pos': 0.387},\n",
       " {'compound': 0.9876, 'neg': 0.032, 'neu': 0.746, 'pos': 0.223},\n",
       " {'compound': 0.9584, 'neg': 0.062, 'neu': 0.781, 'pos': 0.156},\n",
       " {'compound': 0.836, 'neg': 0.048, 'neu': 0.813, 'pos': 0.139},\n",
       " {'compound': 0.8839, 'neg': 0.078, 'neu': 0.754, 'pos': 0.168},\n",
       " {'compound': 0.9918, 'neg': 0.077, 'neu': 0.611, 'pos': 0.313},\n",
       " {'compound': 0.9716, 'neg': 0.012, 'neu': 0.817, 'pos': 0.171},\n",
       " {'compound': 0.9928, 'neg': 0.027, 'neu': 0.62, 'pos': 0.354},\n",
       " {'compound': 0.9517, 'neg': 0.026, 'neu': 0.795, 'pos': 0.179},\n",
       " {'compound': 0.9958, 'neg': 0.058, 'neu': 0.658, 'pos': 0.283},\n",
       " {'compound': 0.9796, 'neg': 0.109, 'neu': 0.66, 'pos': 0.231},\n",
       " {'compound': 0.9959, 'neg': 0.064, 'neu': 0.634, 'pos': 0.302},\n",
       " {'compound': 0.9753, 'neg': 0.029, 'neu': 0.786, 'pos': 0.185},\n",
       " {'compound': 0.9961, 'neg': 0.021, 'neu': 0.589, 'pos': 0.391},\n",
       " {'compound': 0.9864, 'neg': 0.0, 'neu': 0.73, 'pos': 0.27},\n",
       " {'compound': 0.9582, 'neg': 0.098, 'neu': 0.678, 'pos': 0.224},\n",
       " {'compound': 0.9828, 'neg': 0.0, 'neu': 0.801, 'pos': 0.199},\n",
       " {'compound': 0.9948, 'neg': 0.04, 'neu': 0.679, 'pos': 0.281},\n",
       " {'compound': 0.997, 'neg': 0.032, 'neu': 0.66, 'pos': 0.308},\n",
       " {'compound': 0.9792, 'neg': 0.016, 'neu': 0.752, 'pos': 0.232},\n",
       " {'compound': 0.9866, 'neg': 0.0, 'neu': 0.859, 'pos': 0.141},\n",
       " {'compound': 0.9879, 'neg': 0.0, 'neu': 0.727, 'pos': 0.273},\n",
       " {'compound': 0.9965, 'neg': 0.028, 'neu': 0.687, 'pos': 0.286},\n",
       " {'compound': 0.9559, 'neg': 0.04, 'neu': 0.792, 'pos': 0.168},\n",
       " {'compound': 0.9485, 'neg': 0.069, 'neu': 0.718, 'pos': 0.213},\n",
       " {'compound': 0.9967, 'neg': 0.051, 'neu': 0.611, 'pos': 0.337},\n",
       " {'compound': 0.9493, 'neg': 0.151, 'neu': 0.595, 'pos': 0.253},\n",
       " {'compound': 0.9855, 'neg': 0.076, 'neu': 0.727, 'pos': 0.197},\n",
       " {'compound': 0.9925, 'neg': 0.018, 'neu': 0.769, 'pos': 0.213},\n",
       " {'compound': 0.9939, 'neg': 0.019, 'neu': 0.668, 'pos': 0.312},\n",
       " {'compound': 0.9339, 'neg': 0.101, 'neu': 0.721, 'pos': 0.178},\n",
       " {'compound': 0.9961, 'neg': 0.019, 'neu': 0.696, 'pos': 0.285},\n",
       " {'compound': 0.9927, 'neg': 0.072, 'neu': 0.599, 'pos': 0.329},\n",
       " {'compound': 0.9972, 'neg': 0.057, 'neu': 0.639, 'pos': 0.304},\n",
       " {'compound': 0.9946, 'neg': 0.029, 'neu': 0.635, 'pos': 0.336},\n",
       " {'compound': 0.9888, 'neg': 0.046, 'neu': 0.755, 'pos': 0.199},\n",
       " {'compound': 0.9831, 'neg': 0.0, 'neu': 0.821, 'pos': 0.179},\n",
       " {'compound': 0.9601, 'neg': 0.0, 'neu': 0.808, 'pos': 0.192},\n",
       " {'compound': 0.9985, 'neg': 0.038, 'neu': 0.569, 'pos': 0.393},\n",
       " {'compound': 0.9133, 'neg': 0.037, 'neu': 0.839, 'pos': 0.124},\n",
       " {'compound': 0.9956, 'neg': 0.015, 'neu': 0.684, 'pos': 0.301},\n",
       " {'compound': 0.9733, 'neg': 0.047, 'neu': 0.738, 'pos': 0.215},\n",
       " {'compound': 0.9901, 'neg': 0.041, 'neu': 0.684, 'pos': 0.275},\n",
       " {'compound': 0.8803, 'neg': 0.051, 'neu': 0.808, 'pos': 0.142},\n",
       " {'compound': 0.985, 'neg': 0.017, 'neu': 0.803, 'pos': 0.18},\n",
       " {'compound': 0.9957, 'neg': 0.039, 'neu': 0.654, 'pos': 0.307},\n",
       " {'compound': 0.9953, 'neg': 0.031, 'neu': 0.685, 'pos': 0.284},\n",
       " {'compound': 0.9031, 'neg': 0.024, 'neu': 0.834, 'pos': 0.142},\n",
       " {'compound': 0.9535, 'neg': 0.023, 'neu': 0.861, 'pos': 0.116},\n",
       " {'compound': 0.9798, 'neg': 0.0, 'neu': 0.76, 'pos': 0.24},\n",
       " {'compound': 0.9909, 'neg': 0.072, 'neu': 0.632, 'pos': 0.296},\n",
       " {'compound': 0.99, 'neg': 0.08, 'neu': 0.636, 'pos': 0.284},\n",
       " {'compound': 0.9928, 'neg': 0.0, 'neu': 0.725, 'pos': 0.275},\n",
       " {'compound': 0.765, 'neg': 0.121, 'neu': 0.725, 'pos': 0.155},\n",
       " {'compound': 0.9838, 'neg': 0.019, 'neu': 0.809, 'pos': 0.172},\n",
       " {'compound': 0.9899, 'neg': 0.02, 'neu': 0.72, 'pos': 0.26},\n",
       " {'compound': 0.9787, 'neg': 0.0, 'neu': 0.778, 'pos': 0.222},\n",
       " {'compound': 0.9716, 'neg': 0.063, 'neu': 0.685, 'pos': 0.252},\n",
       " {'compound': 0.9964, 'neg': 0.021, 'neu': 0.608, 'pos': 0.371},\n",
       " {'compound': 0.9628, 'neg': 0.04, 'neu': 0.741, 'pos': 0.219},\n",
       " {'compound': 0.9855, 'neg': 0.098, 'neu': 0.69, 'pos': 0.212},\n",
       " {'compound': 0.9974, 'neg': 0.022, 'neu': 0.542, 'pos': 0.437},\n",
       " {'compound': 0.9977, 'neg': 0.0, 'neu': 0.56, 'pos': 0.44},\n",
       " {'compound': 0.4791, 'neg': 0.124, 'neu': 0.732, 'pos': 0.144},\n",
       " {'compound': 0.9948, 'neg': 0.038, 'neu': 0.614, 'pos': 0.348},\n",
       " {'compound': 0.9971, 'neg': 0.011, 'neu': 0.681, 'pos': 0.309},\n",
       " {'compound': 0.9974, 'neg': 0.018, 'neu': 0.698, 'pos': 0.284},\n",
       " {'compound': 0.9919, 'neg': 0.014, 'neu': 0.594, 'pos': 0.392},\n",
       " {'compound': 0.9905, 'neg': 0.073, 'neu': 0.618, 'pos': 0.308},\n",
       " {'compound': 0.9912, 'neg': 0.095, 'neu': 0.579, 'pos': 0.326},\n",
       " {'compound': 0.9825, 'neg': 0.092, 'neu': 0.632, 'pos': 0.276},\n",
       " {'compound': 0.9955, 'neg': 0.012, 'neu': 0.703, 'pos': 0.285},\n",
       " {'compound': 0.9967, 'neg': 0.007, 'neu': 0.598, 'pos': 0.394},\n",
       " {'compound': 0.9571, 'neg': 0.064, 'neu': 0.736, 'pos': 0.2},\n",
       " {'compound': 0.9915, 'neg': 0.042, 'neu': 0.67, 'pos': 0.287},\n",
       " {'compound': 0.9939, 'neg': 0.012, 'neu': 0.757, 'pos': 0.231},\n",
       " {'compound': 0.9856, 'neg': 0.02, 'neu': 0.795, 'pos': 0.185},\n",
       " {'compound': 0.9889, 'neg': 0.013, 'neu': 0.726, 'pos': 0.261},\n",
       " {'compound': 0.9983, 'neg': 0.05, 'neu': 0.571, 'pos': 0.379},\n",
       " {'compound': 0.982, 'neg': 0.078, 'neu': 0.69, 'pos': 0.232},\n",
       " {'compound': 0.8565, 'neg': 0.1, 'neu': 0.726, 'pos': 0.174},\n",
       " {'compound': 0.995, 'neg': 0.048, 'neu': 0.655, 'pos': 0.298},\n",
       " {'compound': 0.9973, 'neg': 0.028, 'neu': 0.636, 'pos': 0.336},\n",
       " {'compound': 0.9896, 'neg': 0.059, 'neu': 0.713, 'pos': 0.228},\n",
       " {'compound': 0.9971, 'neg': 0.021, 'neu': 0.556, 'pos': 0.423},\n",
       " {'compound': 0.9902, 'neg': 0.055, 'neu': 0.643, 'pos': 0.302},\n",
       " {'compound': 0.959, 'neg': 0.051, 'neu': 0.728, 'pos': 0.221},\n",
       " {'compound': 0.8626, 'neg': 0.101, 'neu': 0.731, 'pos': 0.167},\n",
       " {'compound': 0.9611, 'neg': 0.069, 'neu': 0.741, 'pos': 0.19},\n",
       " {'compound': 0.9239, 'neg': 0.128, 'neu': 0.634, 'pos': 0.238},\n",
       " {'compound': 0.9716, 'neg': 0.015, 'neu': 0.804, 'pos': 0.182},\n",
       " {'compound': 0.9803, 'neg': 0.014, 'neu': 0.805, 'pos': 0.181},\n",
       " {'compound': 0.9816, 'neg': 0.011, 'neu': 0.781, 'pos': 0.208},\n",
       " {'compound': 0.985, 'neg': 0.061, 'neu': 0.76, 'pos': 0.179},\n",
       " {'compound': 0.9966, 'neg': 0.02, 'neu': 0.682, 'pos': 0.298},\n",
       " {'compound': 0.9785, 'neg': 0.012, 'neu': 0.796, 'pos': 0.193},\n",
       " {'compound': 0.8413, 'neg': 0.118, 'neu': 0.701, 'pos': 0.181},\n",
       " {'compound': 0.9954, 'neg': 0.031, 'neu': 0.585, 'pos': 0.384},\n",
       " {'compound': 0.9952, 'neg': 0.07, 'neu': 0.642, 'pos': 0.288},\n",
       " {'compound': 0.9869, 'neg': 0.024, 'neu': 0.74, 'pos': 0.236},\n",
       " {'compound': 0.9941, 'neg': 0.05, 'neu': 0.66, 'pos': 0.29},\n",
       " {'compound': 0.962, 'neg': 0.057, 'neu': 0.739, 'pos': 0.204},\n",
       " {'compound': 0.9968, 'neg': 0.011, 'neu': 0.594, 'pos': 0.395},\n",
       " {'compound': 0.9895, 'neg': 0.009, 'neu': 0.693, 'pos': 0.299},\n",
       " {'compound': 0.9974, 'neg': 0.032, 'neu': 0.624, 'pos': 0.343},\n",
       " {'compound': 0.9961, 'neg': 0.062, 'neu': 0.601, 'pos': 0.337},\n",
       " {'compound': 0.9969, 'neg': 0.022, 'neu': 0.652, 'pos': 0.326},\n",
       " {'compound': 0.9823, 'neg': 0.108, 'neu': 0.651, 'pos': 0.242},\n",
       " {'compound': 0.9874, 'neg': 0.023, 'neu': 0.715, 'pos': 0.262},\n",
       " {'compound': 0.9825, 'neg': 0.033, 'neu': 0.804, 'pos': 0.163},\n",
       " {'compound': 0.9781, 'neg': 0.024, 'neu': 0.735, 'pos': 0.241},\n",
       " {'compound': 0.9982, 'neg': 0.028, 'neu': 0.588, 'pos': 0.383},\n",
       " {'compound': 0.9929, 'neg': 0.051, 'neu': 0.61, 'pos': 0.339},\n",
       " {'compound': 0.9985, 'neg': 0.034, 'neu': 0.58, 'pos': 0.386},\n",
       " {'compound': 0.9931, 'neg': 0.007, 'neu': 0.718, 'pos': 0.275},\n",
       " {'compound': 0.9938, 'neg': 0.034, 'neu': 0.727, 'pos': 0.24},\n",
       " {'compound': 0.9909, 'neg': 0.053, 'neu': 0.726, 'pos': 0.221},\n",
       " {'compound': 0.9954, 'neg': 0.0, 'neu': 0.729, 'pos': 0.271},\n",
       " {'compound': 0.9837, 'neg': 0.119, 'neu': 0.579, 'pos': 0.302},\n",
       " {'compound': 0.9879, 'neg': 0.058, 'neu': 0.737, 'pos': 0.205},\n",
       " {'compound': 0.9814, 'neg': 0.019, 'neu': 0.689, 'pos': 0.292},\n",
       " {'compound': 0.994, 'neg': 0.064, 'neu': 0.666, 'pos': 0.27},\n",
       " {'compound': 0.9925, 'neg': 0.046, 'neu': 0.64, 'pos': 0.314},\n",
       " {'compound': 0.9645, 'neg': 0.055, 'neu': 0.77, 'pos': 0.175},\n",
       " {'compound': 0.9935, 'neg': 0.023, 'neu': 0.696, 'pos': 0.281},\n",
       " {'compound': 0.9922, 'neg': 0.0, 'neu': 0.658, 'pos': 0.342},\n",
       " {'compound': 0.9645, 'neg': 0.055, 'neu': 0.77, 'pos': 0.175},\n",
       " {'compound': 0.5267, 'neg': 0.109, 'neu': 0.717, 'pos': 0.174},\n",
       " {'compound': 0.9941, 'neg': 0.044, 'neu': 0.734, 'pos': 0.222},\n",
       " {'compound': 0.9779, 'neg': 0.04, 'neu': 0.765, 'pos': 0.195},\n",
       " {'compound': 0.8901, 'neg': 0.03, 'neu': 0.82, 'pos': 0.15},\n",
       " {'compound': 0.9925, 'neg': 0.063, 'neu': 0.732, 'pos': 0.205},\n",
       " {'compound': 0.9659, 'neg': 0.02, 'neu': 0.822, 'pos': 0.158},\n",
       " {'compound': 0.9935, 'neg': 0.042, 'neu': 0.627, 'pos': 0.331},\n",
       " {'compound': 0.9925, 'neg': 0.041, 'neu': 0.616, 'pos': 0.343},\n",
       " {'compound': 0.8282, 'neg': 0.121, 'neu': 0.68, 'pos': 0.199},\n",
       " {'compound': 0.9947, 'neg': 0.02, 'neu': 0.734, 'pos': 0.246},\n",
       " {'compound': 0.8999, 'neg': 0.014, 'neu': 0.885, 'pos': 0.101},\n",
       " {'compound': 0.9884, 'neg': 0.091, 'neu': 0.604, 'pos': 0.305},\n",
       " {'compound': 0.9954, 'neg': 0.051, 'neu': 0.666, 'pos': 0.283},\n",
       " {'compound': 0.9814, 'neg': 0.044, 'neu': 0.799, 'pos': 0.157},\n",
       " {'compound': 0.9939, 'neg': 0.031, 'neu': 0.702, 'pos': 0.267},\n",
       " {'compound': 0.9961, 'neg': 0.01, 'neu': 0.537, 'pos': 0.453},\n",
       " {'compound': 0.9934, 'neg': 0.014, 'neu': 0.58, 'pos': 0.407},\n",
       " {'compound': 0.9915, 'neg': 0.0, 'neu': 0.798, 'pos': 0.202},\n",
       " {'compound': 0.9895, 'neg': 0.068, 'neu': 0.634, 'pos': 0.298},\n",
       " {'compound': 0.9512, 'neg': 0.072, 'neu': 0.746, 'pos': 0.183},\n",
       " {'compound': 0.9843, 'neg': 0.014, 'neu': 0.743, 'pos': 0.243},\n",
       " {'compound': 0.9948, 'neg': 0.05, 'neu': 0.65, 'pos': 0.3},\n",
       " {'compound': 0.9231, 'neg': 0.049, 'neu': 0.788, 'pos': 0.163},\n",
       " {'compound': 0.9945, 'neg': 0.036, 'neu': 0.673, 'pos': 0.291},\n",
       " {'compound': 0.8456, 'neg': 0.06, 'neu': 0.817, 'pos': 0.123},\n",
       " {'compound': 0.995, 'neg': 0.018, 'neu': 0.715, 'pos': 0.267},\n",
       " {'compound': 0.9732, 'neg': 0.101, 'neu': 0.648, 'pos': 0.251},\n",
       " {'compound': 0.9906, 'neg': 0.041, 'neu': 0.712, 'pos': 0.247},\n",
       " {'compound': 0.9791, 'neg': 0.116, 'neu': 0.639, 'pos': 0.245},\n",
       " {'compound': 0.9917, 'neg': 0.027, 'neu': 0.732, 'pos': 0.241},\n",
       " {'compound': 0.9442, 'neg': 0.077, 'neu': 0.774, 'pos': 0.149},\n",
       " {'compound': 0.9961, 'neg': 0.023, 'neu': 0.631, 'pos': 0.346},\n",
       " {'compound': 0.9823, 'neg': 0.019, 'neu': 0.827, 'pos': 0.154},\n",
       " {'compound': 0.9902, 'neg': 0.047, 'neu': 0.693, 'pos': 0.26},\n",
       " {'compound': 0.9858, 'neg': 0.008, 'neu': 0.745, 'pos': 0.246},\n",
       " {'compound': 0.9578, 'neg': 0.122, 'neu': 0.624, 'pos': 0.254},\n",
       " {'compound': 0.9879, 'neg': 0.04, 'neu': 0.742, 'pos': 0.217},\n",
       " {'compound': 0.9423, 'neg': 0.07, 'neu': 0.745, 'pos': 0.185},\n",
       " {'compound': 0.9871, 'neg': 0.048, 'neu': 0.716, 'pos': 0.236},\n",
       " {'compound': 0.969, 'neg': 0.04, 'neu': 0.774, 'pos': 0.186},\n",
       " {'compound': -0.4434, 'neg': 0.143, 'neu': 0.724, 'pos': 0.133},\n",
       " {'compound': 0.9839, 'neg': 0.012, 'neu': 0.807, 'pos': 0.181},\n",
       " {'compound': 0.8136, 'neg': 0.118, 'neu': 0.678, 'pos': 0.205},\n",
       " {'compound': -0.8481, 'neg': 0.175, 'neu': 0.706, 'pos': 0.119},\n",
       " {'compound': 0.9873, 'neg': 0.0, 'neu': 0.754, 'pos': 0.246},\n",
       " {'compound': 0.9918, 'neg': 0.012, 'neu': 0.742, 'pos': 0.246},\n",
       " {'compound': 0.9858, 'neg': 0.028, 'neu': 0.762, 'pos': 0.21},\n",
       " {'compound': 0.9955, 'neg': 0.027, 'neu': 0.612, 'pos': 0.361},\n",
       " {'compound': 0.9955, 'neg': 0.01, 'neu': 0.719, 'pos': 0.271},\n",
       " {'compound': 0.9931, 'neg': 0.054, 'neu': 0.661, 'pos': 0.285},\n",
       " {'compound': 0.9652, 'neg': 0.036, 'neu': 0.77, 'pos': 0.195},\n",
       " {'compound': 0.9922, 'neg': 0.037, 'neu': 0.673, 'pos': 0.29},\n",
       " {'compound': 0.9967, 'neg': 0.018, 'neu': 0.634, 'pos': 0.348},\n",
       " {'compound': 0.9968, 'neg': 0.044, 'neu': 0.587, 'pos': 0.369},\n",
       " {'compound': 0.9771, 'neg': 0.045, 'neu': 0.688, 'pos': 0.266},\n",
       " {'compound': 0.9908, 'neg': 0.0, 'neu': 0.734, 'pos': 0.266},\n",
       " {'compound': 0.9976, 'neg': 0.018, 'neu': 0.558, 'pos': 0.424},\n",
       " {'compound': 0.9847, 'neg': 0.053, 'neu': 0.735, 'pos': 0.212},\n",
       " {'compound': 0.9867, 'neg': 0.082, 'neu': 0.707, 'pos': 0.211},\n",
       " {'compound': 0.9943, 'neg': 0.042, 'neu': 0.691, 'pos': 0.267},\n",
       " {'compound': 0.9728, 'neg': 0.156, 'neu': 0.566, 'pos': 0.279},\n",
       " {'compound': 0.8225, 'neg': 0.102, 'neu': 0.752, 'pos': 0.146},\n",
       " {'compound': 0.9964, 'neg': 0.064, 'neu': 0.482, 'pos': 0.454},\n",
       " {'compound': 0.9708, 'neg': 0.067, 'neu': 0.754, 'pos': 0.179},\n",
       " {'compound': 0.97, 'neg': 0.068, 'neu': 0.717, 'pos': 0.216},\n",
       " {'compound': 0.9814, 'neg': 0.028, 'neu': 0.794, 'pos': 0.177},\n",
       " {'compound': 0.743, 'neg': 0.068, 'neu': 0.838, 'pos': 0.094},\n",
       " {'compound': 0.9707, 'neg': 0.059, 'neu': 0.757, 'pos': 0.185},\n",
       " {'compound': 0.9899, 'neg': 0.032, 'neu': 0.639, 'pos': 0.329},\n",
       " {'compound': 0.9791, 'neg': 0.063, 'neu': 0.651, 'pos': 0.286},\n",
       " {'compound': 0.9056, 'neg': 0.094, 'neu': 0.75, 'pos': 0.156},\n",
       " {'compound': 0.951, 'neg': 0.042, 'neu': 0.822, 'pos': 0.135},\n",
       " {'compound': 0.9861, 'neg': 0.018, 'neu': 0.782, 'pos': 0.201},\n",
       " {'compound': 0.7986, 'neg': 0.181, 'neu': 0.601, 'pos': 0.218},\n",
       " {'compound': 0.9951, 'neg': 0.053, 'neu': 0.643, 'pos': 0.304},\n",
       " {'compound': 0.9955, 'neg': 0.052, 'neu': 0.669, 'pos': 0.279},\n",
       " {'compound': 0.9948, 'neg': 0.0, 'neu': 0.586, 'pos': 0.414},\n",
       " {'compound': 0.9753, 'neg': 0.023, 'neu': 0.836, 'pos': 0.141},\n",
       " {'compound': 0.9951, 'neg': 0.009, 'neu': 0.766, 'pos': 0.224},\n",
       " {'compound': 0.1027, 'neg': 0.133, 'neu': 0.719, 'pos': 0.147},\n",
       " {'compound': 0.9916, 'neg': 0.026, 'neu': 0.772, 'pos': 0.202},\n",
       " {'compound': 0.9944, 'neg': 0.015, 'neu': 0.594, 'pos': 0.392},\n",
       " {'compound': 0.9826, 'neg': 0.028, 'neu': 0.778, 'pos': 0.194},\n",
       " {'compound': 0.9926, 'neg': 0.0, 'neu': 0.682, 'pos': 0.318},\n",
       " {'compound': 0.9804, 'neg': 0.019, 'neu': 0.791, 'pos': 0.189},\n",
       " {'compound': 0.9953, 'neg': 0.017, 'neu': 0.72, 'pos': 0.262},\n",
       " {'compound': 0.9876, 'neg': 0.035, 'neu': 0.729, 'pos': 0.236},\n",
       " {'compound': 0.8121, 'neg': 0.067, 'neu': 0.776, 'pos': 0.157},\n",
       " {'compound': 0.9962, 'neg': 0.013, 'neu': 0.573, 'pos': 0.414},\n",
       " {'compound': 0.9136, 'neg': 0.054, 'neu': 0.767, 'pos': 0.179},\n",
       " {'compound': 0.9701, 'neg': 0.026, 'neu': 0.729, 'pos': 0.245},\n",
       " {'compound': 0.9884, 'neg': 0.022, 'neu': 0.656, 'pos': 0.322},\n",
       " {'compound': 0.9826, 'neg': 0.023, 'neu': 0.734, 'pos': 0.243},\n",
       " {'compound': 0.9964, 'neg': 0.0, 'neu': 0.69, 'pos': 0.31},\n",
       " {'compound': 0.9783, 'neg': 0.0, 'neu': 0.78, 'pos': 0.22},\n",
       " {'compound': 0.9902, 'neg': 0.022, 'neu': 0.716, 'pos': 0.262},\n",
       " {'compound': 0.9731, 'neg': 0.093, 'neu': 0.685, 'pos': 0.221},\n",
       " {'compound': 0.9991, 'neg': 0.024, 'neu': 0.476, 'pos': 0.499},\n",
       " {'compound': 0.9628, 'neg': 0.045, 'neu': 0.767, 'pos': 0.188},\n",
       " {'compound': 0.982, 'neg': 0.01, 'neu': 0.766, 'pos': 0.225},\n",
       " {'compound': 0.9699, 'neg': 0.047, 'neu': 0.724, 'pos': 0.229},\n",
       " {'compound': 0.9938, 'neg': 0.024, 'neu': 0.679, 'pos': 0.297},\n",
       " {'compound': 0.9337, 'neg': 0.019, 'neu': 0.797, 'pos': 0.184},\n",
       " {'compound': 0.9849, 'neg': 0.048, 'neu': 0.768, 'pos': 0.184},\n",
       " {'compound': 0.9966, 'neg': 0.015, 'neu': 0.727, 'pos': 0.258},\n",
       " {'compound': 0.9246, 'neg': 0.014, 'neu': 0.886, 'pos': 0.101},\n",
       " {'compound': 0.9979, 'neg': 0.068, 'neu': 0.581, 'pos': 0.351},\n",
       " {'compound': 0.9918, 'neg': 0.023, 'neu': 0.707, 'pos': 0.27},\n",
       " {'compound': 0.9897, 'neg': 0.025, 'neu': 0.642, 'pos': 0.333},\n",
       " {'compound': 0.9883, 'neg': 0.056, 'neu': 0.631, 'pos': 0.313},\n",
       " {'compound': 0.9451, 'neg': 0.014, 'neu': 0.814, 'pos': 0.173},\n",
       " {'compound': 0.9879, 'neg': 0.058, 'neu': 0.655, 'pos': 0.287},\n",
       " {'compound': 0.9795, 'neg': 0.039, 'neu': 0.786, 'pos': 0.175},\n",
       " {'compound': 0.9217, 'neg': 0.027, 'neu': 0.853, 'pos': 0.12},\n",
       " {'compound': 0.9956, 'neg': 0.044, 'neu': 0.686, 'pos': 0.27},\n",
       " {'compound': 0.9977, 'neg': 0.034, 'neu': 0.629, 'pos': 0.337},\n",
       " {'compound': 0.9933, 'neg': 0.042, 'neu': 0.672, 'pos': 0.286},\n",
       " {'compound': 0.9895, 'neg': 0.056, 'neu': 0.703, 'pos': 0.241},\n",
       " {'compound': 0.9781, 'neg': 0.025, 'neu': 0.736, 'pos': 0.239},\n",
       " {'compound': 0.9956, 'neg': 0.0, 'neu': 0.703, 'pos': 0.297},\n",
       " {'compound': 0.9977, 'neg': 0.032, 'neu': 0.655, 'pos': 0.313},\n",
       " {'compound': 0.9963, 'neg': 0.019, 'neu': 0.724, 'pos': 0.257},\n",
       " {'compound': 0.9975, 'neg': 0.022, 'neu': 0.704, 'pos': 0.274},\n",
       " {'compound': 0.9957, 'neg': 0.0, 'neu': 0.614, 'pos': 0.386},\n",
       " {'compound': 0.9759, 'neg': 0.097, 'neu': 0.685, 'pos': 0.218},\n",
       " {'compound': 0.9142, 'neg': 0.09, 'neu': 0.699, 'pos': 0.211},\n",
       " {'compound': 0.9875, 'neg': 0.049, 'neu': 0.662, 'pos': 0.289},\n",
       " {'compound': 0.9894, 'neg': 0.034, 'neu': 0.756, 'pos': 0.209},\n",
       " {'compound': 0.9914, 'neg': 0.04, 'neu': 0.683, 'pos': 0.277},\n",
       " {'compound': 0.978, 'neg': 0.032, 'neu': 0.752, 'pos': 0.215},\n",
       " {'compound': 0.9926, 'neg': 0.0, 'neu': 0.732, 'pos': 0.268},\n",
       " {'compound': 0.9939, 'neg': 0.018, 'neu': 0.665, 'pos': 0.317},\n",
       " {'compound': 0.9667, 'neg': 0.044, 'neu': 0.76, 'pos': 0.195},\n",
       " {'compound': 0.9818, 'neg': 0.034, 'neu': 0.738, 'pos': 0.229},\n",
       " {'compound': 0.9929, 'neg': 0.031, 'neu': 0.637, 'pos': 0.332},\n",
       " {'compound': 0.9944, 'neg': 0.041, 'neu': 0.642, 'pos': 0.317},\n",
       " {'compound': 0.9853, 'neg': 0.038, 'neu': 0.787, 'pos': 0.175},\n",
       " {'compound': 0.9967, 'neg': 0.048, 'neu': 0.674, 'pos': 0.278},\n",
       " {'compound': 0.9853, 'neg': 0.037, 'neu': 0.751, 'pos': 0.212},\n",
       " {'compound': 0.9964, 'neg': 0.029, 'neu': 0.687, 'pos': 0.284},\n",
       " {'compound': 0.9893, 'neg': 0.057, 'neu': 0.655, 'pos': 0.288},\n",
       " {'compound': 0.9856, 'neg': 0.017, 'neu': 0.754, 'pos': 0.229},\n",
       " {'compound': 0.9859, 'neg': 0.0, 'neu': 0.733, 'pos': 0.267},\n",
       " {'compound': 0.9961, 'neg': 0.055, 'neu': 0.507, 'pos': 0.438},\n",
       " {'compound': 0.8999, 'neg': 0.092, 'neu': 0.759, 'pos': 0.15},\n",
       " {'compound': 0.9968, 'neg': 0.071, 'neu': 0.606, 'pos': 0.323},\n",
       " {'compound': 0.9939, 'neg': 0.126, 'neu': 0.59, 'pos': 0.284},\n",
       " {'compound': 0.9933, 'neg': 0.05, 'neu': 0.689, 'pos': 0.26},\n",
       " {'compound': 0.9961, 'neg': 0.0, 'neu': 0.626, 'pos': 0.374},\n",
       " {'compound': 0.9905, 'neg': 0.027, 'neu': 0.685, 'pos': 0.288},\n",
       " {'compound': 0.9945, 'neg': 0.01, 'neu': 0.746, 'pos': 0.245},\n",
       " {'compound': 0.9943, 'neg': 0.009, 'neu': 0.792, 'pos': 0.199},\n",
       " {'compound': 0.9836, 'neg': 0.017, 'neu': 0.692, 'pos': 0.29},\n",
       " {'compound': 0.9854, 'neg': 0.055, 'neu': 0.648, 'pos': 0.297},\n",
       " {'compound': 0.9929, 'neg': 0.069, 'neu': 0.625, 'pos': 0.306},\n",
       " {'compound': 0.9948, 'neg': 0.038, 'neu': 0.672, 'pos': 0.29},\n",
       " {'compound': 0.9853, 'neg': 0.084, 'neu': 0.657, 'pos': 0.259},\n",
       " {'compound': 0.9984, 'neg': 0.011, 'neu': 0.607, 'pos': 0.382},\n",
       " {'compound': 0.9485, 'neg': 0.062, 'neu': 0.776, 'pos': 0.162},\n",
       " {'compound': 0.9978, 'neg': 0.055, 'neu': 0.624, 'pos': 0.32},\n",
       " {'compound': 0.982, 'neg': 0.017, 'neu': 0.761, 'pos': 0.222},\n",
       " {'compound': 0.9496, 'neg': 0.038, 'neu': 0.794, 'pos': 0.168},\n",
       " {'compound': 0.9822, 'neg': 0.021, 'neu': 0.749, 'pos': 0.23},\n",
       " {'compound': 0.9891, 'neg': 0.014, 'neu': 0.728, 'pos': 0.258},\n",
       " {'compound': 0.7875, 'neg': 0.065, 'neu': 0.818, 'pos': 0.117},\n",
       " {'compound': 0.9854, 'neg': 0.056, 'neu': 0.647, 'pos': 0.297},\n",
       " {'compound': 0.9958, 'neg': 0.05, 'neu': 0.67, 'pos': 0.28},\n",
       " {'compound': 0.9887, 'neg': 0.033, 'neu': 0.728, 'pos': 0.239},\n",
       " {'compound': 0.9934, 'neg': 0.06, 'neu': 0.694, 'pos': 0.246},\n",
       " {'compound': 0.9891, 'neg': 0.023, 'neu': 0.739, 'pos': 0.238},\n",
       " {'compound': 0.9902, 'neg': 0.0, 'neu': 0.764, 'pos': 0.236},\n",
       " {'compound': 0.9879, 'neg': 0.042, 'neu': 0.714, 'pos': 0.244},\n",
       " {'compound': 0.9771, 'neg': 0.016, 'neu': 0.737, 'pos': 0.247},\n",
       " {'compound': 0.997, 'neg': 0.011, 'neu': 0.604, 'pos': 0.386},\n",
       " {'compound': 0.9957, 'neg': 0.019, 'neu': 0.564, 'pos': 0.417},\n",
       " {'compound': 0.9983, 'neg': 0.023, 'neu': 0.617, 'pos': 0.36},\n",
       " {'compound': 0.9881, 'neg': 0.048, 'neu': 0.644, 'pos': 0.309},\n",
       " {'compound': 0.9963, 'neg': 0.023, 'neu': 0.532, 'pos': 0.444},\n",
       " {'compound': 0.9844, 'neg': 0.031, 'neu': 0.71, 'pos': 0.259},\n",
       " {'compound': 0.9917, 'neg': 0.076, 'neu': 0.619, 'pos': 0.306},\n",
       " {'compound': 0.9803, 'neg': 0.044, 'neu': 0.71, 'pos': 0.246},\n",
       " {'compound': 0.9756, 'neg': 0.041, 'neu': 0.798, 'pos': 0.161},\n",
       " {'compound': 0.9915, 'neg': 0.021, 'neu': 0.697, 'pos': 0.283},\n",
       " {'compound': 0.991, 'neg': 0.025, 'neu': 0.706, 'pos': 0.269},\n",
       " {'compound': 0.9835, 'neg': 0.064, 'neu': 0.725, 'pos': 0.211},\n",
       " {'compound': 0.9947, 'neg': 0.024, 'neu': 0.593, 'pos': 0.383},\n",
       " {'compound': 0.9895, 'neg': 0.115, 'neu': 0.565, 'pos': 0.32},\n",
       " {'compound': 0.9952, 'neg': 0.064, 'neu': 0.615, 'pos': 0.321},\n",
       " {'compound': 0.9979, 'neg': 0.035, 'neu': 0.651, 'pos': 0.314},\n",
       " {'compound': 0.9891, 'neg': 0.009, 'neu': 0.715, 'pos': 0.276},\n",
       " {'compound': 0.9938, 'neg': 0.063, 'neu': 0.576, 'pos': 0.36},\n",
       " {'compound': 0.8747, 'neg': 0.066, 'neu': 0.793, 'pos': 0.141},\n",
       " {'compound': 0.9984, 'neg': 0.057, 'neu': 0.561, 'pos': 0.381},\n",
       " {'compound': 0.7721, 'neg': 0.097, 'neu': 0.76, 'pos': 0.143},\n",
       " {'compound': 0.9872, 'neg': 0.028, 'neu': 0.672, 'pos': 0.3},\n",
       " {'compound': 0.9911, 'neg': 0.016, 'neu': 0.649, 'pos': 0.335},\n",
       " {'compound': 0.9578, 'neg': 0.047, 'neu': 0.749, 'pos': 0.204},\n",
       " {'compound': 0.9803, 'neg': 0.086, 'neu': 0.61, 'pos': 0.305},\n",
       " {'compound': 0.9914, 'neg': 0.039, 'neu': 0.601, 'pos': 0.36},\n",
       " {'compound': 0.9976, 'neg': 0.033, 'neu': 0.651, 'pos': 0.316},\n",
       " {'compound': 0.9965, 'neg': 0.031, 'neu': 0.655, 'pos': 0.314},\n",
       " {'compound': 0.9908, 'neg': 0.056, 'neu': 0.708, 'pos': 0.235},\n",
       " {'compound': 0.99, 'neg': 0.012, 'neu': 0.732, 'pos': 0.256},\n",
       " {'compound': 0.9639, 'neg': 0.047, 'neu': 0.796, 'pos': 0.158},\n",
       " {'compound': 0.9719, 'neg': 0.121, 'neu': 0.606, 'pos': 0.273},\n",
       " {'compound': 0.9898, 'neg': 0.078, 'neu': 0.567, 'pos': 0.354},\n",
       " {'compound': 0.9542, 'neg': 0.093, 'neu': 0.694, 'pos': 0.213},\n",
       " {'compound': 0.99, 'neg': 0.03, 'neu': 0.715, 'pos': 0.255},\n",
       " {'compound': 0.9942, 'neg': 0.053, 'neu': 0.665, 'pos': 0.282},\n",
       " {'compound': 0.9953, 'neg': 0.026, 'neu': 0.692, 'pos': 0.282},\n",
       " {'compound': 0.9964, 'neg': 0.024, 'neu': 0.718, 'pos': 0.258},\n",
       " {'compound': 0.9806, 'neg': 0.053, 'neu': 0.703, 'pos': 0.244},\n",
       " {'compound': 0.9925, 'neg': 0.077, 'neu': 0.581, 'pos': 0.342},\n",
       " {'compound': 0.9733, 'neg': 0.06, 'neu': 0.696, 'pos': 0.243},\n",
       " {'compound': 0.9879, 'neg': 0.039, 'neu': 0.698, 'pos': 0.263},\n",
       " {'compound': 0.9888, 'neg': 0.0, 'neu': 0.68, 'pos': 0.32},\n",
       " {'compound': 0.9882, 'neg': 0.025, 'neu': 0.799, 'pos': 0.176},\n",
       " {'compound': 0.9879, 'neg': 0.034, 'neu': 0.712, 'pos': 0.254},\n",
       " {'compound': 0.9968, 'neg': 0.0, 'neu': 0.519, 'pos': 0.481},\n",
       " {'compound': 0.9971, 'neg': 0.041, 'neu': 0.641, 'pos': 0.318},\n",
       " {'compound': 0.8491, 'neg': 0.067, 'neu': 0.779, 'pos': 0.154},\n",
       " {'compound': 0.9206, 'neg': 0.065, 'neu': 0.761, 'pos': 0.174},\n",
       " {'compound': 0.9839, 'neg': 0.075, 'neu': 0.769, 'pos': 0.157},\n",
       " {'compound': 0.9719, 'neg': 0.037, 'neu': 0.734, 'pos': 0.229},\n",
       " {'compound': 0.9786, 'neg': 0.027, 'neu': 0.756, 'pos': 0.217},\n",
       " {'compound': 0.9816, 'neg': 0.095, 'neu': 0.593, 'pos': 0.312},\n",
       " {'compound': 0.9889, 'neg': 0.029, 'neu': 0.743, 'pos': 0.228},\n",
       " {'compound': 0.9842, 'neg': 0.0, 'neu': 0.727, 'pos': 0.273},\n",
       " {'compound': 0.9732, 'neg': 0.026, 'neu': 0.785, 'pos': 0.189},\n",
       " {'compound': 0.9954, 'neg': 0.0, 'neu': 0.714, 'pos': 0.286},\n",
       " {'compound': 0.9953, 'neg': 0.014, 'neu': 0.747, 'pos': 0.239},\n",
       " {'compound': 0.9458, 'neg': 0.063, 'neu': 0.722, 'pos': 0.215},\n",
       " {'compound': 0.9939, 'neg': 0.043, 'neu': 0.661, 'pos': 0.296},\n",
       " {'compound': 0.908, 'neg': 0.079, 'neu': 0.764, 'pos': 0.157},\n",
       " {'compound': 0.9972, 'neg': 0.026, 'neu': 0.524, 'pos': 0.45},\n",
       " {'compound': 0.9929, 'neg': 0.054, 'neu': 0.599, 'pos': 0.347},\n",
       " {'compound': 0.9924, 'neg': 0.05, 'neu': 0.756, 'pos': 0.195},\n",
       " {'compound': 0.9826, 'neg': 0.056, 'neu': 0.644, 'pos': 0.3},\n",
       " {'compound': 0.9828, 'neg': 0.072, 'neu': 0.726, 'pos': 0.202},\n",
       " {'compound': 0.9932, 'neg': 0.057, 'neu': 0.723, 'pos': 0.219},\n",
       " {'compound': 0.9864, 'neg': 0.095, 'neu': 0.692, 'pos': 0.213},\n",
       " {'compound': 0.9976, 'neg': 0.0, 'neu': 0.67, 'pos': 0.33},\n",
       " {'compound': 0.9816, 'neg': 0.076, 'neu': 0.749, 'pos': 0.175},\n",
       " {'compound': 0.9522, 'neg': 0.0, 'neu': 0.846, 'pos': 0.154},\n",
       " {'compound': 0.9975, 'neg': 0.053, 'neu': 0.587, 'pos': 0.361},\n",
       " {'compound': 0.9692, 'neg': 0.043, 'neu': 0.765, 'pos': 0.192},\n",
       " {'compound': 0.7938, 'neg': 0.055, 'neu': 0.835, 'pos': 0.11},\n",
       " {'compound': 0.9798, 'neg': 0.069, 'neu': 0.75, 'pos': 0.181},\n",
       " {'compound': 0.9952, 'neg': 0.048, 'neu': 0.646, 'pos': 0.306},\n",
       " {'compound': 0.9953, 'neg': 0.027, 'neu': 0.746, 'pos': 0.227},\n",
       " {'compound': 0.9429, 'neg': 0.065, 'neu': 0.771, 'pos': 0.164},\n",
       " {'compound': 0.9889, 'neg': 0.031, 'neu': 0.724, 'pos': 0.245},\n",
       " {'compound': 0.9941, 'neg': 0.086, 'neu': 0.621, 'pos': 0.293},\n",
       " {'compound': 0.9822, 'neg': 0.13, 'neu': 0.523, 'pos': 0.347},\n",
       " {'compound': 0.9501, 'neg': 0.08, 'neu': 0.729, 'pos': 0.19},\n",
       " {'compound': 0.9246, 'neg': 0.058, 'neu': 0.788, 'pos': 0.155},\n",
       " {'compound': 0.999, 'neg': 0.017, 'neu': 0.595, 'pos': 0.388},\n",
       " {'compound': 0.9919, 'neg': 0.018, 'neu': 0.786, 'pos': 0.196},\n",
       " {'compound': 0.9946, 'neg': 0.023, 'neu': 0.69, 'pos': 0.288},\n",
       " {'compound': 0.9956, 'neg': 0.038, 'neu': 0.631, 'pos': 0.331},\n",
       " {'compound': 0.9926, 'neg': 0.089, 'neu': 0.617, 'pos': 0.293},\n",
       " {'compound': 0.9943, 'neg': 0.042, 'neu': 0.696, 'pos': 0.262},\n",
       " {'compound': 0.9926, 'neg': 0.062, 'neu': 0.629, 'pos': 0.309},\n",
       " {'compound': 0.9971, 'neg': 0.011, 'neu': 0.661, 'pos': 0.328},\n",
       " {'compound': 0.9927, 'neg': 0.041, 'neu': 0.735, 'pos': 0.225},\n",
       " {'compound': 0.9892, 'neg': 0.107, 'neu': 0.651, 'pos': 0.242},\n",
       " {'compound': 0.5994, 'neg': 0.039, 'neu': 0.881, 'pos': 0.08},\n",
       " {'compound': 0.9889, 'neg': 0.151, 'neu': 0.598, 'pos': 0.251},\n",
       " {'compound': 0.9973, 'neg': 0.048, 'neu': 0.593, 'pos': 0.358},\n",
       " {'compound': 0.9911, 'neg': 0.051, 'neu': 0.712, 'pos': 0.238},\n",
       " {'compound': 0.9957, 'neg': 0.062, 'neu': 0.557, 'pos': 0.381},\n",
       " {'compound': 0.9889, 'neg': 0.036, 'neu': 0.695, 'pos': 0.269},\n",
       " {'compound': 0.9911, 'neg': 0.014, 'neu': 0.789, 'pos': 0.198},\n",
       " {'compound': 0.9963, 'neg': 0.065, 'neu': 0.636, 'pos': 0.3},\n",
       " {'compound': 0.996, 'neg': 0.016, 'neu': 0.617, 'pos': 0.367},\n",
       " {'compound': 0.994, 'neg': 0.064, 'neu': 0.695, 'pos': 0.241},\n",
       " {'compound': 0.9927, 'neg': 0.0, 'neu': 0.701, 'pos': 0.299},\n",
       " {'compound': 0.9916, 'neg': 0.024, 'neu': 0.696, 'pos': 0.28},\n",
       " {'compound': 0.9138, 'neg': 0.168, 'neu': 0.621, 'pos': 0.212},\n",
       " {'compound': 0.9886, 'neg': 0.084, 'neu': 0.687, 'pos': 0.228},\n",
       " {'compound': 0.9897, 'neg': 0.0, 'neu': 0.773, 'pos': 0.227},\n",
       " {'compound': 0.9875, 'neg': 0.082, 'neu': 0.657, 'pos': 0.26},\n",
       " {'compound': 0.9923, 'neg': 0.0, 'neu': 0.669, 'pos': 0.331},\n",
       " {'compound': 0.9889, 'neg': 0.035, 'neu': 0.733, 'pos': 0.232},\n",
       " {'compound': 0.9628, 'neg': 0.024, 'neu': 0.834, 'pos': 0.142},\n",
       " {'compound': 0.9909, 'neg': 0.047, 'neu': 0.67, 'pos': 0.283},\n",
       " {'compound': 0.9947, 'neg': 0.0, 'neu': 0.692, 'pos': 0.308},\n",
       " {'compound': 0.9894, 'neg': 0.07, 'neu': 0.675, 'pos': 0.255},\n",
       " {'compound': 0.9684, 'neg': 0.109, 'neu': 0.694, 'pos': 0.198},\n",
       " {'compound': 0.9965, 'neg': 0.044, 'neu': 0.695, 'pos': 0.26},\n",
       " {'compound': 0.9423, 'neg': 0.059, 'neu': 0.778, 'pos': 0.163},\n",
       " {'compound': 0.9931, 'neg': 0.0, 'neu': 0.753, 'pos': 0.247},\n",
       " {'compound': 0.9237, 'neg': 0.096, 'neu': 0.758, 'pos': 0.146},\n",
       " {'compound': 0.9957, 'neg': 0.029, 'neu': 0.61, 'pos': 0.361},\n",
       " {'compound': 0.9781, 'neg': 0.015, 'neu': 0.762, 'pos': 0.223},\n",
       " {'compound': 0.8555, 'neg': 0.07, 'neu': 0.796, 'pos': 0.134},\n",
       " {'compound': 0.9909, 'neg': 0.088, 'neu': 0.648, 'pos': 0.264},\n",
       " {'compound': 0.9965, 'neg': 0.023, 'neu': 0.66, 'pos': 0.317},\n",
       " {'compound': 0.9925, 'neg': 0.0, 'neu': 0.672, 'pos': 0.328},\n",
       " {'compound': 0.9571, 'neg': 0.0, 'neu': 0.823, 'pos': 0.177},\n",
       " {'compound': 0.9769, 'neg': 0.027, 'neu': 0.763, 'pos': 0.211},\n",
       " {'compound': 0.9652, 'neg': 0.014, 'neu': 0.853, 'pos': 0.134},\n",
       " {'compound': 0.8934, 'neg': 0.076, 'neu': 0.755, 'pos': 0.168},\n",
       " {'compound': 0.972, 'neg': 0.101, 'neu': 0.674, 'pos': 0.226},\n",
       " {'compound': 0.0067, 'neg': 0.129, 'neu': 0.746, 'pos': 0.125},\n",
       " {'compound': 0.6621, 'neg': 0.11, 'neu': 0.755, 'pos': 0.136},\n",
       " {'compound': 0.9918, 'neg': 0.065, 'neu': 0.7, 'pos': 0.234},\n",
       " {'compound': 0.9953, 'neg': 0.049, 'neu': 0.681, 'pos': 0.269},\n",
       " {'compound': 0.9774, 'neg': 0.055, 'neu': 0.763, 'pos': 0.182},\n",
       " {'compound': 0.9915, 'neg': 0.0, 'neu': 0.684, 'pos': 0.316},\n",
       " {'compound': 0.9944, 'neg': 0.09, 'neu': 0.567, 'pos': 0.342},\n",
       " {'compound': 0.9952, 'neg': 0.047, 'neu': 0.673, 'pos': 0.28},\n",
       " {'compound': 0.9862, 'neg': 0.0, 'neu': 0.834, 'pos': 0.166},\n",
       " {'compound': 0.9887, 'neg': 0.062, 'neu': 0.733, 'pos': 0.205},\n",
       " {'compound': 0.9864, 'neg': 0.007, 'neu': 0.793, 'pos': 0.2},\n",
       " {'compound': 0.9944, 'neg': 0.024, 'neu': 0.553, 'pos': 0.423},\n",
       " {'compound': 0.9448, 'neg': 0.067, 'neu': 0.773, 'pos': 0.16},\n",
       " {'compound': 0.9929, 'neg': 0.079, 'neu': 0.593, 'pos': 0.328},\n",
       " {'compound': 0.9846, 'neg': 0.095, 'neu': 0.596, 'pos': 0.309},\n",
       " {'compound': 0.975, 'neg': 0.017, 'neu': 0.76, 'pos': 0.223},\n",
       " {'compound': 0.9743, 'neg': 0.054, 'neu': 0.76, 'pos': 0.186},\n",
       " {'compound': 0.9962, 'neg': 0.016, 'neu': 0.608, 'pos': 0.376},\n",
       " {'compound': 0.9923, 'neg': 0.032, 'neu': 0.728, 'pos': 0.24},\n",
       " {'compound': 0.9686, 'neg': 0.061, 'neu': 0.702, 'pos': 0.237},\n",
       " {'compound': 0.991, 'neg': 0.021, 'neu': 0.734, 'pos': 0.245},\n",
       " {'compound': 0.9979, 'neg': 0.041, 'neu': 0.496, 'pos': 0.463},\n",
       " {'compound': 0.9975, 'neg': 0.03, 'neu': 0.59, 'pos': 0.379},\n",
       " {'compound': 0.9881, 'neg': 0.033, 'neu': 0.736, 'pos': 0.231},\n",
       " {'compound': 0.9836, 'neg': 0.102, 'neu': 0.694, 'pos': 0.204},\n",
       " {'compound': 0.969, 'neg': 0.051, 'neu': 0.767, 'pos': 0.182},\n",
       " {'compound': 0.9886, 'neg': 0.046, 'neu': 0.711, 'pos': 0.243},\n",
       " {'compound': 0.958, 'neg': 0.105, 'neu': 0.717, 'pos': 0.179},\n",
       " {'compound': 0.9957, 'neg': 0.0, 'neu': 0.633, 'pos': 0.367},\n",
       " {'compound': 0.9842, 'neg': 0.0, 'neu': 0.682, 'pos': 0.318},\n",
       " {'compound': 0.8555, 'neg': 0.039, 'neu': 0.865, 'pos': 0.096},\n",
       " {'compound': 0.994, 'neg': 0.022, 'neu': 0.708, 'pos': 0.27},\n",
       " {'compound': 0.9948, 'neg': 0.034, 'neu': 0.662, 'pos': 0.304},\n",
       " {'compound': 0.9552, 'neg': 0.0, 'neu': 0.821, 'pos': 0.179},\n",
       " {'compound': 0.9826, 'neg': 0.09, 'neu': 0.63, 'pos': 0.28},\n",
       " {'compound': 0.9946, 'neg': 0.032, 'neu': 0.689, 'pos': 0.278},\n",
       " {'compound': 0.9847, 'neg': 0.016, 'neu': 0.759, 'pos': 0.225},\n",
       " {'compound': 0.9931, 'neg': 0.028, 'neu': 0.743, 'pos': 0.228},\n",
       " {'compound': 0.9955, 'neg': 0.0, 'neu': 0.601, 'pos': 0.399},\n",
       " {'compound': 0.9979, 'neg': 0.023, 'neu': 0.561, 'pos': 0.416},\n",
       " {'compound': 0.9873, 'neg': 0.007, 'neu': 0.761, 'pos': 0.232},\n",
       " {'compound': 0.9485, 'neg': 0.052, 'neu': 0.755, 'pos': 0.194},\n",
       " {'compound': 0.9952, 'neg': 0.017, 'neu': 0.594, 'pos': 0.389},\n",
       " {'compound': 0.968, 'neg': 0.03, 'neu': 0.784, 'pos': 0.186},\n",
       " {'compound': 0.9855, 'neg': 0.053, 'neu': 0.681, 'pos': 0.265},\n",
       " {'compound': 0.9983, 'neg': 0.0, 'neu': 0.594, 'pos': 0.406},\n",
       " {'compound': 0.9933, 'neg': 0.022, 'neu': 0.686, 'pos': 0.292},\n",
       " {'compound': 0.9911, 'neg': 0.02, 'neu': 0.737, 'pos': 0.243},\n",
       " {'compound': 0.9886, 'neg': 0.046, 'neu': 0.756, 'pos': 0.199},\n",
       " {'compound': 0.9957, 'neg': 0.031, 'neu': 0.629, 'pos': 0.34},\n",
       " {'compound': 0.9917, 'neg': 0.01, 'neu': 0.746, 'pos': 0.244},\n",
       " {'compound': 0.9825, 'neg': 0.021, 'neu': 0.73, 'pos': 0.249},\n",
       " {'compound': 0.9939, 'neg': 0.033, 'neu': 0.693, 'pos': 0.274},\n",
       " {'compound': -0.2263, 'neg': 0.117, 'neu': 0.798, 'pos': 0.085},\n",
       " {'compound': 0.9953, 'neg': 0.0, 'neu': 0.659, 'pos': 0.341},\n",
       " {'compound': 0.9941, 'neg': 0.078, 'neu': 0.529, 'pos': 0.393},\n",
       " {'compound': 0.9972, 'neg': 0.083, 'neu': 0.583, 'pos': 0.335},\n",
       " {'compound': 0.9892, 'neg': 0.0, 'neu': 0.789, 'pos': 0.211},\n",
       " {'compound': 0.9557, 'neg': 0.073, 'neu': 0.757, 'pos': 0.17},\n",
       " {'compound': 0.9349, 'neg': 0.072, 'neu': 0.766, 'pos': 0.162},\n",
       " {'compound': 0.9231, 'neg': 0.056, 'neu': 0.768, 'pos': 0.176},\n",
       " {'compound': 0.9764, 'neg': 0.02, 'neu': 0.758, 'pos': 0.222},\n",
       " {'compound': 0.9909, 'neg': 0.036, 'neu': 0.671, 'pos': 0.293},\n",
       " {'compound': 0.9161, 'neg': 0.113, 'neu': 0.688, 'pos': 0.199},\n",
       " {'compound': 0.9778, 'neg': 0.094, 'neu': 0.705, 'pos': 0.202},\n",
       " {'compound': 0.9668, 'neg': 0.11, 'neu': 0.698, 'pos': 0.192},\n",
       " {'compound': 0.9753, 'neg': 0.054, 'neu': 0.725, 'pos': 0.222},\n",
       " {'compound': 0.9928, 'neg': 0.0, 'neu': 0.732, 'pos': 0.268},\n",
       " {'compound': 0.9897, 'neg': 0.0, 'neu': 0.772, 'pos': 0.228},\n",
       " {'compound': 0.9963, 'neg': 0.0, 'neu': 0.698, 'pos': 0.302},\n",
       " {'compound': 0.9324, 'neg': 0.077, 'neu': 0.734, 'pos': 0.189},\n",
       " {'compound': 0.9842, 'neg': 0.01, 'neu': 0.748, 'pos': 0.242},\n",
       " {'compound': 0.9819, 'neg': 0.075, 'neu': 0.663, 'pos': 0.262},\n",
       " {'compound': 0.9879, 'neg': 0.0, 'neu': 0.764, 'pos': 0.236},\n",
       " {'compound': 0.9933, 'neg': 0.049, 'neu': 0.573, 'pos': 0.378},\n",
       " {'compound': 0.9931, 'neg': 0.059, 'neu': 0.593, 'pos': 0.347},\n",
       " {'compound': 0.998, 'neg': 0.03, 'neu': 0.665, 'pos': 0.305},\n",
       " {'compound': 0.9851, 'neg': 0.016, 'neu': 0.691, 'pos': 0.293},\n",
       " {'compound': 0.9953, 'neg': 0.0, 'neu': 0.601, 'pos': 0.399},\n",
       " {'compound': 0.9928, 'neg': 0.025, 'neu': 0.608, 'pos': 0.367},\n",
       " {'compound': 0.994, 'neg': 0.046, 'neu': 0.601, 'pos': 0.353},\n",
       " {'compound': 0.9899, 'neg': 0.0, 'neu': 0.728, 'pos': 0.272},\n",
       " {'compound': 0.9809, 'neg': 0.121, 'neu': 0.642, 'pos': 0.238},\n",
       " {'compound': 0.9877, 'neg': 0.0, 'neu': 0.796, 'pos': 0.204},\n",
       " {'compound': 0.9468, 'neg': 0.115, 'neu': 0.707, 'pos': 0.178},\n",
       " {'compound': 0.993, 'neg': 0.013, 'neu': 0.63, 'pos': 0.357},\n",
       " {'compound': 0.9726, 'neg': 0.031, 'neu': 0.772, 'pos': 0.197},\n",
       " {'compound': 0.9959, 'neg': 0.009, 'neu': 0.723, 'pos': 0.267},\n",
       " {'compound': 0.9967, 'neg': 0.023, 'neu': 0.632, 'pos': 0.345},\n",
       " {'compound': 0.9979, 'neg': 0.028, 'neu': 0.653, 'pos': 0.318},\n",
       " {'compound': 0.946, 'neg': 0.026, 'neu': 0.793, 'pos': 0.18},\n",
       " {'compound': 0.9803, 'neg': 0.0, 'neu': 0.737, 'pos': 0.263},\n",
       " {'compound': 0.9961, 'neg': 0.031, 'neu': 0.687, 'pos': 0.282},\n",
       " {'compound': 0.9834, 'neg': 0.057, 'neu': 0.673, 'pos': 0.27},\n",
       " {'compound': 0.9969, 'neg': 0.0, 'neu': 0.716, 'pos': 0.284},\n",
       " {'compound': 0.994, 'neg': 0.028, 'neu': 0.745, 'pos': 0.227},\n",
       " {'compound': 0.9927, 'neg': 0.079, 'neu': 0.559, 'pos': 0.362},\n",
       " {'compound': 0.9949, 'neg': 0.048, 'neu': 0.662, 'pos': 0.291},\n",
       " {'compound': 0.9694, 'neg': 0.06, 'neu': 0.72, 'pos': 0.22},\n",
       " {'compound': 0.9934, 'neg': 0.027, 'neu': 0.609, 'pos': 0.364},\n",
       " {'compound': 0.9862, 'neg': 0.0, 'neu': 0.788, 'pos': 0.212},\n",
       " {'compound': 0.9931, 'neg': 0.039, 'neu': 0.707, 'pos': 0.254},\n",
       " {'compound': 0.9924, 'neg': 0.025, 'neu': 0.689, 'pos': 0.285},\n",
       " {'compound': 0.9785, 'neg': 0.0, 'neu': 0.75, 'pos': 0.25},\n",
       " {'compound': 0.989, 'neg': 0.068, 'neu': 0.639, 'pos': 0.293},\n",
       " {'compound': 0.9922, 'neg': 0.068, 'neu': 0.613, 'pos': 0.319},\n",
       " {'compound': 0.9946, 'neg': 0.037, 'neu': 0.671, 'pos': 0.292},\n",
       " {'compound': 0.9617, 'neg': 0.017, 'neu': 0.786, 'pos': 0.197},\n",
       " {'compound': 0.9881, 'neg': 0.018, 'neu': 0.656, 'pos': 0.326},\n",
       " {'compound': 0.9951, 'neg': 0.075, 'neu': 0.522, 'pos': 0.403},\n",
       " {'compound': 0.8481, 'neg': 0.014, 'neu': 0.894, 'pos': 0.092},\n",
       " {'compound': 0.987, 'neg': 0.011, 'neu': 0.687, 'pos': 0.302},\n",
       " {'compound': 0.997, 'neg': 0.047, 'neu': 0.565, 'pos': 0.388},\n",
       " {'compound': 0.9944, 'neg': 0.048, 'neu': 0.581, 'pos': 0.371},\n",
       " {'compound': 0.9674, 'neg': 0.053, 'neu': 0.776, 'pos': 0.171},\n",
       " {'compound': 0.9867, 'neg': 0.025, 'neu': 0.683, 'pos': 0.292},\n",
       " {'compound': 0.9975, 'neg': 0.026, 'neu': 0.684, 'pos': 0.29},\n",
       " {'compound': 0.9957, 'neg': 0.031, 'neu': 0.638, 'pos': 0.33},\n",
       " {'compound': 0.9951, 'neg': 0.027, 'neu': 0.695, 'pos': 0.278},\n",
       " {'compound': 0.9968, 'neg': 0.044, 'neu': 0.542, 'pos': 0.413},\n",
       " {'compound': 0.9959, 'neg': 0.027, 'neu': 0.676, 'pos': 0.297},\n",
       " {'compound': 0.9673, 'neg': 0.031, 'neu': 0.797, 'pos': 0.171},\n",
       " {'compound': 0.9975, 'neg': 0.021, 'neu': 0.646, 'pos': 0.333},\n",
       " {'compound': 0.9872, 'neg': 0.021, 'neu': 0.62, 'pos': 0.359},\n",
       " {'compound': 0.987, 'neg': 0.06, 'neu': 0.69, 'pos': 0.25},\n",
       " {'compound': 0.9876, 'neg': 0.045, 'neu': 0.723, 'pos': 0.233},\n",
       " {'compound': 0.9942, 'neg': 0.021, 'neu': 0.703, 'pos': 0.275},\n",
       " {'compound': 0.9834, 'neg': 0.028, 'neu': 0.797, 'pos': 0.176},\n",
       " {'compound': 0.9858, 'neg': 0.009, 'neu': 0.727, 'pos': 0.264},\n",
       " {'compound': 0.9971, 'neg': 0.031, 'neu': 0.596, 'pos': 0.372},\n",
       " {'compound': 0.995, 'neg': 0.035, 'neu': 0.706, 'pos': 0.258},\n",
       " {'compound': 0.9851, 'neg': 0.027, 'neu': 0.688, 'pos': 0.286},\n",
       " {'compound': 0.9928, 'neg': 0.026, 'neu': 0.657, 'pos': 0.317},\n",
       " {'compound': 0.9595, 'neg': 0.08, 'neu': 0.763, 'pos': 0.157},\n",
       " {'compound': 0.9993, 'neg': 0.028, 'neu': 0.573, 'pos': 0.399},\n",
       " {'compound': 0.9919, 'neg': 0.0, 'neu': 0.791, 'pos': 0.209},\n",
       " {'compound': 0.9853, 'neg': 0.076, 'neu': 0.643, 'pos': 0.281},\n",
       " {'compound': 0.9882, 'neg': 0.034, 'neu': 0.732, 'pos': 0.234},\n",
       " {'compound': 0.9871, 'neg': 0.042, 'neu': 0.724, 'pos': 0.234},\n",
       " {'compound': 0.9925, 'neg': 0.024, 'neu': 0.752, 'pos': 0.224},\n",
       " {'compound': 0.9719, 'neg': 0.01, 'neu': 0.829, 'pos': 0.161},\n",
       " {'compound': 0.9976, 'neg': 0.048, 'neu': 0.647, 'pos': 0.305},\n",
       " {'compound': 0.9898, 'neg': 0.039, 'neu': 0.676, 'pos': 0.285},\n",
       " {'compound': 0.9779, 'neg': 0.022, 'neu': 0.794, 'pos': 0.184},\n",
       " {'compound': 0.9829, 'neg': 0.042, 'neu': 0.752, 'pos': 0.206},\n",
       " {'compound': 0.9967, 'neg': 0.019, 'neu': 0.688, 'pos': 0.293},\n",
       " {'compound': 0.9546, 'neg': 0.095, 'neu': 0.664, 'pos': 0.241},\n",
       " {'compound': 0.9966, 'neg': 0.048, 'neu': 0.648, 'pos': 0.304},\n",
       " {'compound': 0.9825, 'neg': 0.088, 'neu': 0.698, 'pos': 0.214},\n",
       " {'compound': 0.9974, 'neg': 0.045, 'neu': 0.625, 'pos': 0.329},\n",
       " {'compound': 0.9948, 'neg': 0.068, 'neu': 0.681, 'pos': 0.251},\n",
       " {'compound': 0.9826, 'neg': 0.046, 'neu': 0.633, 'pos': 0.321},\n",
       " {'compound': 0.9956, 'neg': 0.042, 'neu': 0.627, 'pos': 0.331},\n",
       " {'compound': 0.9976, 'neg': 0.032, 'neu': 0.601, 'pos': 0.367},\n",
       " {'compound': 0.9036, 'neg': 0.056, 'neu': 0.765, 'pos': 0.179},\n",
       " {'compound': 0.9953, 'neg': 0.024, 'neu': 0.667, 'pos': 0.309},\n",
       " {'compound': 0.9827, 'neg': 0.04, 'neu': 0.709, 'pos': 0.251},\n",
       " {'compound': 0.9897, 'neg': 0.051, 'neu': 0.642, 'pos': 0.306},\n",
       " {'compound': 0.9935, 'neg': 0.038, 'neu': 0.698, 'pos': 0.264},\n",
       " {'compound': 0.9916, 'neg': 0.052, 'neu': 0.69, 'pos': 0.258},\n",
       " {'compound': 0.9753, 'neg': 0.056, 'neu': 0.692, 'pos': 0.252},\n",
       " {'compound': 0.9793, 'neg': 0.028, 'neu': 0.781, 'pos': 0.191},\n",
       " {'compound': 0.9829, 'neg': 0.009, 'neu': 0.769, 'pos': 0.222},\n",
       " {'compound': 0.9968, 'neg': 0.03, 'neu': 0.583, 'pos': 0.387},\n",
       " {'compound': 0.9979, 'neg': 0.009, 'neu': 0.626, 'pos': 0.365},\n",
       " {'compound': 0.9451, 'neg': 0.0, 'neu': 0.825, 'pos': 0.175},\n",
       " {'compound': 0.922, 'neg': 0.092, 'neu': 0.735, 'pos': 0.172},\n",
       " {'compound': 0.9773, 'neg': 0.087, 'neu': 0.668, 'pos': 0.245},\n",
       " {'compound': 0.9932, 'neg': 0.067, 'neu': 0.668, 'pos': 0.265},\n",
       " {'compound': 0.9693, 'neg': 0.094, 'neu': 0.678, 'pos': 0.228},\n",
       " {'compound': 0.9769, 'neg': 0.038, 'neu': 0.731, 'pos': 0.23},\n",
       " {'compound': 0.9956, 'neg': 0.017, 'neu': 0.698, 'pos': 0.285},\n",
       " {'compound': 0.9954, 'neg': 0.037, 'neu': 0.569, 'pos': 0.394},\n",
       " {'compound': 0.3641, 'neg': 0.068, 'neu': 0.859, 'pos': 0.073},\n",
       " {'compound': 0.9953, 'neg': 0.034, 'neu': 0.618, 'pos': 0.349},\n",
       " {'compound': 0.9867, 'neg': 0.082, 'neu': 0.683, 'pos': 0.235},\n",
       " {'compound': 0.9921, 'neg': 0.034, 'neu': 0.753, 'pos': 0.213},\n",
       " {'compound': 0.9772, 'neg': 0.021, 'neu': 0.821, 'pos': 0.157},\n",
       " {'compound': 0.9981, 'neg': 0.01, 'neu': 0.643, 'pos': 0.347},\n",
       " {'compound': 0.9633, 'neg': 0.011, 'neu': 0.868, 'pos': 0.121},\n",
       " {'compound': 0.9968, 'neg': 0.026, 'neu': 0.706, 'pos': 0.268},\n",
       " {'compound': 0.9583, 'neg': 0.189, 'neu': 0.525, 'pos': 0.285},\n",
       " {'compound': 0.9916, 'neg': 0.013, 'neu': 0.751, 'pos': 0.235},\n",
       " {'compound': 0.9949, 'neg': 0.039, 'neu': 0.715, 'pos': 0.246},\n",
       " {'compound': 0.9984, 'neg': 0.021, 'neu': 0.607, 'pos': 0.372},\n",
       " {'compound': 0.9509, 'neg': 0.147, 'neu': 0.606, 'pos': 0.247},\n",
       " {'compound': 0.981, 'neg': 0.053, 'neu': 0.742, 'pos': 0.206},\n",
       " {'compound': 0.9946, 'neg': 0.049, 'neu': 0.725, 'pos': 0.226},\n",
       " {'compound': 0.9883, 'neg': 0.0, 'neu': 0.648, 'pos': 0.352},\n",
       " {'compound': 0.9771, 'neg': 0.071, 'neu': 0.721, 'pos': 0.207},\n",
       " {'compound': 0.9951, 'neg': 0.035, 'neu': 0.623, 'pos': 0.342},\n",
       " {'compound': 0.9655, 'neg': 0.0, 'neu': 0.825, 'pos': 0.175},\n",
       " {'compound': 0.9949, 'neg': 0.044, 'neu': 0.692, 'pos': 0.264},\n",
       " {'compound': 0.9805, 'neg': 0.03, 'neu': 0.714, 'pos': 0.257},\n",
       " {'compound': 0.9965, 'neg': 0.018, 'neu': 0.731, 'pos': 0.251},\n",
       " {'compound': 0.8481, 'neg': 0.101, 'neu': 0.739, 'pos': 0.161},\n",
       " {'compound': 0.9843, 'neg': 0.0, 'neu': 0.725, 'pos': 0.275},\n",
       " {'compound': 0.9866, 'neg': 0.021, 'neu': 0.739, 'pos': 0.239},\n",
       " {'compound': 0.9081, 'neg': 0.06, 'neu': 0.815, 'pos': 0.125},\n",
       " {'compound': 0.9755, 'neg': 0.037, 'neu': 0.722, 'pos': 0.241},\n",
       " {'compound': 0.9862, 'neg': 0.055, 'neu': 0.62, 'pos': 0.325},\n",
       " {'compound': 0.9913, 'neg': 0.027, 'neu': 0.765, 'pos': 0.208},\n",
       " {'compound': 0.9972, 'neg': 0.016, 'neu': 0.714, 'pos': 0.271},\n",
       " {'compound': 0.9938, 'neg': 0.0, 'neu': 0.769, 'pos': 0.231},\n",
       " {'compound': 0.9702, 'neg': 0.049, 'neu': 0.763, 'pos': 0.188},\n",
       " {'compound': 0.9871, 'neg': 0.03, 'neu': 0.747, 'pos': 0.223},\n",
       " {'compound': 0.9952, 'neg': 0.0, 'neu': 0.731, 'pos': 0.269},\n",
       " {'compound': 0.9968, 'neg': 0.013, 'neu': 0.721, 'pos': 0.266},\n",
       " {'compound': 0.9943, 'neg': 0.0, 'neu': 0.602, 'pos': 0.398},\n",
       " {'compound': 0.8692, 'neg': 0.074, 'neu': 0.802, 'pos': 0.124},\n",
       " {'compound': 0.9712, 'neg': 0.088, 'neu': 0.697, 'pos': 0.214},\n",
       " {'compound': 0.9961, 'neg': 0.029, 'neu': 0.709, 'pos': 0.262},\n",
       " {'compound': 0.9931, 'neg': 0.01, 'neu': 0.757, 'pos': 0.233},\n",
       " {'compound': 0.9828, 'neg': 0.087, 'neu': 0.639, 'pos': 0.273},\n",
       " {'compound': 0.9813, 'neg': 0.012, 'neu': 0.743, 'pos': 0.245},\n",
       " {'compound': 0.985, 'neg': 0.098, 'neu': 0.663, 'pos': 0.239},\n",
       " {'compound': 0.9747, 'neg': 0.0, 'neu': 0.792, 'pos': 0.208},\n",
       " {'compound': 0.9896, 'neg': 0.022, 'neu': 0.672, 'pos': 0.306},\n",
       " {'compound': 0.9956, 'neg': 0.0, 'neu': 0.722, 'pos': 0.278},\n",
       " {'compound': 0.994, 'neg': 0.083, 'neu': 0.645, 'pos': 0.272},\n",
       " {'compound': 0.9939, 'neg': 0.0, 'neu': 0.761, 'pos': 0.239},\n",
       " {'compound': 0.9956, 'neg': 0.053, 'neu': 0.694, 'pos': 0.253},\n",
       " {'compound': 0.9963, 'neg': 0.04, 'neu': 0.604, 'pos': 0.356},\n",
       " {'compound': 0.9607, 'neg': 0.025, 'neu': 0.822, 'pos': 0.153},\n",
       " {'compound': 0.9931, 'neg': 0.014, 'neu': 0.793, 'pos': 0.193},\n",
       " {'compound': 0.9936, 'neg': 0.031, 'neu': 0.591, 'pos': 0.379},\n",
       " {'compound': 0.9535, 'neg': 0.143, 'neu': 0.654, 'pos': 0.203},\n",
       " {'compound': 0.9923, 'neg': 0.082, 'neu': 0.679, 'pos': 0.239},\n",
       " {'compound': 0.9957, 'neg': 0.059, 'neu': 0.634, 'pos': 0.307},\n",
       " {'compound': 0.9868, 'neg': 0.039, 'neu': 0.628, 'pos': 0.333},\n",
       " {'compound': 0.9974, 'neg': 0.028, 'neu': 0.677, 'pos': 0.295},\n",
       " {'compound': 0.9798, 'neg': 0.044, 'neu': 0.74, 'pos': 0.216},\n",
       " {'compound': 0.9925, 'neg': 0.017, 'neu': 0.752, 'pos': 0.232},\n",
       " {'compound': 0.9744, 'neg': 0.056, 'neu': 0.713, 'pos': 0.231},\n",
       " {'compound': 0.9978, 'neg': 0.015, 'neu': 0.681, 'pos': 0.304},\n",
       " {'compound': 0.9936, 'neg': 0.049, 'neu': 0.655, 'pos': 0.295},\n",
       " {'compound': 0.9954, 'neg': 0.037, 'neu': 0.611, 'pos': 0.352},\n",
       " {'compound': 0.9678, 'neg': 0.096, 'neu': 0.676, 'pos': 0.228},\n",
       " {'compound': 0.9917, 'neg': 0.033, 'neu': 0.613, 'pos': 0.354},\n",
       " {'compound': 0.9217, 'neg': 0.0, 'neu': 0.857, 'pos': 0.143},\n",
       " {'compound': 0.9754, 'neg': 0.058, 'neu': 0.716, 'pos': 0.226},\n",
       " {'compound': 0.9776, 'neg': 0.056, 'neu': 0.771, 'pos': 0.173},\n",
       " {'compound': 0.9653, 'neg': 0.066, 'neu': 0.74, 'pos': 0.194},\n",
       " {'compound': 0.9972, 'neg': 0.02, 'neu': 0.679, 'pos': 0.302},\n",
       " {'compound': 0.9958, 'neg': 0.033, 'neu': 0.648, 'pos': 0.319},\n",
       " {'compound': 0.984, 'neg': 0.0, 'neu': 0.716, 'pos': 0.284},\n",
       " {'compound': 0.9921, 'neg': 0.018, 'neu': 0.779, 'pos': 0.203},\n",
       " {'compound': 0.9829, 'neg': 0.055, 'neu': 0.665, 'pos': 0.279},\n",
       " {'compound': 0.9859, 'neg': 0.039, 'neu': 0.74, 'pos': 0.221},\n",
       " {'compound': 0.9976, 'neg': 0.015, 'neu': 0.657, 'pos': 0.328},\n",
       " {'compound': 0.9657, 'neg': 0.011, 'neu': 0.859, 'pos': 0.13},\n",
       " {'compound': 0.9899, 'neg': 0.052, 'neu': 0.609, 'pos': 0.339},\n",
       " {'compound': 0.9934, 'neg': 0.04, 'neu': 0.645, 'pos': 0.315},\n",
       " {'compound': 0.9686, 'neg': 0.063, 'neu': 0.724, 'pos': 0.212},\n",
       " {'compound': 0.994, 'neg': 0.027, 'neu': 0.675, 'pos': 0.298},\n",
       " {'compound': 0.9966, 'neg': 0.044, 'neu': 0.645, 'pos': 0.312},\n",
       " {'compound': 0.9925, 'neg': 0.03, 'neu': 0.739, 'pos': 0.231},\n",
       " {'compound': 0.9535, 'neg': 0.044, 'neu': 0.784, 'pos': 0.172},\n",
       " {'compound': 0.9969, 'neg': 0.049, 'neu': 0.615, 'pos': 0.337},\n",
       " {'compound': 0.995, 'neg': 0.031, 'neu': 0.613, 'pos': 0.357},\n",
       " {'compound': 0.9981, 'neg': 0.012, 'neu': 0.559, 'pos': 0.429},\n",
       " {'compound': 0.9953, 'neg': 0.059, 'neu': 0.56, 'pos': 0.381},\n",
       " {'compound': 0.9818, 'neg': 0.0, 'neu': 0.713, 'pos': 0.287},\n",
       " {'compound': 0.9876, 'neg': 0.041, 'neu': 0.687, 'pos': 0.272},\n",
       " {'compound': 0.9595, 'neg': 0.067, 'neu': 0.726, 'pos': 0.207},\n",
       " {'compound': 0.9802, 'neg': 0.022, 'neu': 0.768, 'pos': 0.21},\n",
       " {'compound': 0.9876, 'neg': 0.019, 'neu': 0.703, 'pos': 0.278},\n",
       " {'compound': 0.9186, 'neg': 0.061, 'neu': 0.812, 'pos': 0.128},\n",
       " {'compound': 0.994, 'neg': 0.063, 'neu': 0.667, 'pos': 0.27},\n",
       " {'compound': 0.9869, 'neg': 0.063, 'neu': 0.631, 'pos': 0.307},\n",
       " {'compound': 0.991, 'neg': 0.007, 'neu': 0.742, 'pos': 0.251},\n",
       " {'compound': 0.9584, 'neg': 0.028, 'neu': 0.8, 'pos': 0.172},\n",
       " {'compound': 0.9904, 'neg': 0.058, 'neu': 0.644, 'pos': 0.298},\n",
       " {'compound': 0.9494, 'neg': 0.045, 'neu': 0.831, 'pos': 0.124},\n",
       " {'compound': 0.996, 'neg': 0.046, 'neu': 0.658, 'pos': 0.296},\n",
       " {'compound': 0.9938, 'neg': 0.056, 'neu': 0.579, 'pos': 0.365},\n",
       " {'compound': 0.9716, 'neg': 0.05, 'neu': 0.805, 'pos': 0.144},\n",
       " {'compound': 0.9927, 'neg': 0.032, 'neu': 0.739, 'pos': 0.23},\n",
       " {'compound': 0.993, 'neg': 0.02, 'neu': 0.726, 'pos': 0.254},\n",
       " {'compound': 0.9706, 'neg': 0.078, 'neu': 0.728, 'pos': 0.194},\n",
       " {'compound': 0.9941, 'neg': 0.044, 'neu': 0.715, 'pos': 0.24},\n",
       " {'compound': 0.9915, 'neg': 0.023, 'neu': 0.592, 'pos': 0.385},\n",
       " {'compound': 0.9839, 'neg': 0.013, 'neu': 0.702, 'pos': 0.284},\n",
       " {'compound': 0.9905, 'neg': 0.025, 'neu': 0.709, 'pos': 0.266},\n",
       " {'compound': 0.9568, 'neg': 0.076, 'neu': 0.707, 'pos': 0.217},\n",
       " {'compound': 0.9908, 'neg': 0.077, 'neu': 0.646, 'pos': 0.277},\n",
       " {'compound': 0.9977, 'neg': 0.079, 'neu': 0.51, 'pos': 0.411},\n",
       " {'compound': 0.9898, 'neg': 0.08, 'neu': 0.693, 'pos': 0.227},\n",
       " {'compound': 0.9963, 'neg': 0.029, 'neu': 0.631, 'pos': 0.34},\n",
       " {'compound': 0.9891, 'neg': 0.012, 'neu': 0.754, 'pos': 0.234},\n",
       " {'compound': 0.9905, 'neg': 0.025, 'neu': 0.748, 'pos': 0.227},\n",
       " {'compound': 0.998, 'neg': 0.033, 'neu': 0.659, 'pos': 0.308},\n",
       " {'compound': 0.9766, 'neg': 0.033, 'neu': 0.723, 'pos': 0.244},\n",
       " {'compound': 0.9956, 'neg': 0.02, 'neu': 0.66, 'pos': 0.32},\n",
       " {'compound': 0.9925, 'neg': 0.011, 'neu': 0.726, 'pos': 0.264},\n",
       " {'compound': 0.9967, 'neg': 0.027, 'neu': 0.688, 'pos': 0.285},\n",
       " {'compound': 0.9926, 'neg': 0.012, 'neu': 0.693, 'pos': 0.294},\n",
       " {'compound': 0.9849, 'neg': 0.059, 'neu': 0.748, 'pos': 0.193},\n",
       " {'compound': 0.9968, 'neg': 0.073, 'neu': 0.629, 'pos': 0.298},\n",
       " {'compound': 0.9959, 'neg': 0.011, 'neu': 0.69, 'pos': 0.298},\n",
       " {'compound': 0.9965, 'neg': 0.06, 'neu': 0.516, 'pos': 0.424},\n",
       " {'compound': 0.8676, 'neg': 0.054, 'neu': 0.831, 'pos': 0.115},\n",
       " {'compound': 0.9901, 'neg': 0.032, 'neu': 0.798, 'pos': 0.17},\n",
       " {'compound': 0.9643, 'neg': 0.058, 'neu': 0.719, 'pos': 0.223},\n",
       " {'compound': 0.9965, 'neg': 0.0, 'neu': 0.584, 'pos': 0.416},\n",
       " {'compound': 0.9978, 'neg': 0.035, 'neu': 0.663, 'pos': 0.302},\n",
       " {'compound': 0.9891, 'neg': 0.038, 'neu': 0.73, 'pos': 0.232},\n",
       " {'compound': 0.9394, 'neg': 0.087, 'neu': 0.723, 'pos': 0.19},\n",
       " {'compound': 0.9921, 'neg': 0.046, 'neu': 0.629, 'pos': 0.325},\n",
       " {'compound': 0.9526, 'neg': 0.033, 'neu': 0.858, 'pos': 0.109},\n",
       " {'compound': 0.9981, 'neg': 0.046, 'neu': 0.625, 'pos': 0.329},\n",
       " {'compound': 0.9813, 'neg': 0.027, 'neu': 0.719, 'pos': 0.254},\n",
       " {'compound': 0.9493, 'neg': 0.093, 'neu': 0.673, 'pos': 0.235},\n",
       " {'compound': 0.9907, 'neg': 0.047, 'neu': 0.659, 'pos': 0.294},\n",
       " {'compound': 0.9854, 'neg': 0.042, 'neu': 0.757, 'pos': 0.201},\n",
       " {'compound': 0.9981, 'neg': 0.041, 'neu': 0.6, 'pos': 0.358},\n",
       " {'compound': 0.9819, 'neg': 0.043, 'neu': 0.632, 'pos': 0.325},\n",
       " {'compound': 0.9984, 'neg': 0.017, 'neu': 0.635, 'pos': 0.348},\n",
       " {'compound': 0.9984, 'neg': 0.017, 'neu': 0.639, 'pos': 0.344},\n",
       " {'compound': 0.9017, 'neg': 0.115, 'neu': 0.713, 'pos': 0.172},\n",
       " {'compound': 0.9883, 'neg': 0.064, 'neu': 0.654, 'pos': 0.281},\n",
       " {'compound': 0.9725, 'neg': 0.073, 'neu': 0.737, 'pos': 0.19},\n",
       " {'compound': 0.9686, 'neg': 0.026, 'neu': 0.784, 'pos': 0.19},\n",
       " {'compound': 0.9437, 'neg': 0.031, 'neu': 0.828, 'pos': 0.142},\n",
       " {'compound': 0.9924, 'neg': 0.048, 'neu': 0.587, 'pos': 0.364},\n",
       " {'compound': 0.9897, 'neg': 0.08, 'neu': 0.543, 'pos': 0.377},\n",
       " {'compound': 0.994, 'neg': 0.014, 'neu': 0.673, 'pos': 0.313},\n",
       " {'compound': 0.9806, 'neg': 0.042, 'neu': 0.764, 'pos': 0.194},\n",
       " {'compound': 0.9393, 'neg': 0.088, 'neu': 0.746, 'pos': 0.166},\n",
       " {'compound': 0.9886, 'neg': 0.034, 'neu': 0.698, 'pos': 0.267},\n",
       " {'compound': 0.9751, 'neg': 0.065, 'neu': 0.72, 'pos': 0.215},\n",
       " {'compound': 0.9989, 'neg': 0.02, 'neu': 0.586, 'pos': 0.394},\n",
       " {'compound': 0.9914, 'neg': 0.058, 'neu': 0.686, 'pos': 0.256},\n",
       " {'compound': 0.9726, 'neg': 0.068, 'neu': 0.642, 'pos': 0.29},\n",
       " {'compound': 0.9939, 'neg': 0.034, 'neu': 0.724, 'pos': 0.242},\n",
       " {'compound': 0.991, 'neg': 0.015, 'neu': 0.686, 'pos': 0.299},\n",
       " {'compound': 0.966, 'neg': 0.03, 'neu': 0.779, 'pos': 0.192},\n",
       " {'compound': 0.9806, 'neg': 0.056, 'neu': 0.725, 'pos': 0.219},\n",
       " {'compound': 0.9878, 'neg': 0.013, 'neu': 0.775, 'pos': 0.212},\n",
       " {'compound': 0.9559, 'neg': 0.066, 'neu': 0.757, 'pos': 0.177},\n",
       " {'compound': 0.9677, 'neg': 0.072, 'neu': 0.661, 'pos': 0.267},\n",
       " {'compound': 0.9919, 'neg': 0.03, 'neu': 0.786, 'pos': 0.185},\n",
       " {'compound': 0.9201, 'neg': 0.047, 'neu': 0.818, 'pos': 0.135},\n",
       " {'compound': 0.9924, 'neg': 0.014, 'neu': 0.643, 'pos': 0.343},\n",
       " {'compound': 0.9874, 'neg': 0.123, 'neu': 0.633, 'pos': 0.244},\n",
       " {'compound': 0.9942, 'neg': 0.081, 'neu': 0.667, 'pos': 0.252},\n",
       " {'compound': 0.9965, 'neg': 0.054, 'neu': 0.565, 'pos': 0.381},\n",
       " {'compound': 0.9729, 'neg': 0.112, 'neu': 0.668, 'pos': 0.22},\n",
       " {'compound': 0.9842, 'neg': 0.03, 'neu': 0.732, 'pos': 0.238},\n",
       " {'compound': 0.2782, 'neg': 0.077, 'neu': 0.817, 'pos': 0.105},\n",
       " {'compound': 0.9638, 'neg': 0.0, 'neu': 0.825, 'pos': 0.175},\n",
       " {'compound': 0.9899, 'neg': 0.025, 'neu': 0.724, 'pos': 0.25},\n",
       " {'compound': 0.9961, 'neg': 0.034, 'neu': 0.656, 'pos': 0.31},\n",
       " {'compound': 0.9771, 'neg': 0.0, 'neu': 0.807, 'pos': 0.193},\n",
       " {'compound': 0.9611, 'neg': 0.071, 'neu': 0.762, 'pos': 0.168},\n",
       " {'compound': 0.9958, 'neg': 0.0, 'neu': 0.725, 'pos': 0.275},\n",
       " {'compound': 0.9925, 'neg': 0.037, 'neu': 0.713, 'pos': 0.25},\n",
       " {'compound': 0.7452, 'neg': 0.144, 'neu': 0.686, 'pos': 0.17},\n",
       " {'compound': 0.9866, 'neg': 0.057, 'neu': 0.767, 'pos': 0.176},\n",
       " {'compound': 0.9956, 'neg': 0.029, 'neu': 0.646, 'pos': 0.325},\n",
       " {'compound': 0.9964, 'neg': 0.02, 'neu': 0.639, 'pos': 0.341},\n",
       " {'compound': 0.9955, 'neg': 0.023, 'neu': 0.559, 'pos': 0.418},\n",
       " {'compound': 0.9867, 'neg': 0.0, 'neu': 0.708, 'pos': 0.292},\n",
       " {'compound': 0.995, 'neg': 0.075, 'neu': 0.641, 'pos': 0.284},\n",
       " {'compound': 0.995, 'neg': 0.011, 'neu': 0.691, 'pos': 0.298},\n",
       " {'compound': 0.9929, 'neg': 0.017, 'neu': 0.627, 'pos': 0.356},\n",
       " {'compound': 0.9984, 'neg': 0.057, 'neu': 0.588, 'pos': 0.355},\n",
       " {'compound': 0.9808, 'neg': 0.056, 'neu': 0.737, 'pos': 0.207},\n",
       " {'compound': 0.9477, 'neg': 0.068, 'neu': 0.749, 'pos': 0.183},\n",
       " {'compound': 0.9783, 'neg': 0.0, 'neu': 0.792, 'pos': 0.208},\n",
       " {'compound': 0.9719, 'neg': 0.094, 'neu': 0.601, 'pos': 0.306},\n",
       " {'compound': 0.9954, 'neg': 0.032, 'neu': 0.667, 'pos': 0.301},\n",
       " {'compound': 0.9666, 'neg': 0.028, 'neu': 0.787, 'pos': 0.184},\n",
       " {'compound': 0.9913, 'neg': 0.006, 'neu': 0.767, 'pos': 0.227},\n",
       " {'compound': 0.9967, 'neg': 0.011, 'neu': 0.655, 'pos': 0.335},\n",
       " {'compound': 0.9928, 'neg': 0.037, 'neu': 0.723, 'pos': 0.24},\n",
       " {'compound': 0.9846, 'neg': 0.012, 'neu': 0.752, 'pos': 0.237},\n",
       " {'compound': 0.9883, 'neg': 0.068, 'neu': 0.675, 'pos': 0.257},\n",
       " {'compound': 0.9896, 'neg': 0.068, 'neu': 0.658, 'pos': 0.274},\n",
       " {'compound': 0.981, 'neg': 0.022, 'neu': 0.713, 'pos': 0.265},\n",
       " {'compound': 0.957, 'neg': 0.057, 'neu': 0.74, 'pos': 0.202},\n",
       " {'compound': 0.9965, 'neg': 0.0, 'neu': 0.56, 'pos': 0.44},\n",
       " {'compound': 0.9938, 'neg': 0.0, 'neu': 0.716, 'pos': 0.284},\n",
       " {'compound': 0.9976, 'neg': 0.035, 'neu': 0.672, 'pos': 0.293},\n",
       " {'compound': 0.9957, 'neg': 0.028, 'neu': 0.697, 'pos': 0.276},\n",
       " {'compound': 0.9872, 'neg': 0.027, 'neu': 0.691, 'pos': 0.282},\n",
       " {'compound': 0.9754, 'neg': 0.064, 'neu': 0.752, 'pos': 0.184},\n",
       " {'compound': 0.991, 'neg': 0.034, 'neu': 0.613, 'pos': 0.353},\n",
       " {'compound': 0.9769, 'neg': 0.029, 'neu': 0.703, 'pos': 0.269},\n",
       " {'compound': 0.9897, 'neg': 0.024, 'neu': 0.743, 'pos': 0.233},\n",
       " {'compound': 0.969, 'neg': 0.031, 'neu': 0.802, 'pos': 0.167},\n",
       " {'compound': 0.9972, 'neg': 0.037, 'neu': 0.643, 'pos': 0.32},\n",
       " {'compound': 0.9826, 'neg': 0.017, 'neu': 0.756, 'pos': 0.226},\n",
       " {'compound': 0.9934, 'neg': 0.042, 'neu': 0.737, 'pos': 0.221},\n",
       " {'compound': 0.9773, 'neg': 0.092, 'neu': 0.683, 'pos': 0.225},\n",
       " {'compound': 0.9973, 'neg': 0.056, 'neu': 0.653, 'pos': 0.291},\n",
       " {'compound': 0.9788, 'neg': 0.024, 'neu': 0.694, 'pos': 0.283},\n",
       " {'compound': 0.9915, 'neg': 0.052, 'neu': 0.698, 'pos': 0.25},\n",
       " ...]"
      ]
     },
     "execution_count": 6,
     "metadata": {
      "tags": []
     },
     "output_type": "execute_result"
    }
   ],
   "source": [
    "sid = SentimentIntensityAnalyzer()\n",
    "sentiments = []\n",
    "for essay in data['essay']:\n",
    "  polarity = sid.polarity_scores(essay)\n",
    "  sentiments.append(polarity)\n",
    "sentiments"
   ]
  },
  {
   "cell_type": "code",
   "execution_count": 60,
   "metadata": {
    "id": "0VjzNrQ_nfe_"
   },
   "outputs": [],
   "source": [
    "sentiment_df = pd.DataFrame(sentiments)\n",
    "data['neg'] = sentiment_df['neg'].values\n",
    "data['neu'] = sentiment_df['neu'].values\n",
    "data['pos'] = sentiment_df['pos'].values\n",
    "data['compound'] = sentiment_df['compound'].values"
   ]
  },
  {
   "cell_type": "code",
   "execution_count": 61,
   "metadata": {
    "id": "i8H97UEWsPx6"
   },
   "outputs": [],
   "source": [
    "data.head()\n",
    "#saving\n",
    "data.to_csv(\"/content/drive/My Drive/Colab Notebooks/data/preprocessed_with_sentiment.csv\",index=False)"
   ]
  },
  {
   "cell_type": "markdown",
   "metadata": {
    "id": "6lAMFKFcsc3j"
   },
   "source": [
    "<h2>1.2 Splitting data into Train and cross validation(or test): Stratified Sampling</h2>"
   ]
  },
  {
   "cell_type": "code",
   "execution_count": 7,
   "metadata": {
    "id": "ODMijuuNsc3l"
   },
   "outputs": [],
   "source": [
    "# please write all the code with proper documentation, and proper titles for each subsection\n",
    "# go through documentations and blogs before you start coding\n",
    "# first figure out what to do, and then think about how to do.\n",
    "# reading and understanding error messages will be very much helpfull in debugging your code\n",
    "# when you plot any graph make sure you use \n",
    "    # a. Title, that describes your plot, this will be very helpful to the reader\n",
    "    # b. Legends if needed\n",
    "    # c. X-axis label\n",
    "    # d. Y-axis label\n",
    "data = pd.read_csv(\"/content/drive/My Drive/Colab Notebooks/data/preprocessed_with_sentiment.csv\")\n",
    "y =data['project_is_approved']\n",
    "X_train, X_test ,Y_train,Y_test = train_test_split(data,y,test_size = 0.25,stratify =y,random_state=42)"
   ]
  },
  {
   "cell_type": "code",
   "execution_count": 8,
   "metadata": {
    "colab": {
     "base_uri": "https://localhost:8080/",
     "height": 513
    },
    "id": "QFq5yeuQpFqv",
    "outputId": "fa732c1d-08dd-4eb6-a3ca-a74a493ac677",
    "scrolled": true
   },
   "outputs": [
    {
     "data": {
      "text/html": [
       "<div>\n",
       "<style scoped>\n",
       "    .dataframe tbody tr th:only-of-type {\n",
       "        vertical-align: middle;\n",
       "    }\n",
       "\n",
       "    .dataframe tbody tr th {\n",
       "        vertical-align: top;\n",
       "    }\n",
       "\n",
       "    .dataframe thead th {\n",
       "        text-align: right;\n",
       "    }\n",
       "</style>\n",
       "<table border=\"1\" class=\"dataframe\">\n",
       "  <thead>\n",
       "    <tr style=\"text-align: right;\">\n",
       "      <th></th>\n",
       "      <th>school_state</th>\n",
       "      <th>teacher_prefix</th>\n",
       "      <th>project_grade_category</th>\n",
       "      <th>teacher_number_of_previously_posted_projects</th>\n",
       "      <th>project_is_approved</th>\n",
       "      <th>clean_categories</th>\n",
       "      <th>clean_subcategories</th>\n",
       "      <th>essay</th>\n",
       "      <th>price</th>\n",
       "      <th>neg</th>\n",
       "      <th>neu</th>\n",
       "      <th>pos</th>\n",
       "      <th>compound</th>\n",
       "    </tr>\n",
       "  </thead>\n",
       "  <tbody>\n",
       "    <tr>\n",
       "      <th>66441</th>\n",
       "      <td>ok</td>\n",
       "      <td>mr</td>\n",
       "      <td>grades_6_8</td>\n",
       "      <td>0</td>\n",
       "      <td>1</td>\n",
       "      <td>appliedlearning</td>\n",
       "      <td>charactereducation</td>\n",
       "      <td>my wonderful middle students active extremely ...</td>\n",
       "      <td>314.56</td>\n",
       "      <td>0.011</td>\n",
       "      <td>0.612</td>\n",
       "      <td>0.377</td>\n",
       "      <td>0.9915</td>\n",
       "    </tr>\n",
       "    <tr>\n",
       "      <th>45954</th>\n",
       "      <td>ut</td>\n",
       "      <td>mrs</td>\n",
       "      <td>grades_prek_2</td>\n",
       "      <td>19</td>\n",
       "      <td>1</td>\n",
       "      <td>specialneeds</td>\n",
       "      <td>specialneeds</td>\n",
       "      <td>i teach special class children autism one stud...</td>\n",
       "      <td>33.28</td>\n",
       "      <td>0.015</td>\n",
       "      <td>0.740</td>\n",
       "      <td>0.245</td>\n",
       "      <td>0.9818</td>\n",
       "    </tr>\n",
       "    <tr>\n",
       "      <th>73547</th>\n",
       "      <td>nc</td>\n",
       "      <td>mrs</td>\n",
       "      <td>grades_3_5</td>\n",
       "      <td>0</td>\n",
       "      <td>1</td>\n",
       "      <td>math_science appliedlearning</td>\n",
       "      <td>appliedsciences charactereducation</td>\n",
       "      <td>our school serves students variety backgrounds...</td>\n",
       "      <td>433.26</td>\n",
       "      <td>0.031</td>\n",
       "      <td>0.626</td>\n",
       "      <td>0.344</td>\n",
       "      <td>0.9923</td>\n",
       "    </tr>\n",
       "    <tr>\n",
       "      <th>25693</th>\n",
       "      <td>ca</td>\n",
       "      <td>ms</td>\n",
       "      <td>grades_prek_2</td>\n",
       "      <td>5</td>\n",
       "      <td>1</td>\n",
       "      <td>math_science literacy_language</td>\n",
       "      <td>health_lifescience literacy</td>\n",
       "      <td>our school fabulous international baccalaureat...</td>\n",
       "      <td>162.95</td>\n",
       "      <td>0.000</td>\n",
       "      <td>0.726</td>\n",
       "      <td>0.274</td>\n",
       "      <td>0.9882</td>\n",
       "    </tr>\n",
       "    <tr>\n",
       "      <th>62089</th>\n",
       "      <td>ca</td>\n",
       "      <td>mr</td>\n",
       "      <td>grades_3_5</td>\n",
       "      <td>37</td>\n",
       "      <td>1</td>\n",
       "      <td>literacy_language</td>\n",
       "      <td>literacy</td>\n",
       "      <td>my students amazing diverse group fruitvale ne...</td>\n",
       "      <td>233.51</td>\n",
       "      <td>0.010</td>\n",
       "      <td>0.782</td>\n",
       "      <td>0.208</td>\n",
       "      <td>0.9916</td>\n",
       "    </tr>\n",
       "  </tbody>\n",
       "</table>\n",
       "</div>"
      ],
      "text/plain": [
       "      school_state teacher_prefix  ...    pos  compound\n",
       "66441           ok             mr  ...  0.377    0.9915\n",
       "45954           ut            mrs  ...  0.245    0.9818\n",
       "73547           nc            mrs  ...  0.344    0.9923\n",
       "25693           ca             ms  ...  0.274    0.9882\n",
       "62089           ca             mr  ...  0.208    0.9916\n",
       "\n",
       "[5 rows x 13 columns]"
      ]
     },
     "execution_count": 8,
     "metadata": {
      "tags": []
     },
     "output_type": "execute_result"
    }
   ],
   "source": [
    "X_train.head()"
   ]
  },
  {
   "cell_type": "markdown",
   "metadata": {
    "id": "vsALgl5Asc3u"
   },
   "source": [
    "<h2>1.3 Make Data Model Ready: encoding eassay, and project_title</h2>"
   ]
  },
  {
   "cell_type": "code",
   "execution_count": 64,
   "metadata": {
    "id": "1A_85jbWsc3v"
   },
   "outputs": [],
   "source": [
    "# please write all the code with proper documentation, and proper titles for each subsection\n",
    "# go through documentations and blogs before you start coding\n",
    "# first figure out what to do, and then think about how to do.\n",
    "# reading and understanding error messages will be very much helpfull in debugging your code\n",
    "# make sure you featurize train and test data separatly\n",
    "\n",
    "# when you plot any graph make sure you use \n",
    "    # a. Title, that describes your plot, this will be very helpful to the reader\n",
    "    # b. Legends if needed\n",
    "    # c. X-axis label\n",
    "    # d. Y-axis label"
   ]
  },
  {
   "cell_type": "markdown",
   "metadata": {
    "id": "xVAY_HblUKBO"
   },
   "source": [
    "### TFIDF"
   ]
  },
  {
   "cell_type": "code",
   "execution_count": 9,
   "metadata": {
    "colab": {
     "base_uri": "https://localhost:8080/"
    },
    "id": "lCd43B5hUOQ7",
    "outputId": "7c062206-18d8-4409-83c6-3058d104333a"
   },
   "outputs": [
    {
     "name": "stdout",
     "output_type": "stream",
     "text": [
      "After TFIDF vectorizations\n",
      "(81936, 5000) (81936,)\n",
      "(27312, 5000) (27312,)\n",
      "====================================================================================================\n",
      "====================================================================================================\n"
     ]
    }
   ],
   "source": [
    "essay_vectorizer = TfidfVectorizer(min_df=10,ngram_range=(1,4),max_features=5000)\n",
    "essay_tfidf_train = essay_vectorizer.fit_transform(X_train['essay'].values)\n",
    "essay_tfidf_test = essay_vectorizer.fit_transform(X_test['essay'].values)\n",
    "\n",
    "print(\"After TFIDF vectorizations\")\n",
    "print(essay_tfidf_train.shape, Y_train.shape)\n",
    "print(essay_tfidf_test.shape, Y_test.shape)\n",
    "print(\"=\"*100)\n",
    "print(\"=\"*100)"
   ]
  },
  {
   "cell_type": "markdown",
   "metadata": {
    "id": "YGs1TkJRXdEX"
   },
   "source": [
    "### TFIDF-W2VEC"
   ]
  },
  {
   "cell_type": "code",
   "execution_count": 10,
   "metadata": {
    "id": "JOjfLNN6ZJBS"
   },
   "outputs": [],
   "source": [
    "preprocessed_essays = X_train['essay']\n",
    "tfidf_model = TfidfVectorizer()\n",
    "tfidf_model.fit(preprocessed_essays)\n",
    "# we are converting a dictionary with word as a key, and the idf as a value\n",
    "dictionary = dict(zip(tfidf_model.get_feature_names(), list(tfidf_model.idf_)))\n",
    "tfidf_words = set(tfidf_model.get_feature_names())"
   ]
  },
  {
   "cell_type": "code",
   "execution_count": 11,
   "metadata": {
    "id": "Ls_XJnGAak4M"
   },
   "outputs": [],
   "source": [
    "\n",
    "with open('/content/drive/My Drive/Colab Notebooks/data/glove_vectors', 'rb') as f:\n",
    "    model = pickle.load(f)\n",
    "    glove_words =  set(model.keys())"
   ]
  },
  {
   "cell_type": "code",
   "execution_count": 12,
   "metadata": {
    "id": "aFeW-H5HaPqU"
   },
   "outputs": [],
   "source": [
    "# average Word2Vec\n",
    "# compute average word2vec for each review.\n",
    "def tfidf_w2vec(feature,glove_words,dictionary,tfidf_words):\n",
    "  tfidf_w2v_vectors = [] # the avg-w2v for each sentence/review is stored in this list\n",
    "  for sentence in feature: # for each review/sentence\n",
    "      vector = np.zeros(300) # as word vectors are of zero length\n",
    "      tf_idf_weight =0; # num of words with a valid vector in the sentence/review\n",
    "      for word in sentence.split(): # for each word in a review/sentence\n",
    "          if (word in glove_words) and (word in tfidf_words):\n",
    "              vec = model[word] # getting the vector for each word\n",
    "              # here we are multiplying idf value(dictionary[word]) and the tf value((sentence.count(word)/len(sentence.split())))\n",
    "              tf_idf = dictionary[word]*(sentence.count(word)/len(sentence.split())) # getting the tfidf value for each word\n",
    "              vector += (vec * tf_idf) # calculating tfidf weighted w2v\n",
    "              tf_idf_weight += tf_idf\n",
    "      if tf_idf_weight != 0:\n",
    "          vector /= tf_idf_weight\n",
    "      tfidf_w2v_vectors.append(vector)\n",
    "  return tfidf_w2v_vectors"
   ]
  },
  {
   "cell_type": "code",
   "execution_count": 13,
   "metadata": {
    "colab": {
     "base_uri": "https://localhost:8080/"
    },
    "id": "4SCVgKrtfd6f",
    "outputId": "4fa69654-9bc7-4f3e-8bee-4560521b9865"
   },
   "outputs": [
    {
     "name": "stdout",
     "output_type": "stream",
     "text": [
      "81936\n",
      "300\n"
     ]
    }
   ],
   "source": [
    "tfidf_w2vec_train = tfidf_w2vec(X_train['essay'],glove_words,dictionary,tfidf_words)\n",
    "tfidf_w2vec_test = tfidf_w2vec(X_test['essay'],glove_words,dictionary,tfidf_words)\n",
    "print(len(tfidf_w2vec_train))\n",
    "print(len(tfidf_w2vec_train[0]))"
   ]
  },
  {
   "cell_type": "markdown",
   "metadata": {
    "id": "S3Vxxv2Hsc31"
   },
   "source": [
    "<h2>1.4 Make Data Model Ready: encoding numerical, categorical features</h2>"
   ]
  },
  {
   "cell_type": "code",
   "execution_count": 14,
   "metadata": {
    "id": "KcLHVoy_qjkK"
   },
   "outputs": [],
   "source": [
    "#feature responsecoding with lapalace smoothing\n",
    "def feature_dictionary(alpha,feature,df):\n",
    "  value_counts = df[feature].value_counts()\n",
    "  #feature_dict will contain probability value of each feature\n",
    "  feature_dict = dict()\n",
    "  for i,denom in value_counts.items():\n",
    "    vec =[]\n",
    "    #feature with target = 1\n",
    "    cls_cnt = df.loc[(df['project_is_approved']==1) & (df[feature]==i)]\n",
    "    #here we are doing lapalace smoothing\n",
    "    vec.append((cls_cnt.shape[0] + alpha*10)/ (denom + 20*alpha))\n",
    "    #feature with target = 0\n",
    "    cls_cnt = df.loc[(df['project_is_approved']==0) & (df[feature]==i)]\n",
    "    vec.append((cls_cnt.shape[0] + alpha*10)/ (denom + 20*alpha))\n",
    "    feature_dict[i] = vec\n",
    "  return feature_dict\n",
    "\n",
    "def response_coding(alpha,feature,df):\n",
    "  feature_dict = feature_dictionary(alpha,feature,X_train)\n",
    "  value_counts = df[feature].value_counts()\n",
    "  response_features = []\n",
    "  # we will check if feature value exist in train feature_dict and if\n",
    "  #it is not we will add [0.5,0.5] to the feature\n",
    "  for index, row in df.iterrows():\n",
    "    if row[feature] in dict(feature_dict).keys():\n",
    "        response_features.append(feature_dict[row[feature]])\n",
    "    else:\n",
    "        response_features.append([1/2,1/2])\n",
    "  return response_features\n",
    "\n"
   ]
  },
  {
   "cell_type": "markdown",
   "metadata": {
    "id": "54OaF-PdYkzG"
   },
   "source": [
    "## Encoding Categorical features: School State ,teacher_prefix, project grade category,clean categories,clean subcategories"
   ]
  },
  {
   "cell_type": "code",
   "execution_count": 15,
   "metadata": {
    "id": "x5sfc_PBZBSl"
   },
   "outputs": [],
   "source": [
    "#for training data\n",
    "alpha = 1\n",
    "school_state_fe_train = np.array(response_coding(alpha,\"school_state\",X_train))\n",
    "teacher_prefix_fe_train = np.array(response_coding(alpha,\"teacher_prefix\",X_train))\n",
    "project_grade_category_fe_train = np.array(response_coding(alpha,\"project_grade_category\",X_train))\n",
    "clean_categories_fe_train = np.array(response_coding(alpha,\"clean_categories\",X_train))\n",
    "clean_subcategories_fe_train = np.array(response_coding(alpha,\"clean_subcategories\",X_train))"
   ]
  },
  {
   "cell_type": "code",
   "execution_count": 17,
   "metadata": {
    "colab": {
     "base_uri": "https://localhost:8080/"
    },
    "id": "_oXOTcgp3E5l",
    "outputId": "2ddac142-b8b2-473a-d518-c58d084ef781"
   },
   "outputs": [
    {
     "name": "stdout",
     "output_type": "stream",
     "text": [
      "(81936, 2)\n",
      "(81936, 2)\n",
      "(81936, 2)\n",
      "(81936, 2)\n",
      "(81936, 2)\n"
     ]
    }
   ],
   "source": [
    "print(school_state_fe_train.shape)\n",
    "print(teacher_prefix_fe_train.shape)\n",
    "print(project_grade_category_fe_train.shape)\n",
    "print(clean_categories_fe_train.shape)\n",
    "print(clean_subcategories_fe_train.shape)"
   ]
  },
  {
   "cell_type": "code",
   "execution_count": 18,
   "metadata": {
    "id": "IMHKUd41atJu"
   },
   "outputs": [],
   "source": [
    "#for test data\n",
    "alpha = 1\n",
    "school_state_fe_test = np.array(response_coding(alpha,\"school_state\",X_test))\n",
    "teacher_prefix_fe_test = np.array(response_coding(alpha,\"teacher_prefix\",X_test))\n",
    "project_grade_category_fe_test = np.array(response_coding(alpha,\"project_grade_category\",X_test))\n",
    "clean_categories_fe_test = np.array(response_coding(alpha,\"clean_categories\",X_test))\n",
    "clean_subcategories_fe_test = np.array(response_coding(alpha,\"clean_subcategories\",X_test))"
   ]
  },
  {
   "cell_type": "code",
   "execution_count": 19,
   "metadata": {
    "colab": {
     "base_uri": "https://localhost:8080/"
    },
    "id": "J_HaskPW3aw9",
    "outputId": "3269aa8b-5103-4ad4-e396-e8dacd225e0b"
   },
   "outputs": [
    {
     "name": "stdout",
     "output_type": "stream",
     "text": [
      "(27312, 2)\n",
      "(27312, 2)\n",
      "(27312, 2)\n",
      "(27312, 2)\n",
      "(27312, 2)\n"
     ]
    }
   ],
   "source": [
    "print(school_state_fe_test.shape)\n",
    "print(teacher_prefix_fe_test.shape)\n",
    "print(project_grade_category_fe_test.shape)\n",
    "print(clean_categories_fe_test.shape)\n",
    "print(clean_subcategories_fe_test.shape)"
   ]
  },
  {
   "cell_type": "markdown",
   "metadata": {
    "id": "Lnr9y-h1p6K_"
   },
   "source": [
    "## Encoding Numerical Features: teacher_number_of_previously_posted_projects , price"
   ]
  },
  {
   "cell_type": "code",
   "execution_count": 20,
   "metadata": {
    "colab": {
     "base_uri": "https://localhost:8080/"
    },
    "id": "dAann8G9lQD9",
    "outputId": "88f7222f-828a-4942-baef-435b570dae46"
   },
   "outputs": [
    {
     "name": "stdout",
     "output_type": "stream",
     "text": [
      "After vectorizations\n",
      "(81936, 1) (81936,)\n",
      "(27312, 1) (27312,)\n",
      "====================================================================================================\n"
     ]
    }
   ],
   "source": [
    "#Normalizing price column\n",
    "normalizer = Normalizer()\n",
    "price_norm_train=normalizer.fit_transform(X_train['price'].values.reshape(-1,1))\n",
    "price_norm_test = normalizer.transform(X_test['price'].values.reshape(-1,1))\n",
    "\n",
    "print(\"After vectorizations\")\n",
    "print(price_norm_train.shape, Y_train.shape)\n",
    "print(price_norm_test.shape, Y_test.shape)\n",
    "print(\"=\"*100)\n"
   ]
  },
  {
   "cell_type": "code",
   "execution_count": 21,
   "metadata": {
    "colab": {
     "base_uri": "https://localhost:8080/"
    },
    "id": "fs3QmbAeU6RS",
    "outputId": "2d161e31-a96e-4c3a-909f-8810e9cab920"
   },
   "outputs": [
    {
     "name": "stdout",
     "output_type": "stream",
     "text": [
      "After vectorizations\n",
      "(81936, 1) (81936,)\n",
      "(27312, 1) (27312,)\n",
      "====================================================================================================\n"
     ]
    }
   ],
   "source": [
    "#normalizing teacher_number_of_previously_posted_projects\n",
    "normalizer = Normalizer()\n",
    "teacher_number_of_previously_posted_projects_norm_train=normalizer.fit_transform(X_train['teacher_number_of_previously_posted_projects'].values.reshape(-1,1))\n",
    "teacher_number_of_previously_posted_projects_norm_test = normalizer.transform(X_test['teacher_number_of_previously_posted_projects'].values.reshape(-1,1))\n",
    "\n",
    "print(\"After vectorizations\")\n",
    "print(teacher_number_of_previously_posted_projects_norm_train.shape, Y_train.shape)\n",
    "print(teacher_number_of_previously_posted_projects_norm_test.shape, Y_test.shape)\n",
    "print(\"=\"*100)\n"
   ]
  },
  {
   "cell_type": "markdown",
   "metadata": {
    "id": "kWg57PDEtRZN"
   },
   "source": [
    "# TFIDF"
   ]
  },
  {
   "cell_type": "code",
   "execution_count": 22,
   "metadata": {
    "colab": {
     "base_uri": "https://localhost:8080/"
    },
    "id": "qj2yZMaLXuQS",
    "outputId": "48804417-6d00-404c-efaa-0b047bf55192"
   },
   "outputs": [
    {
     "name": "stdout",
     "output_type": "stream",
     "text": [
      "Final TFIDF Data matrix\n",
      "(81936, 5016) (81936,)\n",
      "(27312, 5016) (27312,)\n",
      "====================================================================================================\n"
     ]
    }
   ],
   "source": [
    "from scipy.sparse import hstack\n",
    "\n",
    "X_train_tfidf = hstack((essay_tfidf_train,school_state_fe_train,teacher_prefix_fe_train,\\\n",
    "                        project_grade_category_fe_train,\\\n",
    "               clean_categories_fe_train,clean_subcategories_fe_train,\\\n",
    "               teacher_number_of_previously_posted_projects_norm_train,price_norm_train,\\\n",
    "               np.array(X_train['neg']).reshape(-1,1),np.array(X_train['neu']).reshape(-1,1),\\\n",
    "               np.array(X_train['pos']).reshape(-1,1),np.array(X_train['compound']).reshape(-1,1))).tocsr()\n",
    "\n",
    "X_test_tfidf = hstack((essay_tfidf_test,school_state_fe_test,teacher_prefix_fe_test,project_grade_category_fe_test,\\\n",
    "               clean_categories_fe_test,clean_subcategories_fe_test,\\\n",
    "               teacher_number_of_previously_posted_projects_norm_test,price_norm_test,\\\n",
    "               np.array(X_test['neg']).reshape(-1,1),np.array(X_test['neu']).reshape(-1,1),\\\n",
    "               np.array(X_test['pos']).reshape(-1,1),np.array(X_test['compound']).reshape(-1,1))).tocsr()\n",
    "   \n",
    "print(\"Final TFIDF Data matrix\")\n",
    "print(X_train_tfidf.shape, Y_train.shape)\n",
    "print(X_test_tfidf.shape, Y_test.shape)\n",
    "print(\"=\"*100)"
   ]
  },
  {
   "cell_type": "markdown",
   "metadata": {
    "id": "2PeoDPHn-2Bf"
   },
   "source": [
    "# TFIDF-W2VEC"
   ]
  },
  {
   "cell_type": "code",
   "execution_count": 23,
   "metadata": {
    "colab": {
     "base_uri": "https://localhost:8080/"
    },
    "id": "dTCdfumE_cfH",
    "outputId": "dabb2067-dfe9-4a71-a5e9-b467466a27ff"
   },
   "outputs": [
    {
     "name": "stdout",
     "output_type": "stream",
     "text": [
      "(27312, 300)\n",
      "(81936, 300)\n"
     ]
    }
   ],
   "source": [
    "from scipy.sparse import coo_matrix\n",
    "tfidf_w2vec_train = coo_matrix(tfidf_w2vec_train)\n",
    "tfidf_w2vec_test = coo_matrix(tfidf_w2vec_test)\n",
    "print(tfidf_w2vec_test.shape)\n",
    "print(tfidf_w2vec_train.shape)"
   ]
  },
  {
   "cell_type": "code",
   "execution_count": 24,
   "metadata": {
    "colab": {
     "base_uri": "https://localhost:8080/"
    },
    "id": "v9ABx2kk-7jO",
    "outputId": "d6ab5e1c-e1dd-40a0-bde9-35a4a6cc07c0"
   },
   "outputs": [
    {
     "name": "stdout",
     "output_type": "stream",
     "text": [
      "Final TFIDF Data matrix\n",
      "(81936, 312) (81936,)\n",
      "(27312, 312) (27312,)\n",
      "====================================================================================================\n"
     ]
    }
   ],
   "source": [
    "from scipy.sparse import hstack\n",
    "\n",
    "X_train_w2vec = hstack((tfidf_w2vec_train,school_state_fe_train,teacher_prefix_fe_train,\\\n",
    "                        project_grade_category_fe_train,\\\n",
    "               clean_categories_fe_train,clean_subcategories_fe_train,\\\n",
    "               teacher_number_of_previously_posted_projects_norm_train,price_norm_train)).tocsr()\n",
    "\n",
    "X_test_w2vec = hstack((tfidf_w2vec_test,school_state_fe_test,teacher_prefix_fe_test,project_grade_category_fe_test,\\\n",
    "               clean_categories_fe_test,clean_subcategories_fe_test,\\\n",
    "               teacher_number_of_previously_posted_projects_norm_test,price_norm_test)).tocsr()\n",
    "   \n",
    "print(\"Final TFIDF Data matrix\")\n",
    "print(X_train_w2vec.shape, Y_train.shape)\n",
    "print(X_test_w2vec.shape, Y_test.shape)\n",
    "print(\"=\"*100)"
   ]
  },
  {
   "cell_type": "markdown",
   "metadata": {
    "id": "I5wDFj17sc3-"
   },
   "source": [
    "<h2>1.5 Appling Models on different kind of featurization as mentioned in the instructions</h2>"
   ]
  },
  {
   "cell_type": "markdown",
   "metadata": {
    "id": "RkPoadb9CJoL"
   },
   "source": [
    "# TFIDF Model with sentiments"
   ]
  },
  {
   "cell_type": "code",
   "execution_count": 40,
   "metadata": {
    "id": "sndjlEG7XllI"
   },
   "outputs": [],
   "source": [
    "from sklearn.model_selection import RandomizedSearchCV\n",
    "from xgboost import XGBClassifier\n",
    "from sklearn.metrics import roc_curve,confusion_matrix,auc,roc_auc_score\n",
    "from scipy import stats\n",
    "import plotly.graph_objects as go\n",
    "import seaborn as sns"
   ]
  },
  {
   "cell_type": "markdown",
   "metadata": {
    "id": "R7diDsMOXDah"
   },
   "source": [
    "### RandomSearchCV for best hyperparameter for our model"
   ]
  },
  {
   "cell_type": "code",
   "execution_count": 26,
   "metadata": {
    "id": "BDEfTR0nCPKG"
   },
   "outputs": [],
   "source": [
    "params = {'learning_rate':[0.01,0.1,0.3,0.7,1],\n",
    "          'n_estimator':[5,10,30,50,100,150],\n",
    "          'max_depth':[3,5,6,7,9,10],\n",
    "          'gamma':[0.001,0.01,0.1,0.2,0.3,0.5],\n",
    "          'min_child_weight' : [1,3,5,7],\n",
    "          'colsample_bytree' : [0.3,0.5,0.7,0.9]\n",
    "          }"
   ]
  },
  {
   "cell_type": "code",
   "execution_count": 96,
   "metadata": {
    "colab": {
     "base_uri": "https://localhost:8080/"
    },
    "id": "ErbaIJh-a_8A",
    "outputId": "d6f3621b-e0ab-4d16-dbf3-af8fc776a690"
   },
   "outputs": [
    {
     "name": "stdout",
     "output_type": "stream",
     "text": [
      "0.7019060142732091\n",
      "XGBClassifier(base_score=0.5, booster='gbtree', colsample_bylevel=1,\n",
      "              colsample_bynode=1, colsample_bytree=0.9, gamma=0.1,\n",
      "              learning_rate=0.1, max_delta_step=0, max_depth=9,\n",
      "              min_child_weight=5, missing=None, n_estimator=100,\n",
      "              n_estimators=100, n_jobs=1, nthread=None,\n",
      "              objective='binary:logistic', random_state=0, reg_alpha=0,\n",
      "              reg_lambda=1, scale_pos_weight=1, seed=None, silent=None,\n",
      "              subsample=1, verbosity=1)\n",
      "{'n_estimator': 100, 'min_child_weight': 5, 'max_depth': 9, 'learning_rate': 0.1, 'gamma': 0.1, 'colsample_bytree': 0.9}\n"
     ]
    }
   ],
   "source": [
    "xgb = XGBClassifier()\n",
    "rsclf = RandomizedSearchCV(xgb,param_distributions=params,cv =3,scoring='roc_auc',return_train_score=True)\n",
    "rsclf.fit(X_train_tfidf,Y_train)\n",
    "print(rsclf.best_score_)\n",
    "print(rsclf.best_estimator_)\n",
    "print(rsclf.best_params_)\n",
    "tfidf_res = pd.DataFrame.from_dict(rsclf.cv_results_)"
   ]
  },
  {
   "cell_type": "code",
   "execution_count": 97,
   "metadata": {
    "colab": {
     "base_uri": "https://localhost:8080/",
     "height": 787
    },
    "id": "PyEfbuyvWkc4",
    "outputId": "8de189b4-7ceb-4d6f-b618-615e1baf4e35"
   },
   "outputs": [
    {
     "data": {
      "text/html": [
       "<div>\n",
       "<style scoped>\n",
       "    .dataframe tbody tr th:only-of-type {\n",
       "        vertical-align: middle;\n",
       "    }\n",
       "\n",
       "    .dataframe tbody tr th {\n",
       "        vertical-align: top;\n",
       "    }\n",
       "\n",
       "    .dataframe thead th {\n",
       "        text-align: right;\n",
       "    }\n",
       "</style>\n",
       "<table border=\"1\" class=\"dataframe\">\n",
       "  <thead>\n",
       "    <tr style=\"text-align: right;\">\n",
       "      <th></th>\n",
       "      <th>mean_fit_time</th>\n",
       "      <th>std_fit_time</th>\n",
       "      <th>mean_score_time</th>\n",
       "      <th>std_score_time</th>\n",
       "      <th>param_n_estimator</th>\n",
       "      <th>param_min_child_weight</th>\n",
       "      <th>param_max_depth</th>\n",
       "      <th>param_learning_rate</th>\n",
       "      <th>param_gamma</th>\n",
       "      <th>param_colsample_bytree</th>\n",
       "      <th>params</th>\n",
       "      <th>split0_test_score</th>\n",
       "      <th>split1_test_score</th>\n",
       "      <th>split2_test_score</th>\n",
       "      <th>mean_test_score</th>\n",
       "      <th>std_test_score</th>\n",
       "      <th>rank_test_score</th>\n",
       "      <th>split0_train_score</th>\n",
       "      <th>split1_train_score</th>\n",
       "      <th>split2_train_score</th>\n",
       "      <th>mean_train_score</th>\n",
       "      <th>std_train_score</th>\n",
       "    </tr>\n",
       "  </thead>\n",
       "  <tbody>\n",
       "    <tr>\n",
       "      <th>0</th>\n",
       "      <td>131.047047</td>\n",
       "      <td>1.178668</td>\n",
       "      <td>1.259468</td>\n",
       "      <td>0.011931</td>\n",
       "      <td>150</td>\n",
       "      <td>3</td>\n",
       "      <td>5</td>\n",
       "      <td>0.3</td>\n",
       "      <td>0.001</td>\n",
       "      <td>0.9</td>\n",
       "      <td>{'n_estimator': 150, 'min_child_weight': 3, 'm...</td>\n",
       "      <td>0.694615</td>\n",
       "      <td>0.697693</td>\n",
       "      <td>0.691938</td>\n",
       "      <td>0.694749</td>\n",
       "      <td>0.002352</td>\n",
       "      <td>3</td>\n",
       "      <td>0.880078</td>\n",
       "      <td>0.885109</td>\n",
       "      <td>0.883296</td>\n",
       "      <td>0.882828</td>\n",
       "      <td>0.002080</td>\n",
       "    </tr>\n",
       "    <tr>\n",
       "      <th>1</th>\n",
       "      <td>148.638006</td>\n",
       "      <td>2.348904</td>\n",
       "      <td>1.395345</td>\n",
       "      <td>0.022145</td>\n",
       "      <td>5</td>\n",
       "      <td>7</td>\n",
       "      <td>10</td>\n",
       "      <td>0.3</td>\n",
       "      <td>0.3</td>\n",
       "      <td>0.5</td>\n",
       "      <td>{'n_estimator': 5, 'min_child_weight': 7, 'max...</td>\n",
       "      <td>0.685735</td>\n",
       "      <td>0.687182</td>\n",
       "      <td>0.684249</td>\n",
       "      <td>0.685722</td>\n",
       "      <td>0.001197</td>\n",
       "      <td>4</td>\n",
       "      <td>0.964214</td>\n",
       "      <td>0.965699</td>\n",
       "      <td>0.966740</td>\n",
       "      <td>0.965551</td>\n",
       "      <td>0.001036</td>\n",
       "    </tr>\n",
       "    <tr>\n",
       "      <th>2</th>\n",
       "      <td>144.553548</td>\n",
       "      <td>1.996707</td>\n",
       "      <td>1.484181</td>\n",
       "      <td>0.003335</td>\n",
       "      <td>10</td>\n",
       "      <td>5</td>\n",
       "      <td>10</td>\n",
       "      <td>0.01</td>\n",
       "      <td>0.1</td>\n",
       "      <td>0.5</td>\n",
       "      <td>{'n_estimator': 10, 'min_child_weight': 5, 'ma...</td>\n",
       "      <td>0.662412</td>\n",
       "      <td>0.670267</td>\n",
       "      <td>0.666360</td>\n",
       "      <td>0.666346</td>\n",
       "      <td>0.003207</td>\n",
       "      <td>5</td>\n",
       "      <td>0.806736</td>\n",
       "      <td>0.817066</td>\n",
       "      <td>0.822747</td>\n",
       "      <td>0.815516</td>\n",
       "      <td>0.006628</td>\n",
       "    </tr>\n",
       "    <tr>\n",
       "      <th>3</th>\n",
       "      <td>86.593909</td>\n",
       "      <td>0.164359</td>\n",
       "      <td>1.313186</td>\n",
       "      <td>0.009756</td>\n",
       "      <td>100</td>\n",
       "      <td>7</td>\n",
       "      <td>6</td>\n",
       "      <td>0.01</td>\n",
       "      <td>0.2</td>\n",
       "      <td>0.5</td>\n",
       "      <td>{'n_estimator': 100, 'min_child_weight': 7, 'm...</td>\n",
       "      <td>0.653076</td>\n",
       "      <td>0.660112</td>\n",
       "      <td>0.659027</td>\n",
       "      <td>0.657405</td>\n",
       "      <td>0.003093</td>\n",
       "      <td>7</td>\n",
       "      <td>0.710064</td>\n",
       "      <td>0.714757</td>\n",
       "      <td>0.716797</td>\n",
       "      <td>0.713873</td>\n",
       "      <td>0.002819</td>\n",
       "    </tr>\n",
       "    <tr>\n",
       "      <th>4</th>\n",
       "      <td>228.989824</td>\n",
       "      <td>0.320568</td>\n",
       "      <td>1.408301</td>\n",
       "      <td>0.011040</td>\n",
       "      <td>100</td>\n",
       "      <td>5</td>\n",
       "      <td>9</td>\n",
       "      <td>0.1</td>\n",
       "      <td>0.1</td>\n",
       "      <td>0.9</td>\n",
       "      <td>{'n_estimator': 100, 'min_child_weight': 5, 'm...</td>\n",
       "      <td>0.703000</td>\n",
       "      <td>0.700994</td>\n",
       "      <td>0.701724</td>\n",
       "      <td>0.701906</td>\n",
       "      <td>0.000829</td>\n",
       "      <td>1</td>\n",
       "      <td>0.921116</td>\n",
       "      <td>0.926109</td>\n",
       "      <td>0.926229</td>\n",
       "      <td>0.924485</td>\n",
       "      <td>0.002383</td>\n",
       "    </tr>\n",
       "    <tr>\n",
       "      <th>5</th>\n",
       "      <td>102.022076</td>\n",
       "      <td>0.587776</td>\n",
       "      <td>1.362695</td>\n",
       "      <td>0.004695</td>\n",
       "      <td>30</td>\n",
       "      <td>3</td>\n",
       "      <td>7</td>\n",
       "      <td>0.01</td>\n",
       "      <td>0.001</td>\n",
       "      <td>0.5</td>\n",
       "      <td>{'n_estimator': 30, 'min_child_weight': 3, 'ma...</td>\n",
       "      <td>0.657027</td>\n",
       "      <td>0.662809</td>\n",
       "      <td>0.661731</td>\n",
       "      <td>0.660522</td>\n",
       "      <td>0.002510</td>\n",
       "      <td>6</td>\n",
       "      <td>0.740982</td>\n",
       "      <td>0.745049</td>\n",
       "      <td>0.750338</td>\n",
       "      <td>0.745456</td>\n",
       "      <td>0.003831</td>\n",
       "    </tr>\n",
       "    <tr>\n",
       "      <th>6</th>\n",
       "      <td>124.105249</td>\n",
       "      <td>1.323889</td>\n",
       "      <td>1.356387</td>\n",
       "      <td>0.062822</td>\n",
       "      <td>5</td>\n",
       "      <td>5</td>\n",
       "      <td>6</td>\n",
       "      <td>0.1</td>\n",
       "      <td>0.001</td>\n",
       "      <td>0.7</td>\n",
       "      <td>{'n_estimator': 5, 'min_child_weight': 5, 'max...</td>\n",
       "      <td>0.702013</td>\n",
       "      <td>0.698975</td>\n",
       "      <td>0.699293</td>\n",
       "      <td>0.700094</td>\n",
       "      <td>0.001364</td>\n",
       "      <td>2</td>\n",
       "      <td>0.836641</td>\n",
       "      <td>0.844175</td>\n",
       "      <td>0.837043</td>\n",
       "      <td>0.839286</td>\n",
       "      <td>0.003460</td>\n",
       "    </tr>\n",
       "    <tr>\n",
       "      <th>7</th>\n",
       "      <td>31.968017</td>\n",
       "      <td>0.169108</td>\n",
       "      <td>1.221563</td>\n",
       "      <td>0.011089</td>\n",
       "      <td>30</td>\n",
       "      <td>1</td>\n",
       "      <td>3</td>\n",
       "      <td>0.01</td>\n",
       "      <td>0.3</td>\n",
       "      <td>0.3</td>\n",
       "      <td>{'n_estimator': 30, 'min_child_weight': 1, 'ma...</td>\n",
       "      <td>0.638950</td>\n",
       "      <td>0.648168</td>\n",
       "      <td>0.644271</td>\n",
       "      <td>0.643797</td>\n",
       "      <td>0.003778</td>\n",
       "      <td>8</td>\n",
       "      <td>0.657024</td>\n",
       "      <td>0.660805</td>\n",
       "      <td>0.659670</td>\n",
       "      <td>0.659167</td>\n",
       "      <td>0.001584</td>\n",
       "    </tr>\n",
       "    <tr>\n",
       "      <th>8</th>\n",
       "      <td>103.975758</td>\n",
       "      <td>0.470190</td>\n",
       "      <td>1.316843</td>\n",
       "      <td>0.006551</td>\n",
       "      <td>50</td>\n",
       "      <td>3</td>\n",
       "      <td>7</td>\n",
       "      <td>1</td>\n",
       "      <td>0.5</td>\n",
       "      <td>0.5</td>\n",
       "      <td>{'n_estimator': 50, 'min_child_weight': 3, 'ma...</td>\n",
       "      <td>0.638679</td>\n",
       "      <td>0.632944</td>\n",
       "      <td>0.630309</td>\n",
       "      <td>0.633977</td>\n",
       "      <td>0.003494</td>\n",
       "      <td>10</td>\n",
       "      <td>0.968437</td>\n",
       "      <td>0.969158</td>\n",
       "      <td>0.968381</td>\n",
       "      <td>0.968659</td>\n",
       "      <td>0.000354</td>\n",
       "    </tr>\n",
       "    <tr>\n",
       "      <th>9</th>\n",
       "      <td>129.977638</td>\n",
       "      <td>1.492744</td>\n",
       "      <td>1.401711</td>\n",
       "      <td>0.083156</td>\n",
       "      <td>150</td>\n",
       "      <td>5</td>\n",
       "      <td>9</td>\n",
       "      <td>1</td>\n",
       "      <td>0.5</td>\n",
       "      <td>0.5</td>\n",
       "      <td>{'n_estimator': 150, 'min_child_weight': 5, 'm...</td>\n",
       "      <td>0.633416</td>\n",
       "      <td>0.631417</td>\n",
       "      <td>0.638141</td>\n",
       "      <td>0.634325</td>\n",
       "      <td>0.002819</td>\n",
       "      <td>9</td>\n",
       "      <td>0.982901</td>\n",
       "      <td>0.985836</td>\n",
       "      <td>0.988224</td>\n",
       "      <td>0.985654</td>\n",
       "      <td>0.002177</td>\n",
       "    </tr>\n",
       "  </tbody>\n",
       "</table>\n",
       "</div>"
      ],
      "text/plain": [
       "   mean_fit_time  std_fit_time  ...  mean_train_score  std_train_score\n",
       "0     131.047047      1.178668  ...          0.882828         0.002080\n",
       "1     148.638006      2.348904  ...          0.965551         0.001036\n",
       "2     144.553548      1.996707  ...          0.815516         0.006628\n",
       "3      86.593909      0.164359  ...          0.713873         0.002819\n",
       "4     228.989824      0.320568  ...          0.924485         0.002383\n",
       "5     102.022076      0.587776  ...          0.745456         0.003831\n",
       "6     124.105249      1.323889  ...          0.839286         0.003460\n",
       "7      31.968017      0.169108  ...          0.659167         0.001584\n",
       "8     103.975758      0.470190  ...          0.968659         0.000354\n",
       "9     129.977638      1.492744  ...          0.985654         0.002177\n",
       "\n",
       "[10 rows x 22 columns]"
      ]
     },
     "execution_count": 97,
     "metadata": {
      "tags": []
     },
     "output_type": "execute_result"
    }
   ],
   "source": [
    "tfidf_res"
   ]
  },
  {
   "cell_type": "code",
   "execution_count": 98,
   "metadata": {
    "colab": {
     "base_uri": "https://localhost:8080/"
    },
    "id": "eeUf5efQav98",
    "outputId": "6956220d-f0f6-467b-b503-3c7dfbebdbc7"
   },
   "outputs": [
    {
     "data": {
      "text/plain": [
       "XGBClassifier(base_score=0.5, booster='gbtree', colsample_bylevel=1,\n",
       "              colsample_bynode=1, colsample_bytree=0.9, gamma=0.1,\n",
       "              learning_rate=0.1, max_delta_step=0, max_depth=9,\n",
       "              min_child_weight=5, missing=None, n_estimator=100,\n",
       "              n_estimators=100, n_jobs=1, nthread=None,\n",
       "              objective='binary:logistic', random_state=0, reg_alpha=0,\n",
       "              reg_lambda=1, scale_pos_weight=1, seed=None, silent=None,\n",
       "              subsample=1, verbosity=1)"
      ]
     },
     "execution_count": 98,
     "metadata": {
      "tags": []
     },
     "output_type": "execute_result"
    }
   ],
   "source": [
    "rsclf.best_estimator_"
   ]
  },
  {
   "cell_type": "markdown",
   "metadata": {
    "id": "EtEeTspPXLMw"
   },
   "source": [
    "### Plotting 3d-Scatter plot"
   ]
  },
  {
   "cell_type": "code",
   "execution_count": 86,
   "metadata": {
    "colab": {
     "base_uri": "https://localhost:8080/",
     "height": 562
    },
    "id": "s9aIe9mNIs5_",
    "outputId": "d7570237-94e6-4e46-cdf3-c9b6e5291535"
   },
   "outputs": [
    {
     "data": {
      "text/html": [
       "<html>\n",
       "<head><meta charset=\"utf-8\" /></head>\n",
       "<body>\n",
       "    <div>\n",
       "            <script src=\"https://cdnjs.cloudflare.com/ajax/libs/mathjax/2.7.5/MathJax.js?config=TeX-AMS-MML_SVG\"></script><script type=\"text/javascript\">if (window.MathJax) {MathJax.Hub.Config({SVG: {font: \"STIX-Web\"}});}</script>\n",
       "                <script type=\"text/javascript\">window.PlotlyConfig = {MathJaxConfig: 'local'};</script>\n",
       "        <script src=\"https://cdn.plot.ly/plotly-latest.min.js\"></script>    \n",
       "            <div id=\"90baf42a-4afb-430a-bb37-2429ea367abb\" class=\"plotly-graph-div\" style=\"height:525px; width:100%;\"></div>\n",
       "            <script type=\"text/javascript\">\n",
       "                \n",
       "                    window.PLOTLYENV=window.PLOTLYENV || {};\n",
       "                    \n",
       "                if (document.getElementById(\"90baf42a-4afb-430a-bb37-2429ea367abb\")) {\n",
       "                    Plotly.newPlot(\n",
       "                        '90baf42a-4afb-430a-bb37-2429ea367abb',\n",
       "                        [{\"name\": \"train\", \"type\": \"scatter3d\", \"x\": [150, 50, 50, 30, 5, 10, 30, 150, 150, 50], \"y\": [7, 9, 3, 5, 7, 7, 7, 9, 7, 3], \"z\": [0.9422577774457692, 0.985796996672847, 0.8039370481938851, 0.8147267952757339, 0.9252278971851396, 0.9088819242119669, 0.9558076652612079, 0.9263320594193484, 0.8793860064891357, 0.7837172932255911]}, {\"name\": \"Cross validation\", \"type\": \"scatter3d\", \"x\": [150, 50, 50, 30, 5, 10, 30, 150, 150, 50], \"y\": [7, 9, 3, 5, 7, 7, 7, 9, 7, 3], \"z\": [0.6806737791148111, 0.6726677898493959, 0.6967861446722585, 0.7008151241100631, 0.6838654559031454, 0.6897998805418885, 0.6787643728279473, 0.7050201657687157, 0.7048248453499179, 0.7007500421294449]}],\n",
       "                        {\"scene\": {\"xaxis\": {\"title\": {\"text\": \"min_sample_split\"}}, \"yaxis\": {\"title\": {\"text\": \"max_depth\"}}, \"zaxis\": {\"title\": {\"text\": \"AUC\"}}}, \"template\": {\"data\": {\"bar\": [{\"error_x\": {\"color\": \"#2a3f5f\"}, \"error_y\": {\"color\": \"#2a3f5f\"}, \"marker\": {\"line\": {\"color\": \"#E5ECF6\", \"width\": 0.5}}, \"type\": \"bar\"}], \"barpolar\": [{\"marker\": {\"line\": {\"color\": \"#E5ECF6\", \"width\": 0.5}}, \"type\": \"barpolar\"}], \"carpet\": [{\"aaxis\": {\"endlinecolor\": \"#2a3f5f\", \"gridcolor\": \"white\", \"linecolor\": \"white\", \"minorgridcolor\": \"white\", \"startlinecolor\": \"#2a3f5f\"}, \"baxis\": {\"endlinecolor\": \"#2a3f5f\", \"gridcolor\": \"white\", \"linecolor\": \"white\", \"minorgridcolor\": \"white\", \"startlinecolor\": \"#2a3f5f\"}, \"type\": \"carpet\"}], \"choropleth\": [{\"colorbar\": {\"outlinewidth\": 0, \"ticks\": \"\"}, \"type\": \"choropleth\"}], \"contour\": [{\"colorbar\": {\"outlinewidth\": 0, \"ticks\": \"\"}, \"colorscale\": [[0.0, \"#0d0887\"], [0.1111111111111111, \"#46039f\"], [0.2222222222222222, \"#7201a8\"], [0.3333333333333333, \"#9c179e\"], [0.4444444444444444, \"#bd3786\"], [0.5555555555555556, \"#d8576b\"], [0.6666666666666666, \"#ed7953\"], [0.7777777777777778, \"#fb9f3a\"], [0.8888888888888888, \"#fdca26\"], [1.0, \"#f0f921\"]], \"type\": \"contour\"}], \"contourcarpet\": [{\"colorbar\": {\"outlinewidth\": 0, \"ticks\": \"\"}, \"type\": \"contourcarpet\"}], \"heatmap\": [{\"colorbar\": {\"outlinewidth\": 0, \"ticks\": \"\"}, \"colorscale\": [[0.0, \"#0d0887\"], [0.1111111111111111, \"#46039f\"], [0.2222222222222222, \"#7201a8\"], [0.3333333333333333, \"#9c179e\"], [0.4444444444444444, \"#bd3786\"], [0.5555555555555556, \"#d8576b\"], [0.6666666666666666, \"#ed7953\"], [0.7777777777777778, \"#fb9f3a\"], [0.8888888888888888, \"#fdca26\"], [1.0, \"#f0f921\"]], \"type\": \"heatmap\"}], \"heatmapgl\": [{\"colorbar\": {\"outlinewidth\": 0, \"ticks\": \"\"}, \"colorscale\": [[0.0, \"#0d0887\"], [0.1111111111111111, \"#46039f\"], [0.2222222222222222, \"#7201a8\"], [0.3333333333333333, \"#9c179e\"], [0.4444444444444444, \"#bd3786\"], [0.5555555555555556, \"#d8576b\"], [0.6666666666666666, \"#ed7953\"], [0.7777777777777778, \"#fb9f3a\"], [0.8888888888888888, \"#fdca26\"], [1.0, \"#f0f921\"]], \"type\": \"heatmapgl\"}], \"histogram\": [{\"marker\": {\"colorbar\": {\"outlinewidth\": 0, \"ticks\": \"\"}}, \"type\": \"histogram\"}], \"histogram2d\": [{\"colorbar\": {\"outlinewidth\": 0, \"ticks\": \"\"}, \"colorscale\": [[0.0, \"#0d0887\"], [0.1111111111111111, \"#46039f\"], [0.2222222222222222, \"#7201a8\"], [0.3333333333333333, \"#9c179e\"], [0.4444444444444444, \"#bd3786\"], [0.5555555555555556, \"#d8576b\"], [0.6666666666666666, \"#ed7953\"], [0.7777777777777778, \"#fb9f3a\"], [0.8888888888888888, \"#fdca26\"], [1.0, \"#f0f921\"]], \"type\": \"histogram2d\"}], \"histogram2dcontour\": [{\"colorbar\": {\"outlinewidth\": 0, \"ticks\": \"\"}, \"colorscale\": [[0.0, \"#0d0887\"], [0.1111111111111111, \"#46039f\"], [0.2222222222222222, \"#7201a8\"], [0.3333333333333333, \"#9c179e\"], [0.4444444444444444, \"#bd3786\"], [0.5555555555555556, \"#d8576b\"], [0.6666666666666666, \"#ed7953\"], [0.7777777777777778, \"#fb9f3a\"], [0.8888888888888888, \"#fdca26\"], [1.0, \"#f0f921\"]], \"type\": \"histogram2dcontour\"}], \"mesh3d\": [{\"colorbar\": {\"outlinewidth\": 0, \"ticks\": \"\"}, \"type\": \"mesh3d\"}], \"parcoords\": [{\"line\": {\"colorbar\": {\"outlinewidth\": 0, \"ticks\": \"\"}}, \"type\": \"parcoords\"}], \"pie\": [{\"automargin\": true, \"type\": \"pie\"}], \"scatter\": [{\"marker\": {\"colorbar\": {\"outlinewidth\": 0, \"ticks\": \"\"}}, \"type\": \"scatter\"}], \"scatter3d\": [{\"line\": {\"colorbar\": {\"outlinewidth\": 0, \"ticks\": \"\"}}, \"marker\": {\"colorbar\": {\"outlinewidth\": 0, \"ticks\": \"\"}}, \"type\": \"scatter3d\"}], \"scattercarpet\": [{\"marker\": {\"colorbar\": {\"outlinewidth\": 0, \"ticks\": \"\"}}, \"type\": \"scattercarpet\"}], \"scattergeo\": [{\"marker\": {\"colorbar\": {\"outlinewidth\": 0, \"ticks\": \"\"}}, \"type\": \"scattergeo\"}], \"scattergl\": [{\"marker\": {\"colorbar\": {\"outlinewidth\": 0, \"ticks\": \"\"}}, \"type\": \"scattergl\"}], \"scattermapbox\": [{\"marker\": {\"colorbar\": {\"outlinewidth\": 0, \"ticks\": \"\"}}, \"type\": \"scattermapbox\"}], \"scatterpolar\": [{\"marker\": {\"colorbar\": {\"outlinewidth\": 0, \"ticks\": \"\"}}, \"type\": \"scatterpolar\"}], \"scatterpolargl\": [{\"marker\": {\"colorbar\": {\"outlinewidth\": 0, \"ticks\": \"\"}}, \"type\": \"scatterpolargl\"}], \"scatterternary\": [{\"marker\": {\"colorbar\": {\"outlinewidth\": 0, \"ticks\": \"\"}}, \"type\": \"scatterternary\"}], \"surface\": [{\"colorbar\": {\"outlinewidth\": 0, \"ticks\": \"\"}, \"colorscale\": [[0.0, \"#0d0887\"], [0.1111111111111111, \"#46039f\"], [0.2222222222222222, \"#7201a8\"], [0.3333333333333333, \"#9c179e\"], [0.4444444444444444, \"#bd3786\"], [0.5555555555555556, \"#d8576b\"], [0.6666666666666666, \"#ed7953\"], [0.7777777777777778, \"#fb9f3a\"], [0.8888888888888888, \"#fdca26\"], [1.0, \"#f0f921\"]], \"type\": \"surface\"}], \"table\": [{\"cells\": {\"fill\": {\"color\": \"#EBF0F8\"}, \"line\": {\"color\": \"white\"}}, \"header\": {\"fill\": {\"color\": \"#C8D4E3\"}, \"line\": {\"color\": \"white\"}}, \"type\": \"table\"}]}, \"layout\": {\"annotationdefaults\": {\"arrowcolor\": \"#2a3f5f\", \"arrowhead\": 0, \"arrowwidth\": 1}, \"coloraxis\": {\"colorbar\": {\"outlinewidth\": 0, \"ticks\": \"\"}}, \"colorscale\": {\"diverging\": [[0, \"#8e0152\"], [0.1, \"#c51b7d\"], [0.2, \"#de77ae\"], [0.3, \"#f1b6da\"], [0.4, \"#fde0ef\"], [0.5, \"#f7f7f7\"], [0.6, \"#e6f5d0\"], [0.7, \"#b8e186\"], [0.8, \"#7fbc41\"], [0.9, \"#4d9221\"], [1, \"#276419\"]], \"sequential\": [[0.0, \"#0d0887\"], [0.1111111111111111, \"#46039f\"], [0.2222222222222222, \"#7201a8\"], [0.3333333333333333, \"#9c179e\"], [0.4444444444444444, \"#bd3786\"], [0.5555555555555556, \"#d8576b\"], [0.6666666666666666, \"#ed7953\"], [0.7777777777777778, \"#fb9f3a\"], [0.8888888888888888, \"#fdca26\"], [1.0, \"#f0f921\"]], \"sequentialminus\": [[0.0, \"#0d0887\"], [0.1111111111111111, \"#46039f\"], [0.2222222222222222, \"#7201a8\"], [0.3333333333333333, \"#9c179e\"], [0.4444444444444444, \"#bd3786\"], [0.5555555555555556, \"#d8576b\"], [0.6666666666666666, \"#ed7953\"], [0.7777777777777778, \"#fb9f3a\"], [0.8888888888888888, \"#fdca26\"], [1.0, \"#f0f921\"]]}, \"colorway\": [\"#636efa\", \"#EF553B\", \"#00cc96\", \"#ab63fa\", \"#FFA15A\", \"#19d3f3\", \"#FF6692\", \"#B6E880\", \"#FF97FF\", \"#FECB52\"], \"font\": {\"color\": \"#2a3f5f\"}, \"geo\": {\"bgcolor\": \"white\", \"lakecolor\": \"white\", \"landcolor\": \"#E5ECF6\", \"showlakes\": true, \"showland\": true, \"subunitcolor\": \"white\"}, \"hoverlabel\": {\"align\": \"left\"}, \"hovermode\": \"closest\", \"mapbox\": {\"style\": \"light\"}, \"paper_bgcolor\": \"white\", \"plot_bgcolor\": \"#E5ECF6\", \"polar\": {\"angularaxis\": {\"gridcolor\": \"white\", \"linecolor\": \"white\", \"ticks\": \"\"}, \"bgcolor\": \"#E5ECF6\", \"radialaxis\": {\"gridcolor\": \"white\", \"linecolor\": \"white\", \"ticks\": \"\"}}, \"scene\": {\"xaxis\": {\"backgroundcolor\": \"#E5ECF6\", \"gridcolor\": \"white\", \"gridwidth\": 2, \"linecolor\": \"white\", \"showbackground\": true, \"ticks\": \"\", \"zerolinecolor\": \"white\"}, \"yaxis\": {\"backgroundcolor\": \"#E5ECF6\", \"gridcolor\": \"white\", \"gridwidth\": 2, \"linecolor\": \"white\", \"showbackground\": true, \"ticks\": \"\", \"zerolinecolor\": \"white\"}, \"zaxis\": {\"backgroundcolor\": \"#E5ECF6\", \"gridcolor\": \"white\", \"gridwidth\": 2, \"linecolor\": \"white\", \"showbackground\": true, \"ticks\": \"\", \"zerolinecolor\": \"white\"}}, \"shapedefaults\": {\"line\": {\"color\": \"#2a3f5f\"}}, \"ternary\": {\"aaxis\": {\"gridcolor\": \"white\", \"linecolor\": \"white\", \"ticks\": \"\"}, \"baxis\": {\"gridcolor\": \"white\", \"linecolor\": \"white\", \"ticks\": \"\"}, \"bgcolor\": \"#E5ECF6\", \"caxis\": {\"gridcolor\": \"white\", \"linecolor\": \"white\", \"ticks\": \"\"}}, \"title\": {\"x\": 0.05}, \"xaxis\": {\"automargin\": true, \"gridcolor\": \"white\", \"linecolor\": \"white\", \"ticks\": \"\", \"title\": {\"standoff\": 15}, \"zerolinecolor\": \"white\", \"zerolinewidth\": 2}, \"yaxis\": {\"automargin\": true, \"gridcolor\": \"white\", \"linecolor\": \"white\", \"ticks\": \"\", \"title\": {\"standoff\": 15}, \"zerolinecolor\": \"white\", \"zerolinewidth\": 2}}}},\n",
       "                        {\"responsive\": true}\n",
       "                    ).then(function(){\n",
       "                            \n",
       "var gd = document.getElementById('90baf42a-4afb-430a-bb37-2429ea367abb');\n",
       "var x = new MutationObserver(function (mutations, observer) {{\n",
       "        var display = window.getComputedStyle(gd).display;\n",
       "        if (!display || display === 'none') {{\n",
       "            console.log([gd, 'removed!']);\n",
       "            Plotly.purge(gd);\n",
       "            observer.disconnect();\n",
       "        }}\n",
       "}});\n",
       "\n",
       "// Listen for the removal of the full notebook cells\n",
       "var notebookContainer = gd.closest('#notebook-container');\n",
       "if (notebookContainer) {{\n",
       "    x.observe(notebookContainer, {childList: true});\n",
       "}}\n",
       "\n",
       "// Listen for the clearing of the current output cell\n",
       "var outputEl = gd.closest('.output');\n",
       "if (outputEl) {{\n",
       "    x.observe(outputEl, {childList: true});\n",
       "}}\n",
       "\n",
       "                        })\n",
       "                };\n",
       "                \n",
       "            </script>\n",
       "        </div>\n",
       "</body>\n",
       "</html>"
      ]
     },
     "metadata": {
      "tags": []
     },
     "output_type": "display_data"
    }
   ],
   "source": [
    "#reference: https://plotly.com/python/3d-scatter-plots/\n",
    "x = tfidf_res['param_n_estimator']\n",
    "y =  tfidf_res['param_max_depth']\n",
    "z_test = tfidf_res['mean_test_score']\n",
    "z_train = tfidf_res['mean_train_score']\n",
    "trace1 = go.Scatter3d(x=x,y=y,z=z_train, name = 'train')\n",
    "trace2 = go.Scatter3d(x=x,y=y,z=z_test, name = 'Cross validation')\n",
    "data = [trace1, trace2]\n",
    "layout = go.Layout(scene = dict(\n",
    "        xaxis = dict(title='min_sample_split'),\n",
    "        yaxis = dict(title='max_depth'),\n",
    "        zaxis = dict(title='AUC'),))\n",
    "fig = go.Figure(data=data,layout=layout)\n",
    "fig.show()"
   ]
  },
  {
   "cell_type": "markdown",
   "metadata": {
    "id": "So0wBU1fXRAq"
   },
   "source": [
    "### Training model on best hyperparameters and plotting roc curve"
   ]
  },
  {
   "cell_type": "code",
   "execution_count": 41,
   "metadata": {
    "colab": {
     "base_uri": "https://localhost:8080/",
     "height": 295
    },
    "id": "GnJvh5IZBuMm",
    "outputId": "57acbe17-f232-4aea-edda-24f958aa09b9"
   },
   "outputs": [
    {
     "data": {
      "image/png": "[encoded data removed]",
      "text/plain": [
       "<Figure size 432x288 with 1 Axes>"
      ]
     },
     "metadata": {
      "needs_background": "light",
      "tags": []
     },
     "output_type": "display_data"
    }
   ],
   "source": [
    "# Reference: https://machinelearningmastery.com/develop-first-xgboost-model-python-scikit-learn/\n",
    "xgb_tfidf = XGBClassifier(base_score=0.5, booster='gbtree', colsample_bylevel=1,\n",
    "              colsample_bynode=1, colsample_bytree=0.9, gamma=0.1,\n",
    "              learning_rate=0.1, max_delta_step=0, max_depth=9,\n",
    "              min_child_weight=5, missing=None, n_estimator=100,\n",
    "              n_estimators=100, n_jobs=1, nthread=None,\n",
    "              objective='binary:logistic', random_state=0, reg_alpha=0,\n",
    "              reg_lambda=1, scale_pos_weight=1, seed=None, silent=None,\n",
    "              subsample=1, verbosity=1)\n",
    "\n",
    "xgb_tfidf.fit(X_train_tfidf,Y_train)\n",
    "# By default, the predictions made by XGBoost are probabilities\n",
    "y_train_pred_tfidf = xgb_tfidf.predict_proba(X_train_tfidf)[:,1] \n",
    "y_test_pred_tfidf = xgb_tfidf.predict_proba(X_test_tfidf)[:,1] \n",
    "\n",
    "train_fpr, train_tpr, tr_thresholds = roc_curve(Y_train, y_train_pred_tfidf)\n",
    "test_fpr, test_tpr, te_thresholds = roc_curve(Y_test, y_test_pred_tfidf)\n",
    "\n",
    "plt.plot(train_fpr, train_tpr, label=\"train AUC =\"+str(auc(train_fpr, train_tpr)))\n",
    "plt.plot(test_fpr, test_tpr, label=\"test AUC =\"+str(auc(test_fpr, test_tpr)))\n",
    "plt.legend()\n",
    "plt.xlabel(\"False Positive Rate\")\n",
    "plt.ylabel(\"True Positive rate\")\n",
    "plt.title(\"ROC curve\")\n",
    "plt.grid()\n",
    "plt.show()\n"
   ]
  },
  {
   "cell_type": "markdown",
   "metadata": {
    "id": "mSDgtY9mKDXO"
   },
   "source": [
    "### Confusion Matrix"
   ]
  },
  {
   "cell_type": "code",
   "execution_count": 42,
   "metadata": {
    "colab": {
     "base_uri": "https://localhost:8080/"
    },
    "id": "c7bL4HLHKCmB",
    "outputId": "71c7ad61-b9d9-4922-c86d-f26b930c599e"
   },
   "outputs": [
    {
     "name": "stdout",
     "output_type": "stream",
     "text": [
      "Training Confusion Matrix\n",
      "[[  975 11431]\n",
      " [    6 69524]]\n",
      "##################################################\n",
      "##################################################\n",
      "\n",
      "Test Confusion Matrix\n",
      "[[   21  4115]\n",
      " [   46 23130]]\n"
     ]
    }
   ],
   "source": [
    "print(\"Training Confusion Matrix\")\n",
    "y_train_pred_ = [round(value) for value in y_train_pred_tfidf]\n",
    "print(confusion_matrix(Y_train, y_train_pred_))\n",
    "\n",
    "print(\"#\"*50)\n",
    "print(\"#\"*50)\n",
    "print(\"\\nTest Confusion Matrix\")\n",
    "y_test_pred_ = [round(value) for value in y_test_pred_tfidf]\n",
    "print(confusion_matrix(Y_test, y_test_pred_))"
   ]
  },
  {
   "cell_type": "code",
   "execution_count": 43,
   "metadata": {
    "colab": {
     "base_uri": "https://localhost:8080/",
     "height": 282
    },
    "id": "TyuEoj75LNSJ",
    "outputId": "1864c406-7bfd-42da-d46e-1bd461b5f65e"
   },
   "outputs": [
    {
     "data": {
      "text/plain": [
       "<matplotlib.axes._subplots.AxesSubplot at 0x7f90758e6dd8>"
      ]
     },
     "execution_count": 43,
     "metadata": {
      "tags": []
     },
     "output_type": "execute_result"
    },
    {
     "data": {
      "image/png": "[encoded data removed]",
      "text/plain": [
       "<Figure size 432x288 with 2 Axes>"
      ]
     },
     "metadata": {
      "needs_background": "light",
      "tags": []
     },
     "output_type": "display_data"
    }
   ],
   "source": [
    "confusion_m = pd.DataFrame(confusion_matrix(Y_train, y_train_pred_))\n",
    "sns.heatmap(confusion_m, annot=True,annot_kws={\"size\": 16}, fmt='g')"
   ]
  },
  {
   "cell_type": "code",
   "execution_count": 44,
   "metadata": {
    "colab": {
     "base_uri": "https://localhost:8080/",
     "height": 282
    },
    "id": "6qDOmlcxMQJn",
    "outputId": "16a90d42-34aa-4150-e743-e837e2989a8e"
   },
   "outputs": [
    {
     "data": {
      "text/plain": [
       "<matplotlib.axes._subplots.AxesSubplot at 0x7f9071652cf8>"
      ]
     },
     "execution_count": 44,
     "metadata": {
      "tags": []
     },
     "output_type": "execute_result"
    },
    {
     "data": {
      "image/png": "[encoded data removed]",
      "text/plain": [
       "<Figure size 432x288 with 2 Axes>"
      ]
     },
     "metadata": {
      "needs_background": "light",
      "tags": []
     },
     "output_type": "display_data"
    }
   ],
   "source": [
    "confusion_m = pd.DataFrame(confusion_matrix(Y_test, y_test_pred_))\n",
    "sns.heatmap(confusion_m, annot=True,annot_kws={\"size\": 16}, fmt='g')"
   ]
  },
  {
   "cell_type": "markdown",
   "metadata": {
    "id": "8Ifndvjxe3Vz"
   },
   "source": [
    "# TFIDF-W2VEC Model"
   ]
  },
  {
   "cell_type": "markdown",
   "metadata": {
    "id": "U5KNIb4JJrG0"
   },
   "source": [
    "### RandomSearchCV for finding best hyperparameter"
   ]
  },
  {
   "cell_type": "code",
   "execution_count": 27,
   "metadata": {
    "colab": {
     "base_uri": "https://localhost:8080/"
    },
    "id": "Dgy1kar-e77p",
    "outputId": "ea5c774a-fc5c-4049-b935-454a6f711892"
   },
   "outputs": [
    {
     "name": "stdout",
     "output_type": "stream",
     "text": [
      "0.6940107771973844\n",
      "XGBClassifier(base_score=0.5, booster='gbtree', colsample_bylevel=1,\n",
      "              colsample_bynode=1, colsample_bytree=0.5, gamma=0.01,\n",
      "              learning_rate=0.1, max_delta_step=0, max_depth=5,\n",
      "              min_child_weight=1, missing=None, n_estimator=50,\n",
      "              n_estimators=100, n_jobs=1, nthread=None,\n",
      "              objective='binary:logistic', random_state=0, reg_alpha=0,\n",
      "              reg_lambda=1, scale_pos_weight=1, seed=None, silent=None,\n",
      "              subsample=1, verbosity=1)\n",
      "{'n_estimator': 50, 'min_child_weight': 1, 'max_depth': 5, 'learning_rate': 0.1, 'gamma': 0.01, 'colsample_bytree': 0.5}\n"
     ]
    }
   ],
   "source": [
    "xgb = XGBClassifier()\n",
    "rsclf = RandomizedSearchCV(xgb,param_distributions=params,cv =3,scoring='roc_auc',return_train_score=True)\n",
    "rsclf.fit(X_train_w2vec,Y_train)\n",
    "print(rsclf.best_score_)\n",
    "print(rsclf.best_estimator_)\n",
    "print(rsclf.best_params_)\n",
    "tfidfw2v_res = pd.DataFrame.from_dict(rsclf.cv_results_)"
   ]
  },
  {
   "cell_type": "markdown",
   "metadata": {
    "id": "NycnZ1GxJ0VH"
   },
   "source": [
    "### Plotting 3d-Scatter plot"
   ]
  },
  {
   "cell_type": "code",
   "execution_count": 28,
   "metadata": {
    "colab": {
     "base_uri": "https://localhost:8080/",
     "height": 542
    },
    "id": "jeUSAMg4LH1j",
    "outputId": "97dc888f-cac9-484e-da59-2b400a03df31"
   },
   "outputs": [
    {
     "data": {
      "text/html": [
       "<html>\n",
       "<head><meta charset=\"utf-8\" /></head>\n",
       "<body>\n",
       "    <div>\n",
       "            <script src=\"https://cdnjs.cloudflare.com/ajax/libs/mathjax/2.7.5/MathJax.js?config=TeX-AMS-MML_SVG\"></script><script type=\"text/javascript\">if (window.MathJax) {MathJax.Hub.Config({SVG: {font: \"STIX-Web\"}});}</script>\n",
       "                <script type=\"text/javascript\">window.PlotlyConfig = {MathJaxConfig: 'local'};</script>\n",
       "        <script src=\"https://cdn.plot.ly/plotly-latest.min.js\"></script>    \n",
       "            <div id=\"77e038af-f4a1-4e6d-9b00-ec534b98d225\" class=\"plotly-graph-div\" style=\"height:525px; width:100%;\"></div>\n",
       "            <script type=\"text/javascript\">\n",
       "                \n",
       "                    window.PLOTLYENV=window.PLOTLYENV || {};\n",
       "                    \n",
       "                if (document.getElementById(\"77e038af-f4a1-4e6d-9b00-ec534b98d225\")) {\n",
       "                    Plotly.newPlot(\n",
       "                        '77e038af-f4a1-4e6d-9b00-ec534b98d225',\n",
       "                        [{\"name\": \"train\", \"type\": \"scatter3d\", \"x\": [5, 10, 50, 5, 5, 150, 50, 50, 5, 30], \"y\": [3, 10, 3, 5, 7, 7, 5, 9, 10, 9], \"z\": [0.8329767736908101, 0.9999996922065577, 0.8228354964034548, 0.9245872236034897, 0.992284959195893, 0.9999991105349114, 0.8386111891573194, 0.9999994252816803, 0.999999654383345, 0.9991169578302744]}, {\"name\": \"Cross validation\", \"type\": \"scatter3d\", \"x\": [5, 10, 50, 5, 5, 150, 50, 50, 5, 30], \"y\": [3, 10, 3, 5, 7, 7, 5, 9, 10, 9], \"z\": [0.6468701372693426, 0.6211859701056982, 0.6535496865929908, 0.6741931833345909, 0.6624123794446023, 0.6302888330563975, 0.6940107771973844, 0.6359504542460982, 0.6338861403389252, 0.6841323130746142]}],\n",
       "                        {\"scene\": {\"xaxis\": {\"title\": {\"text\": \"min_sample_split\"}}, \"yaxis\": {\"title\": {\"text\": \"max_depth\"}}, \"zaxis\": {\"title\": {\"text\": \"AUC\"}}}, \"template\": {\"data\": {\"bar\": [{\"error_x\": {\"color\": \"#2a3f5f\"}, \"error_y\": {\"color\": \"#2a3f5f\"}, \"marker\": {\"line\": {\"color\": \"#E5ECF6\", \"width\": 0.5}}, \"type\": \"bar\"}], \"barpolar\": [{\"marker\": {\"line\": {\"color\": \"#E5ECF6\", \"width\": 0.5}}, \"type\": \"barpolar\"}], \"carpet\": [{\"aaxis\": {\"endlinecolor\": \"#2a3f5f\", \"gridcolor\": \"white\", \"linecolor\": \"white\", \"minorgridcolor\": \"white\", \"startlinecolor\": \"#2a3f5f\"}, \"baxis\": {\"endlinecolor\": \"#2a3f5f\", \"gridcolor\": \"white\", \"linecolor\": \"white\", \"minorgridcolor\": \"white\", \"startlinecolor\": \"#2a3f5f\"}, \"type\": \"carpet\"}], \"choropleth\": [{\"colorbar\": {\"outlinewidth\": 0, \"ticks\": \"\"}, \"type\": \"choropleth\"}], \"contour\": [{\"colorbar\": {\"outlinewidth\": 0, \"ticks\": \"\"}, \"colorscale\": [[0.0, \"#0d0887\"], [0.1111111111111111, \"#46039f\"], [0.2222222222222222, \"#7201a8\"], [0.3333333333333333, \"#9c179e\"], [0.4444444444444444, \"#bd3786\"], [0.5555555555555556, \"#d8576b\"], [0.6666666666666666, \"#ed7953\"], [0.7777777777777778, \"#fb9f3a\"], [0.8888888888888888, \"#fdca26\"], [1.0, \"#f0f921\"]], \"type\": \"contour\"}], \"contourcarpet\": [{\"colorbar\": {\"outlinewidth\": 0, \"ticks\": \"\"}, \"type\": \"contourcarpet\"}], \"heatmap\": [{\"colorbar\": {\"outlinewidth\": 0, \"ticks\": \"\"}, \"colorscale\": [[0.0, \"#0d0887\"], [0.1111111111111111, \"#46039f\"], [0.2222222222222222, \"#7201a8\"], [0.3333333333333333, \"#9c179e\"], [0.4444444444444444, \"#bd3786\"], [0.5555555555555556, \"#d8576b\"], [0.6666666666666666, \"#ed7953\"], [0.7777777777777778, \"#fb9f3a\"], [0.8888888888888888, \"#fdca26\"], [1.0, \"#f0f921\"]], \"type\": \"heatmap\"}], \"heatmapgl\": [{\"colorbar\": {\"outlinewidth\": 0, \"ticks\": \"\"}, \"colorscale\": [[0.0, \"#0d0887\"], [0.1111111111111111, \"#46039f\"], [0.2222222222222222, \"#7201a8\"], [0.3333333333333333, \"#9c179e\"], [0.4444444444444444, \"#bd3786\"], [0.5555555555555556, \"#d8576b\"], [0.6666666666666666, \"#ed7953\"], [0.7777777777777778, \"#fb9f3a\"], [0.8888888888888888, \"#fdca26\"], [1.0, \"#f0f921\"]], \"type\": \"heatmapgl\"}], \"histogram\": [{\"marker\": {\"colorbar\": {\"outlinewidth\": 0, \"ticks\": \"\"}}, \"type\": \"histogram\"}], \"histogram2d\": [{\"colorbar\": {\"outlinewidth\": 0, \"ticks\": \"\"}, \"colorscale\": [[0.0, \"#0d0887\"], [0.1111111111111111, \"#46039f\"], [0.2222222222222222, \"#7201a8\"], [0.3333333333333333, \"#9c179e\"], [0.4444444444444444, \"#bd3786\"], [0.5555555555555556, \"#d8576b\"], [0.6666666666666666, \"#ed7953\"], [0.7777777777777778, \"#fb9f3a\"], [0.8888888888888888, \"#fdca26\"], [1.0, \"#f0f921\"]], \"type\": \"histogram2d\"}], \"histogram2dcontour\": [{\"colorbar\": {\"outlinewidth\": 0, \"ticks\": \"\"}, \"colorscale\": [[0.0, \"#0d0887\"], [0.1111111111111111, \"#46039f\"], [0.2222222222222222, \"#7201a8\"], [0.3333333333333333, \"#9c179e\"], [0.4444444444444444, \"#bd3786\"], [0.5555555555555556, \"#d8576b\"], [0.6666666666666666, \"#ed7953\"], [0.7777777777777778, \"#fb9f3a\"], [0.8888888888888888, \"#fdca26\"], [1.0, \"#f0f921\"]], \"type\": \"histogram2dcontour\"}], \"mesh3d\": [{\"colorbar\": {\"outlinewidth\": 0, \"ticks\": \"\"}, \"type\": \"mesh3d\"}], \"parcoords\": [{\"line\": {\"colorbar\": {\"outlinewidth\": 0, \"ticks\": \"\"}}, \"type\": \"parcoords\"}], \"pie\": [{\"automargin\": true, \"type\": \"pie\"}], \"scatter\": [{\"marker\": {\"colorbar\": {\"outlinewidth\": 0, \"ticks\": \"\"}}, \"type\": \"scatter\"}], \"scatter3d\": [{\"line\": {\"colorbar\": {\"outlinewidth\": 0, \"ticks\": \"\"}}, \"marker\": {\"colorbar\": {\"outlinewidth\": 0, \"ticks\": \"\"}}, \"type\": \"scatter3d\"}], \"scattercarpet\": [{\"marker\": {\"colorbar\": {\"outlinewidth\": 0, \"ticks\": \"\"}}, \"type\": \"scattercarpet\"}], \"scattergeo\": [{\"marker\": {\"colorbar\": {\"outlinewidth\": 0, \"ticks\": \"\"}}, \"type\": \"scattergeo\"}], \"scattergl\": [{\"marker\": {\"colorbar\": {\"outlinewidth\": 0, \"ticks\": \"\"}}, \"type\": \"scattergl\"}], \"scattermapbox\": [{\"marker\": {\"colorbar\": {\"outlinewidth\": 0, \"ticks\": \"\"}}, \"type\": \"scattermapbox\"}], \"scatterpolar\": [{\"marker\": {\"colorbar\": {\"outlinewidth\": 0, \"ticks\": \"\"}}, \"type\": \"scatterpolar\"}], \"scatterpolargl\": [{\"marker\": {\"colorbar\": {\"outlinewidth\": 0, \"ticks\": \"\"}}, \"type\": \"scatterpolargl\"}], \"scatterternary\": [{\"marker\": {\"colorbar\": {\"outlinewidth\": 0, \"ticks\": \"\"}}, \"type\": \"scatterternary\"}], \"surface\": [{\"colorbar\": {\"outlinewidth\": 0, \"ticks\": \"\"}, \"colorscale\": [[0.0, \"#0d0887\"], [0.1111111111111111, \"#46039f\"], [0.2222222222222222, \"#7201a8\"], [0.3333333333333333, \"#9c179e\"], [0.4444444444444444, \"#bd3786\"], [0.5555555555555556, \"#d8576b\"], [0.6666666666666666, \"#ed7953\"], [0.7777777777777778, \"#fb9f3a\"], [0.8888888888888888, \"#fdca26\"], [1.0, \"#f0f921\"]], \"type\": \"surface\"}], \"table\": [{\"cells\": {\"fill\": {\"color\": \"#EBF0F8\"}, \"line\": {\"color\": \"white\"}}, \"header\": {\"fill\": {\"color\": \"#C8D4E3\"}, \"line\": {\"color\": \"white\"}}, \"type\": \"table\"}]}, \"layout\": {\"annotationdefaults\": {\"arrowcolor\": \"#2a3f5f\", \"arrowhead\": 0, \"arrowwidth\": 1}, \"coloraxis\": {\"colorbar\": {\"outlinewidth\": 0, \"ticks\": \"\"}}, \"colorscale\": {\"diverging\": [[0, \"#8e0152\"], [0.1, \"#c51b7d\"], [0.2, \"#de77ae\"], [0.3, \"#f1b6da\"], [0.4, \"#fde0ef\"], [0.5, \"#f7f7f7\"], [0.6, \"#e6f5d0\"], [0.7, \"#b8e186\"], [0.8, \"#7fbc41\"], [0.9, \"#4d9221\"], [1, \"#276419\"]], \"sequential\": [[0.0, \"#0d0887\"], [0.1111111111111111, \"#46039f\"], [0.2222222222222222, \"#7201a8\"], [0.3333333333333333, \"#9c179e\"], [0.4444444444444444, \"#bd3786\"], [0.5555555555555556, \"#d8576b\"], [0.6666666666666666, \"#ed7953\"], [0.7777777777777778, \"#fb9f3a\"], [0.8888888888888888, \"#fdca26\"], [1.0, \"#f0f921\"]], \"sequentialminus\": [[0.0, \"#0d0887\"], [0.1111111111111111, \"#46039f\"], [0.2222222222222222, \"#7201a8\"], [0.3333333333333333, \"#9c179e\"], [0.4444444444444444, \"#bd3786\"], [0.5555555555555556, \"#d8576b\"], [0.6666666666666666, \"#ed7953\"], [0.7777777777777778, \"#fb9f3a\"], [0.8888888888888888, \"#fdca26\"], [1.0, \"#f0f921\"]]}, \"colorway\": [\"#636efa\", \"#EF553B\", \"#00cc96\", \"#ab63fa\", \"#FFA15A\", \"#19d3f3\", \"#FF6692\", \"#B6E880\", \"#FF97FF\", \"#FECB52\"], \"font\": {\"color\": \"#2a3f5f\"}, \"geo\": {\"bgcolor\": \"white\", \"lakecolor\": \"white\", \"landcolor\": \"#E5ECF6\", \"showlakes\": true, \"showland\": true, \"subunitcolor\": \"white\"}, \"hoverlabel\": {\"align\": \"left\"}, \"hovermode\": \"closest\", \"mapbox\": {\"style\": \"light\"}, \"paper_bgcolor\": \"white\", \"plot_bgcolor\": \"#E5ECF6\", \"polar\": {\"angularaxis\": {\"gridcolor\": \"white\", \"linecolor\": \"white\", \"ticks\": \"\"}, \"bgcolor\": \"#E5ECF6\", \"radialaxis\": {\"gridcolor\": \"white\", \"linecolor\": \"white\", \"ticks\": \"\"}}, \"scene\": {\"xaxis\": {\"backgroundcolor\": \"#E5ECF6\", \"gridcolor\": \"white\", \"gridwidth\": 2, \"linecolor\": \"white\", \"showbackground\": true, \"ticks\": \"\", \"zerolinecolor\": \"white\"}, \"yaxis\": {\"backgroundcolor\": \"#E5ECF6\", \"gridcolor\": \"white\", \"gridwidth\": 2, \"linecolor\": \"white\", \"showbackground\": true, \"ticks\": \"\", \"zerolinecolor\": \"white\"}, \"zaxis\": {\"backgroundcolor\": \"#E5ECF6\", \"gridcolor\": \"white\", \"gridwidth\": 2, \"linecolor\": \"white\", \"showbackground\": true, \"ticks\": \"\", \"zerolinecolor\": \"white\"}}, \"shapedefaults\": {\"line\": {\"color\": \"#2a3f5f\"}}, \"ternary\": {\"aaxis\": {\"gridcolor\": \"white\", \"linecolor\": \"white\", \"ticks\": \"\"}, \"baxis\": {\"gridcolor\": \"white\", \"linecolor\": \"white\", \"ticks\": \"\"}, \"bgcolor\": \"#E5ECF6\", \"caxis\": {\"gridcolor\": \"white\", \"linecolor\": \"white\", \"ticks\": \"\"}}, \"title\": {\"x\": 0.05}, \"xaxis\": {\"automargin\": true, \"gridcolor\": \"white\", \"linecolor\": \"white\", \"ticks\": \"\", \"title\": {\"standoff\": 15}, \"zerolinecolor\": \"white\", \"zerolinewidth\": 2}, \"yaxis\": {\"automargin\": true, \"gridcolor\": \"white\", \"linecolor\": \"white\", \"ticks\": \"\", \"title\": {\"standoff\": 15}, \"zerolinecolor\": \"white\", \"zerolinewidth\": 2}}}},\n",
       "                        {\"responsive\": true}\n",
       "                    ).then(function(){\n",
       "                            \n",
       "var gd = document.getElementById('77e038af-f4a1-4e6d-9b00-ec534b98d225');\n",
       "var x = new MutationObserver(function (mutations, observer) {{\n",
       "        var display = window.getComputedStyle(gd).display;\n",
       "        if (!display || display === 'none') {{\n",
       "            console.log([gd, 'removed!']);\n",
       "            Plotly.purge(gd);\n",
       "            observer.disconnect();\n",
       "        }}\n",
       "}});\n",
       "\n",
       "// Listen for the removal of the full notebook cells\n",
       "var notebookContainer = gd.closest('#notebook-container');\n",
       "if (notebookContainer) {{\n",
       "    x.observe(notebookContainer, {childList: true});\n",
       "}}\n",
       "\n",
       "// Listen for the clearing of the current output cell\n",
       "var outputEl = gd.closest('.output');\n",
       "if (outputEl) {{\n",
       "    x.observe(outputEl, {childList: true});\n",
       "}}\n",
       "\n",
       "                        })\n",
       "                };\n",
       "                \n",
       "            </script>\n",
       "        </div>\n",
       "</body>\n",
       "</html>"
      ]
     },
     "metadata": {
      "tags": []
     },
     "output_type": "display_data"
    }
   ],
   "source": [
    "#reference: https://plotly.com/python/3d-scatter-plots/\n",
    "x = tfidfw2v_res['param_n_estimator']\n",
    "y =  tfidfw2v_res['param_max_depth']\n",
    "z_test = tfidfw2v_res['mean_test_score']\n",
    "z_train = tfidfw2v_res['mean_train_score']\n",
    "trace1 = go.Scatter3d(x=x,y=y,z=z_train, name = 'train')\n",
    "trace2 = go.Scatter3d(x=x,y=y,z=z_test, name = 'Cross validation')\n",
    "data = [trace1, trace2]\n",
    "layout = go.Layout(scene = dict(\n",
    "        xaxis = dict(title='min_sample_split'),\n",
    "        yaxis = dict(title='max_depth'),\n",
    "        zaxis = dict(title='AUC'),))\n",
    "fig = go.Figure(data=data,layout=layout)\n",
    "fig.show()"
   ]
  },
  {
   "cell_type": "code",
   "execution_count": 29,
   "metadata": {
    "colab": {
     "base_uri": "https://localhost:8080/"
    },
    "id": "ucIVmKlwtfHO",
    "outputId": "5b71113c-4a9f-46ab-9bb6-5b8847718048"
   },
   "outputs": [
    {
     "data": {
      "text/plain": [
       "XGBClassifier(base_score=0.5, booster='gbtree', colsample_bylevel=1,\n",
       "              colsample_bynode=1, colsample_bytree=0.5, gamma=0.01,\n",
       "              learning_rate=0.1, max_delta_step=0, max_depth=5,\n",
       "              min_child_weight=1, missing=None, n_estimator=50,\n",
       "              n_estimators=100, n_jobs=1, nthread=None,\n",
       "              objective='binary:logistic', random_state=0, reg_alpha=0,\n",
       "              reg_lambda=1, scale_pos_weight=1, seed=None, silent=None,\n",
       "              subsample=1, verbosity=1)"
      ]
     },
     "execution_count": 29,
     "metadata": {
      "tags": []
     },
     "output_type": "execute_result"
    }
   ],
   "source": [
    "rsclf.best_estimator_"
   ]
  },
  {
   "cell_type": "markdown",
   "metadata": {
    "id": "Wg29mj6EJkEp"
   },
   "source": [
    "### Training model on best hyperparameters and plotting roc curve"
   ]
  },
  {
   "cell_type": "code",
   "execution_count": 36,
   "metadata": {
    "colab": {
     "base_uri": "https://localhost:8080/",
     "height": 295
    },
    "id": "BLgxzEVWLS_b",
    "outputId": "013c04f3-11e6-4346-83e2-e69798a7e252"
   },
   "outputs": [
    {
     "data": {
      "image/png": "[encoded data removed]",
      "text/plain": [
       "<Figure size 432x288 with 1 Axes>"
      ]
     },
     "metadata": {
      "needs_background": "light",
      "tags": []
     },
     "output_type": "display_data"
    }
   ],
   "source": [
    "# Reference: https://machinelearningmastery.com/develop-first-xgboost-model-python-scikit-learn/\n",
    "xgb_tfidfw2v = XGBClassifier(base_score=0.5, booster='gbtree', colsample_bylevel=1,\n",
    "              colsample_bynode=1, colsample_bytree=0.5, gamma=0.01,\n",
    "              learning_rate=0.1, max_delta_step=0, max_depth=5,\n",
    "              min_child_weight=1, missing=None, n_estimator=50,\n",
    "              n_estimators=100, n_jobs=1, nthread=None,\n",
    "              objective='binary:logistic', random_state=0, reg_alpha=0,\n",
    "              reg_lambda=1, scale_pos_weight=1, seed=None, silent=None,\n",
    "              subsample=1, verbosity=1)\n",
    "xgb_tfidfw2v.fit(X_train_w2vec,Y_train)\n",
    "# By default, the predictions made by XGBoost are probabilities\n",
    "y_train_pred_tfidfw2v = xgb_tfidfw2v.predict_proba(X_train_w2vec)[:,1] \n",
    "y_test_pred_tfidfw2v = xgb_tfidfw2v.predict_proba(X_test_w2vec)[:,1] \n",
    "train_fpr, train_tpr, train_thresholds = roc_curve(Y_train, y_train_pred_tfidfw2v)\n",
    "test_fpr, test_tpr, test_thresholds = roc_curve(Y_test, y_test_pred_tfidfw2v)\n",
    "\n",
    "plt.plot(train_fpr, train_tpr, label=\"train AUC =\"+str(auc(train_fpr, train_tpr)))\n",
    "plt.plot(test_fpr, test_tpr, label=\"test AUC =\"+str(auc(test_fpr, test_tpr)))\n",
    "plt.legend()\n",
    "plt.xlabel(\"False Positive Rate\")\n",
    "plt.ylabel(\"True Positive rate\")\n",
    "plt.title(\"ROC curve\")\n",
    "plt.grid()\n",
    "plt.show()\n",
    "\n",
    "\n"
   ]
  },
  {
   "cell_type": "markdown",
   "metadata": {
    "id": "-nDTPiF3KEzy"
   },
   "source": [
    "### Confusion Matrix"
   ]
  },
  {
   "cell_type": "code",
   "execution_count": 37,
   "metadata": {
    "colab": {
     "base_uri": "https://localhost:8080/"
    },
    "id": "k6AMVAdaLX3c",
    "outputId": "7e5cd851-0f32-411a-cc04-2a4f2a48993b"
   },
   "outputs": [
    {
     "name": "stdout",
     "output_type": "stream",
     "text": [
      "Training Confusion Matrix\n",
      "[[  405 12001]\n",
      " [   37 69493]]\n",
      "##################################################\n",
      "##################################################\n",
      "\n",
      "Test Confusion Matrix\n",
      "[[   48  4088]\n",
      " [   40 23136]]\n"
     ]
    }
   ],
   "source": [
    "print(\"Training Confusion Matrix\")\n",
    "y_train_pred_ = [round(value) for value in y_train_pred_tfidfw2v]\n",
    "print(confusion_matrix(Y_train, y_train_pred_))\n",
    "\n",
    "print(\"#\"*50)\n",
    "print(\"#\"*50)\n",
    "print(\"\\nTest Confusion Matrix\")\n",
    "y_test_pred_ = [round(value) for value in y_test_pred_tfidfw2v]\n",
    "print(confusion_matrix(Y_test, y_test_pred_))"
   ]
  },
  {
   "cell_type": "code",
   "execution_count": 38,
   "metadata": {
    "colab": {
     "base_uri": "https://localhost:8080/",
     "height": 282
    },
    "id": "K7S5VIMFA7py",
    "outputId": "f1378eb8-e8ed-4745-bc62-887eac194fd7"
   },
   "outputs": [
    {
     "data": {
      "text/plain": [
       "<matplotlib.axes._subplots.AxesSubplot at 0x7f9071a93978>"
      ]
     },
     "execution_count": 38,
     "metadata": {
      "tags": []
     },
     "output_type": "execute_result"
    },
    {
     "data": {
      "image/png": "[encoded data removed]",
      "text/plain": [
       "<Figure size 432x288 with 2 Axes>"
      ]
     },
     "metadata": {
      "needs_background": "light",
      "tags": []
     },
     "output_type": "display_data"
    }
   ],
   "source": [
    "confusion_m = pd.DataFrame(confusion_matrix(Y_train, y_train_pred_))\n",
    "sns.heatmap(confusion_m, annot=True,annot_kws={\"size\": 16}, fmt='g')"
   ]
  },
  {
   "cell_type": "code",
   "execution_count": 39,
   "metadata": {
    "colab": {
     "base_uri": "https://localhost:8080/",
     "height": 282
    },
    "id": "sz9Xhk2ZLylc",
    "outputId": "69b5808c-cbb2-4b82-e7e4-9d439b926f72"
   },
   "outputs": [
    {
     "data": {
      "text/plain": [
       "<matplotlib.axes._subplots.AxesSubplot at 0x7f9071651748>"
      ]
     },
     "execution_count": 39,
     "metadata": {
      "tags": []
     },
     "output_type": "execute_result"
    },
    {
     "data": {
      "image/png": "[encoded data removed]",
      "text/plain": [
       "<Figure size 432x288 with 2 Axes>"
      ]
     },
     "metadata": {
      "needs_background": "light",
      "tags": []
     },
     "output_type": "display_data"
    }
   ],
   "source": [
    "confusion_m = pd.DataFrame(confusion_matrix(Y_test, y_test_pred_))\n",
    "sns.heatmap(confusion_m, annot=True,annot_kws={\"size\": 16}, fmt='g')"
   ]
  },
  {
   "cell_type": "markdown",
   "metadata": {
    "id": "YhFN-lDWsc4G"
   },
   "source": [
    "<h1>3. Summary</h1>\n",
    "\n",
    "<br> as mentioned in the step 4 of instructions"
   ]
  },
  {
   "cell_type": "code",
   "execution_count": 45,
   "metadata": {
    "colab": {
     "base_uri": "https://localhost:8080/",
     "height": 111
    },
    "id": "6EeRIcHREE7n",
    "outputId": "b94928bc-0e6c-4873-8650-4a1a26e0dd36"
   },
   "outputs": [
    {
     "data": {
      "text/html": [
       "<div>\n",
       "<style scoped>\n",
       "    .dataframe tbody tr th:only-of-type {\n",
       "        vertical-align: middle;\n",
       "    }\n",
       "\n",
       "    .dataframe tbody tr th {\n",
       "        vertical-align: top;\n",
       "    }\n",
       "\n",
       "    .dataframe thead th {\n",
       "        text-align: right;\n",
       "    }\n",
       "</style>\n",
       "<table border=\"1\" class=\"dataframe\">\n",
       "  <thead>\n",
       "    <tr style=\"text-align: right;\">\n",
       "      <th></th>\n",
       "      <th>vectorizer</th>\n",
       "      <th>Model</th>\n",
       "      <th>gamma</th>\n",
       "      <th>max_depth</th>\n",
       "      <th>learning_rate</th>\n",
       "      <th>n_estimator</th>\n",
       "      <th>Test_AUC</th>\n",
       "      <th>Train_AUC</th>\n",
       "    </tr>\n",
       "  </thead>\n",
       "  <tbody>\n",
       "    <tr>\n",
       "      <th>0</th>\n",
       "      <td>TFIDF</td>\n",
       "      <td>GBDT</td>\n",
       "      <td>0.10</td>\n",
       "      <td>9</td>\n",
       "      <td>0.1</td>\n",
       "      <td>100</td>\n",
       "      <td>0.561899</td>\n",
       "      <td>0.898928</td>\n",
       "    </tr>\n",
       "    <tr>\n",
       "      <th>1</th>\n",
       "      <td>TFIDF_W2VEC</td>\n",
       "      <td>GBDT</td>\n",
       "      <td>0.01</td>\n",
       "      <td>5</td>\n",
       "      <td>0.1</td>\n",
       "      <td>50</td>\n",
       "      <td>0.700032</td>\n",
       "      <td>0.804773</td>\n",
       "    </tr>\n",
       "  </tbody>\n",
       "</table>\n",
       "</div>"
      ],
      "text/plain": [
       "    vectorizer Model  gamma  ...  n_estimator  Test_AUC  Train_AUC\n",
       "0        TFIDF  GBDT   0.10  ...          100  0.561899   0.898928\n",
       "1  TFIDF_W2VEC  GBDT   0.01  ...           50  0.700032   0.804773\n",
       "\n",
       "[2 rows x 8 columns]"
      ]
     },
     "execution_count": 45,
     "metadata": {
      "tags": []
     },
     "output_type": "execute_result"
    }
   ],
   "source": [
    "vectorizer =['TFIDF','TFIDF_W2VEC']\n",
    "Model = ['GBDT','GBDT']\n",
    "gamma =[0.1,0.01]\n",
    "n_estimator = [100,50]\n",
    "learning_rate = [0.1,0.1]\n",
    "max_depth =[9,5]\n",
    "\n",
    "Test_AUC = [0.5618988113579111,0.7000319834131086]\n",
    "Train_AUC = [0.8989281427109947,0.8047731940018075]\n",
    "\n",
    "summary = pd.DataFrame({'vectorizer':vectorizer,'Model':Model,'gamma':gamma,'max_depth':max_depth,\\\n",
    "                        'learning_rate':learning_rate,'n_estimator':n_estimator,'Test_AUC':Test_AUC,\n",
    "                       'Train_AUC':Train_AUC })\n",
    "summary"
   ]
  }
 ],
 "metadata": {
  "colab": {
   "collapsed_sections": [],
   "name": "13_Assignment_GBDT_Instructions.ipynb",
   "provenance": [],
   "toc_visible": true
  },
  "kernelspec": {
   "display_name": "Python 3",
   "language": "python",
   "name": "python3"
  },
  "language_info": {
   "codemirror_mode": {
    "name": "ipython",
    "version": 3
   },
   "file_extension": ".py",
   "mimetype": "text/x-python",
   "name": "python",
   "nbconvert_exporter": "python",
   "pygments_lexer": "ipython3",
   "version": "3.7.6"
  },
  "toc": {
   "base_numbering": 1,
   "nav_menu": {},
   "number_sections": true,
   "sideBar": true,
   "skip_h1_title": false,
   "title_cell": "Table of Contents",
   "title_sidebar": "Contents",
   "toc_cell": false,
   "toc_position": {},
   "toc_section_display": true,
   "toc_window_display": false
  }
 },
 "nbformat": 4,
 "nbformat_minor": 1
}
